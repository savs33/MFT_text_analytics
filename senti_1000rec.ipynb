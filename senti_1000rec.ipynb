{
 "cells": [
  {
   "cell_type": "markdown",
   "metadata": {},
   "source": [
    "# Importing Libraries"
   ]
  },
  {
   "cell_type": "code",
   "execution_count": 1,
   "metadata": {},
   "outputs": [
    {
     "name": "stderr",
     "output_type": "stream",
     "text": [
      "Using TensorFlow backend.\n"
     ]
    }
   ],
   "source": [
    "#!pip install keras\n",
    "#!pip install tensorflow\n",
    "#!pip install spacy\n",
    "import numpy as np\n",
    "import pandas as pd\n",
    "import csv\n",
    "import keras\n",
    "import sklearn\n",
    "import random\n",
    "from keras.preprocessing import sequence\n",
    "from keras.preprocessing.text import Tokenizer\n",
    "from sklearn import preprocessing\n",
    "from sklearn.base import BaseEstimator\n",
    "from sklearn.naive_bayes import MultinomialNB\n",
    "from sklearn.ensemble import RandomForestClassifier, GradientBoostingClassifier, ExtraTreesClassifier, AdaBoostClassifier\n",
    "import io\n",
    "import string\n",
    "#import spacy\n",
    "#from spacy.lang.en.stop_words import STOP_WORDS\n",
    "#from spacy.lang.en import English\n",
    "#import en_core_web_sm\n",
    "import pandas as pd\n",
    "from sklearn.feature_extraction.text import CountVectorizer,TfidfVectorizer\n",
    "from sklearn.base import TransformerMixin\n",
    "from sklearn.pipeline import Pipeline\n"
   ]
  },
  {
   "cell_type": "markdown",
   "metadata": {},
   "source": [
    "# Data Exploration"
   ]
  },
  {
   "cell_type": "code",
   "execution_count": 2,
   "metadata": {},
   "outputs": [
    {
     "name": "stdout",
     "output_type": "stream",
     "text": [
      "Reading text data for classification and building representations...\n"
     ]
    }
   ],
   "source": [
    "\n",
    "print (\"Reading text data for classification and building representations...\")\n",
    "df = pd.read_excel (\"C:\\\\Users\\\\v-savrav\\\\Text\\\\data\\\\datasetv1.xlsx\")"
   ]
  },
  {
   "cell_type": "code",
   "execution_count": 4,
   "metadata": {},
   "outputs": [],
   "source": [
    "df.columns\n",
    "df=df[:1000]"
   ]
  },
  {
   "cell_type": "markdown",
   "metadata": {},
   "source": [
    "# Input: 'Description'\n",
    "# Output :'PrimaryTopic'"
   ]
  },
  {
   "cell_type": "code",
   "execution_count": 5,
   "metadata": {},
   "outputs": [
    {
     "data": {
      "text/plain": [
       "14"
      ]
     },
     "execution_count": 5,
     "metadata": {},
     "output_type": "execute_result"
    }
   ],
   "source": [
    "num_classes = len( set(df['PrimaryTopic']) )\n",
    "num_classes"
   ]
  },
  {
   "cell_type": "code",
   "execution_count": 6,
   "metadata": {},
   "outputs": [
    {
     "data": {
      "text/plain": [
       "Invoice Management                423\n",
       "Travel and Expenses Management    146\n",
       "Payee Account Management          122\n",
       "General Request                   102\n",
       "Purchase Order Update              57\n",
       "MyOrder Requisition Request        49\n",
       "Disbursement                       36\n",
       "AP Reporting Request               22\n",
       "BC No action required              13\n",
       "FA COE                              9\n",
       "Tool Issues and Access              8\n",
       "MyOrder Action                      6\n",
       "AP No action required               6\n",
       "Recon Request                       1\n",
       "Name: PrimaryTopic, dtype: int64"
      ]
     },
     "execution_count": 6,
     "metadata": {},
     "output_type": "execute_result"
    }
   ],
   "source": [
    "df['PrimaryTopic'].value_counts()"
   ]
  },
  {
   "cell_type": "code",
   "execution_count": 7,
   "metadata": {},
   "outputs": [
    {
     "name": "stderr",
     "output_type": "stream",
     "text": [
      "[nltk_data] Downloading package stopwords to\n",
      "[nltk_data]     C:\\Users\\v-savrav\\AppData\\Roaming\\nltk_data...\n",
      "[nltk_data]   Package stopwords is already up-to-date!\n",
      "[nltk_data] Downloading package punkt to\n",
      "[nltk_data]     C:\\Users\\v-savrav\\AppData\\Roaming\\nltk_data...\n",
      "[nltk_data]   Package punkt is already up-to-date!\n",
      "[nltk_data] Downloading package wordnet to\n",
      "[nltk_data]     C:\\Users\\v-savrav\\AppData\\Roaming\\nltk_data...\n",
      "[nltk_data]   Package wordnet is already up-to-date!\n"
     ]
    }
   ],
   "source": [
    "import nltk\n",
    "nltk.download('stopwords')\n",
    "nltk.download('punkt')\n",
    "nltk.download('wordnet')\n",
    "from nltk.corpus import stopwords \n",
    "from nltk.stem import SnowballStemmer\n",
    "from nltk.stem import WordNetLemmatizer \n",
    "\n",
    "# Init the Wordnet Lemmatizer\n",
    "wordnet_lemmatizer = WordNetLemmatizer()\n",
    "#is based on The Porter Stemming Algorithm\n",
    "stopwords = stopwords.words(\"english\")\n",
    "snowball_stemmer = SnowballStemmer(\"english\")"
   ]
  },
  {
   "cell_type": "code",
   "execution_count": 8,
   "metadata": {},
   "outputs": [
    {
     "name": "stderr",
     "output_type": "stream",
     "text": [
      "C:\\Users\\v-savrav\\AppData\\Local\\Continuum\\anaconda3\\lib\\site-packages\\ipykernel_launcher.py:3: SettingWithCopyWarning: \n",
      "A value is trying to be set on a copy of a slice from a DataFrame.\n",
      "Try using .loc[row_indexer,col_indexer] = value instead\n",
      "\n",
      "See the caveats in the documentation: http://pandas.pydata.org/pandas-docs/stable/indexing.html#indexing-view-versus-copy\n",
      "  This is separate from the ipykernel package so we can avoid doing imports until\n"
     ]
    }
   ],
   "source": [
    "df_filtered = df[df['PrimaryTopic']== 'Invoice Management']\n",
    "df=df_filtered.dropna()\n",
    "df['Description']=df['Description'].astype(str)\n",
    "df=df.reset_index()\n",
    "# tokenization \n",
    "tokenized_doc = df['Description'].apply(lambda x: x.split())\n",
    "\n",
    "# remove stop-words \n",
    "\n",
    "tokenized_doc = tokenized_doc.apply(lambda x: [wordnet_lemmatizer.lemmatize(item) for item in x if item not in stopwords])\n",
    "#tokenized_doc = tokenized_doc.apply(lambda x: [snowball_stemmer.stem(item) for item in x ])\n",
    "# de-tokenization \n",
    "detokenized_doc = [] \n",
    "for i in range(len(df)): \n",
    "    t = ' '.join(tokenized_doc[i]) \n",
    "    detokenized_doc.append(t) \n",
    "\n",
    "df['Description'] = detokenized_doc"
   ]
  },
  {
   "cell_type": "code",
   "execution_count": 9,
   "metadata": {},
   "outputs": [],
   "source": [
    "import string\n",
    "\n",
    "def remove_punctuation(s):\n",
    "    s = ''.join([i for i in s if i not in frozenset(string.punctuation)])\n",
    "    return s\n",
    "df['Description']=df['Description'].astype(str)\n",
    "df['Description'] = df['Description'].apply(remove_punctuation)"
   ]
  },
  {
   "cell_type": "code",
   "execution_count": null,
   "metadata": {},
   "outputs": [],
   "source": [
    "Remove table"
   ]
  },
  {
   "cell_type": "code",
   "execution_count": 21,
   "metadata": {},
   "outputs": [],
   "source": [
    "corpus=df['Description']"
   ]
  },
  {
   "cell_type": "markdown",
   "metadata": {},
   "source": [
    "# Afinn"
   ]
  },
  {
   "cell_type": "code",
   "execution_count": 19,
   "metadata": {},
   "outputs": [],
   "source": [
    "#!pip install afinn \n",
    "from afinn import Afinn\n",
    "\n",
    "af= Afinn(emoticons=True)"
   ]
  },
  {
   "cell_type": "code",
   "execution_count": 25,
   "metadata": {},
   "outputs": [],
   "source": [
    "df['sentiment_scores'] = [af.score(article) for article in corpus]\n",
    "df['sentiment_category'] = ['positive' if score > 0 \n",
    "                          else 'negative' if score < 0 \n",
    "                              else 'neutral' \n",
    "                                  for score in sentiment_scores]"
   ]
  },
  {
   "cell_type": "code",
   "execution_count": 27,
   "metadata": {},
   "outputs": [],
   "source": [
    "df_sent=df[['Description','sentiment_scores','sentiment_category']]"
   ]
  },
  {
   "cell_type": "code",
   "execution_count": 46,
   "metadata": {},
   "outputs": [],
   "source": [
    "df_sent.to_excel('afinn.xlsx')"
   ]
  },
  {
   "cell_type": "code",
   "execution_count": 30,
   "metadata": {},
   "outputs": [
    {
     "data": {
      "text/plain": [
       "'Hi there   Just a reminder that the IHCC deadline is tomorrow   Thanks Tammie Hoedeman    Accounting  Tax Returns Lead   Accenture  Microsoft OneFinance   Achiever  Strategic  Learner  Responsibility  Relator       “You are what you repeatedly do Excellence then is not an act but a habit”  Aristotle'"
      ]
     },
     "execution_count": 30,
     "metadata": {},
     "output_type": "execute_result"
    }
   ],
   "source": [
    "df['Description'][0]"
   ]
  },
  {
   "cell_type": "markdown",
   "metadata": {},
   "source": [
    "# Text BLOB"
   ]
  },
  {
   "cell_type": "code",
   "execution_count": 31,
   "metadata": {},
   "outputs": [
    {
     "name": "stdout",
     "output_type": "stream",
     "text": [
      "Collecting textblob\n",
      "  Downloading https://files.pythonhosted.org/packages/60/f0/1d9bfcc8ee6b83472ec571406bd0dd51c0e6330ff1a51b2d29861d389e85/textblob-0.15.3-py2.py3-none-any.whl (636kB)\n",
      "Requirement already satisfied: nltk>=3.1 in c:\\users\\v-savrav\\appdata\\local\\continuum\\anaconda3\\lib\\site-packages (from textblob) (3.4.4)\n",
      "Requirement already satisfied: six in c:\\users\\v-savrav\\appdata\\local\\continuum\\anaconda3\\lib\\site-packages (from nltk>=3.1->textblob) (1.12.0)\n",
      "Installing collected packages: textblob\n",
      "Successfully installed textblob-0.15.3\n"
     ]
    }
   ],
   "source": [
    "!pip install textblob\n",
    "from textblob import TextBlob\n",
    "\n",
    "# compute sentiment scores (polarity) and labels\n",
    "dfsentiment_scores_tb = [round(TextBlob(article).sentiment.polarity, 3) for article in df['Description']]\n",
    "sentiment_category_tb = ['positive' if score > 0 \n",
    "                             else 'negative' if score < 0 \n",
    "                                 else 'neutral' \n",
    "                                     for score in sentiment_scores_tb]"
   ]
  },
  {
   "cell_type": "code",
   "execution_count": 35,
   "metadata": {},
   "outputs": [],
   "source": [
    "df_text_blob= pd.DataFrame([list(df['Description']), sentiment_scores_tb, sentiment_category_tb]).T"
   ]
  },
  {
   "cell_type": "code",
   "execution_count": 45,
   "metadata": {},
   "outputs": [],
   "source": [
    "df_text_blob.to_excel('textblob.xlsx')"
   ]
  },
  {
   "cell_type": "markdown",
   "metadata": {},
   "source": [
    "# VADER Sentiment Analysis \n",
    "\n",
    "VADER (Valence Aware Dictionary and sEntiment Reasoner) is a lexicon and rule-based sentiment analysis tool that is specifically attuned to sentiments expressed in social media. VADER uses a combination of A sentiment lexicon is a list of lexical features (e.g., words) which are generally labeled according to their semantic orientation as either positive or negative. VADER not only tells about the Positivity and Negativity score but also tells us about how positive or negative a sentiment is."
   ]
  },
  {
   "cell_type": "code",
   "execution_count": 42,
   "metadata": {},
   "outputs": [],
   "source": [
    "#!pip install vaderSentiment\n",
    "from vaderSentiment.vaderSentiment import SentimentIntensityAnalyzer\n",
    "     # analyze the sentiment for review\n",
    "analyzer = SentimentIntensityAnalyzer()\n",
    "\n",
    "# compute sentiment scores (polarity) and labels\n",
    "dfsentiment_scores_vader = [analyzer.polarity_scores(article) for article in df['Description']]\n",
    "sentiment_category_vader = ['positive' if score > 0 \n",
    "                             else 'negative' if score < 0 \n",
    "                                 else 'neutral' \n",
    "                                     for score in sentiment_scores_tb]"
   ]
  },
  {
   "cell_type": "code",
   "execution_count": 43,
   "metadata": {},
   "outputs": [],
   "source": [
    "df_vader= pd.DataFrame([list(df['Description']), dfsentiment_scores_vader, sentiment_category_vader]).T"
   ]
  },
  {
   "cell_type": "code",
   "execution_count": 44,
   "metadata": {},
   "outputs": [],
   "source": [
    "df_vader.to_excel('vader.xlsx')"
   ]
  },
  {
   "cell_type": "markdown",
   "metadata": {},
   "source": [
    "# Factorising the Primary Topic to ID"
   ]
  },
  {
   "cell_type": "code",
   "execution_count": 11,
   "metadata": {},
   "outputs": [
    {
     "data": {
      "text/html": [
       "<div>\n",
       "<style scoped>\n",
       "    .dataframe tbody tr th:only-of-type {\n",
       "        vertical-align: middle;\n",
       "    }\n",
       "\n",
       "    .dataframe tbody tr th {\n",
       "        vertical-align: top;\n",
       "    }\n",
       "\n",
       "    .dataframe thead th {\n",
       "        text-align: right;\n",
       "    }\n",
       "</style>\n",
       "<table border=\"1\" class=\"dataframe\">\n",
       "  <thead>\n",
       "    <tr style=\"text-align: right;\">\n",
       "      <th></th>\n",
       "      <th>index</th>\n",
       "      <th>PrimaryTopic</th>\n",
       "      <th>secondarytopic</th>\n",
       "      <th>Description</th>\n",
       "      <th>id</th>\n",
       "    </tr>\n",
       "  </thead>\n",
       "  <tbody>\n",
       "    <tr>\n",
       "      <th>0</th>\n",
       "      <td>4</td>\n",
       "      <td>Invoice Management</td>\n",
       "      <td>Einvoice- invoice copy requirement</td>\n",
       "      <td>Hi Prohelp team I request submit payment follo...</td>\n",
       "      <td>0</td>\n",
       "    </tr>\n",
       "    <tr>\n",
       "      <th>1</th>\n",
       "      <td>7</td>\n",
       "      <td>Invoice Management</td>\n",
       "      <td>Invoice Payment Status</td>\n",
       "      <td>Hola Se puede usar la tarjeta de MS para pagos...</td>\n",
       "      <td>1</td>\n",
       "    </tr>\n",
       "    <tr>\n",
       "      <th>2</th>\n",
       "      <td>8</td>\n",
       "      <td>Invoice Management</td>\n",
       "      <td>Invoice Payment Status</td>\n",
       "      <td>Talebiniz bize ulasti Degerli Müsterimiz Taleb...</td>\n",
       "      <td>1</td>\n",
       "    </tr>\n",
       "    <tr>\n",
       "      <th>3</th>\n",
       "      <td>9</td>\n",
       "      <td>Invoice Management</td>\n",
       "      <td>Statement of Account Request</td>\n",
       "      <td>QVR 1086  Austria</td>\n",
       "      <td>2</td>\n",
       "    </tr>\n",
       "    <tr>\n",
       "      <th>4</th>\n",
       "      <td>15</td>\n",
       "      <td>Invoice Management</td>\n",
       "      <td>Invoice Payment Status</td>\n",
       "      <td>Hi Team Good day We resubmitted invoice updati...</td>\n",
       "      <td>1</td>\n",
       "    </tr>\n",
       "  </tbody>\n",
       "</table>\n",
       "</div>"
      ],
      "text/plain": [
       "   index        PrimaryTopic                      secondarytopic  \\\n",
       "0      4  Invoice Management  Einvoice- invoice copy requirement   \n",
       "1      7  Invoice Management              Invoice Payment Status   \n",
       "2      8  Invoice Management              Invoice Payment Status   \n",
       "3      9  Invoice Management        Statement of Account Request   \n",
       "4     15  Invoice Management              Invoice Payment Status   \n",
       "\n",
       "                                         Description  id  \n",
       "0  Hi Prohelp team I request submit payment follo...   0  \n",
       "1  Hola Se puede usar la tarjeta de MS para pagos...   1  \n",
       "2  Talebiniz bize ulasti Degerli Müsterimiz Taleb...   1  \n",
       "3                                  QVR 1086  Austria   2  \n",
       "4  Hi Team Good day We resubmitted invoice updati...   1  "
      ]
     },
     "execution_count": 11,
     "metadata": {},
     "output_type": "execute_result"
    }
   ],
   "source": [
    "df['id'] = df['secondarytopic'].factorize()[0]\n",
    "category_id_df = df[['secondarytopic', 'id']].drop_duplicates().sort_values('id')\n",
    "category_to_id = dict(category_id_df.values)\n",
    "id_to_category = dict(category_id_df[['id', 'secondarytopic']].values)\n",
    "df.head()"
   ]
  },
  {
   "cell_type": "code",
   "execution_count": 10,
   "metadata": {},
   "outputs": [
    {
     "data": {
      "text/plain": [
       "1000"
      ]
     },
     "execution_count": 10,
     "metadata": {},
     "output_type": "execute_result"
    }
   ],
   "source": [
    "len(df)"
   ]
  },
  {
   "cell_type": "markdown",
   "metadata": {},
   "source": [
    "# Removing NULL records"
   ]
  },
  {
   "cell_type": "markdown",
   "metadata": {},
   "source": [
    "# Imbalanced Classes\n",
    "We see that the number of complaints per product is imbalanced. Consumers’ complaints are more biased towards \n",
    "Invoice Management, Payee Account Management and Travel and Expenses Management.\n",
    "\n",
    "\n",
    "However, in our case of learning imbalanced data, the majority classes might be of our great interest. It is desirable to have a classifier that gives high prediction accuracy over the majority class, while maintaining reasonable accuracy\n",
    "for the minority classes. Therefore, we will leave it as it is."
   ]
  },
  {
   "cell_type": "code",
   "execution_count": 15,
   "metadata": {},
   "outputs": [
    {
     "data": {
      "text/plain": [
       "<Figure size 1000x600 with 1 Axes>"
      ]
     },
     "metadata": {},
     "output_type": "display_data"
    }
   ],
   "source": [
    "import matplotlib.pyplot as plt\n",
    "fig = plt.figure(figsize=(10,6))\n",
    "df.groupby('secondarytopic').Description.count().plot.bar(ylim=0)\n",
    "plt.show()"
   ]
  },
  {
   "cell_type": "code",
   "execution_count": 16,
   "metadata": {},
   "outputs": [],
   "source": [
    "X=df['Description']\n",
    "labels=labels = df.id"
   ]
  },
  {
   "cell_type": "markdown",
   "metadata": {},
   "source": [
    "# Text Representation"
   ]
  },
  {
   "cell_type": "code",
   "execution_count": 17,
   "metadata": {},
   "outputs": [],
   "source": [
    "from sklearn.feature_extraction.text import CountVectorizer,TfidfTransformer\n",
    "count_vect=CountVectorizer(max_df=0.95, min_df=2,\n",
    "                                #max_features=n_features,\n",
    "                                stop_words='english')"
   ]
  },
  {
   "cell_type": "code",
   "execution_count": 18,
   "metadata": {},
   "outputs": [],
   "source": [
    "X_counts = count_vect.fit_transform(X)"
   ]
  },
  {
   "cell_type": "code",
   "execution_count": 19,
   "metadata": {},
   "outputs": [],
   "source": [
    "tfidf_transformer = TfidfTransformer()\n",
    "features = tfidf_transformer.fit_transform(X_counts)"
   ]
  },
  {
   "cell_type": "code",
   "execution_count": 38,
   "metadata": {},
   "outputs": [],
   "source": [
    "from sklearn.feature_extraction.text import HashingVectorizer\n",
    "\n",
    "vector = HashingVectorizer(decode_error = 'ignore',\n",
    "                          n_features = 2**21,\n",
    "                          preprocessor = None,\n",
    "                           encoding='utf-8')"
   ]
  },
  {
   "cell_type": "code",
   "execution_count": 39,
   "metadata": {},
   "outputs": [
    {
     "data": {
      "text/plain": [
       "HashingVectorizer(alternate_sign=True, analyzer='word', binary=False,\n",
       "                  decode_error='ignore', dtype=<class 'numpy.float64'>,\n",
       "                  encoding='utf-8', input='content', lowercase=True,\n",
       "                  n_features=2097152, ngram_range=(1, 1), norm='l2',\n",
       "                  preprocessor=None, stop_words=None, strip_accents=None,\n",
       "                  token_pattern='(?u)\\\\b\\\\w\\\\w+\\\\b', tokenizer=None)"
      ]
     },
     "execution_count": 39,
     "metadata": {},
     "output_type": "execute_result"
    }
   ],
   "source": [
    "vector"
   ]
  },
  {
   "cell_type": "code",
   "execution_count": 57,
   "metadata": {},
   "outputs": [
    {
     "name": "stdout",
     "output_type": "stream",
     "text": [
      "(2, 2097152)\n"
     ]
    }
   ],
   "source": [
    "X = vector.fit_transform(df1)\n",
    "print(X.shape)"
   ]
  },
  {
   "cell_type": "code",
   "execution_count": 20,
   "metadata": {},
   "outputs": [
    {
     "data": {
      "text/plain": [
       "(39846, 83913)"
      ]
     },
     "execution_count": 20,
     "metadata": {},
     "output_type": "execute_result"
    }
   ],
   "source": [
    "features.shape"
   ]
  },
  {
   "cell_type": "markdown",
   "metadata": {},
   "source": [
    "Now, each of 3827 consumer complaint narratives is represented by 913 features, representing the tf-idf score for different unigrams and bigrams."
   ]
  },
  {
   "cell_type": "markdown",
   "metadata": {},
   "source": [
    "# Model Training -Bayesian Classification"
   ]
  },
  {
   "cell_type": "code",
   "execution_count": 22,
   "metadata": {},
   "outputs": [],
   "source": [
    "from sklearn.model_selection import train_test_split\n",
    "from sklearn.naive_bayes import MultinomialNB\n",
    "X_train, X_test, y_train, y_test = train_test_split(features,labels, random_state = 0)\n",
    "clf = MultinomialNB().fit(X_train, y_train)"
   ]
  },
  {
   "cell_type": "code",
   "execution_count": 60,
   "metadata": {},
   "outputs": [],
   "source": [
    "def tweetGenerator(df):\n",
    "    \"\"\"\n",
    "    This function takes a tweet from the data frame\n",
    "    and returns the text of the tweet as well as the sentiment label\n",
    "    \"\"\"\n",
    "    for row in df.itertuples():\n",
    "        label = row[1]\n",
    "        tweet = row[2]\n",
    "        yield tweet, label"
   ]
  },
  {
   "cell_type": "code",
   "execution_count": null,
   "metadata": {},
   "outputs": [],
   "source": [
    "# Group values for Series and add 'cnt' column with count\n",
    "df1['cnt'] = df1.groupby(['Series'])['id'].transform('count')\n",
    "# Drop indexes for count value == 1, and dropping 'cnt' column\n",
    "df.drop(df[df.cnt==1].index)[['Country','Series']]"
   ]
  },
  {
   "cell_type": "code",
   "execution_count": 65,
   "metadata": {},
   "outputs": [],
   "source": [
    "vc=df1['id'].value_counts()\n",
    "u  = [i not in set(vc[vc==1].index) for i in df1['id']]\n",
    "df1 = df1[u]"
   ]
  },
  {
   "cell_type": "code",
   "execution_count": 69,
   "metadata": {},
   "outputs": [
    {
     "data": {
      "text/html": [
       "<div>\n",
       "<style scoped>\n",
       "    .dataframe tbody tr th:only-of-type {\n",
       "        vertical-align: middle;\n",
       "    }\n",
       "\n",
       "    .dataframe tbody tr th {\n",
       "        vertical-align: top;\n",
       "    }\n",
       "\n",
       "    .dataframe thead th {\n",
       "        text-align: right;\n",
       "    }\n",
       "</style>\n",
       "<table border=\"1\" class=\"dataframe\">\n",
       "  <thead>\n",
       "    <tr style=\"text-align: right;\">\n",
       "      <th></th>\n",
       "      <th>Description</th>\n",
       "      <th>id</th>\n",
       "    </tr>\n",
       "  </thead>\n",
       "  <tbody>\n",
       "    <tr>\n",
       "      <th>0</th>\n",
       "      <td>Hi Prohelp team I request submit payment follo...</td>\n",
       "      <td>0</td>\n",
       "    </tr>\n",
       "    <tr>\n",
       "      <th>1</th>\n",
       "      <td>Hola Se puede usar la tarjeta de MS para pagos...</td>\n",
       "      <td>1</td>\n",
       "    </tr>\n",
       "    <tr>\n",
       "      <th>2</th>\n",
       "      <td>Talebiniz bize ulasti Degerli Müsterimiz Taleb...</td>\n",
       "      <td>1</td>\n",
       "    </tr>\n",
       "    <tr>\n",
       "      <th>3</th>\n",
       "      <td>QVR 1086  Austria</td>\n",
       "      <td>2</td>\n",
       "    </tr>\n",
       "    <tr>\n",
       "      <th>4</th>\n",
       "      <td>Hi Team Good day We resubmitted invoice updati...</td>\n",
       "      <td>1</td>\n",
       "    </tr>\n",
       "    <tr>\n",
       "      <th>5</th>\n",
       "      <td>Accounts Payable Reconciliation  2297780  Prim...</td>\n",
       "      <td>2</td>\n",
       "    </tr>\n",
       "    <tr>\n",
       "      <th>6</th>\n",
       "      <td>Hi I’m trying approve invoice system return er...</td>\n",
       "      <td>1</td>\n",
       "    </tr>\n",
       "    <tr>\n",
       "      <th>7</th>\n",
       "      <td>Dear Sirs received payment Microsoft Global Fi...</td>\n",
       "      <td>1</td>\n",
       "    </tr>\n",
       "    <tr>\n",
       "      <th>8</th>\n",
       "      <td>From AMERICAN EXPRESS INTL SA Adobe Acrobat Re...</td>\n",
       "      <td>1</td>\n",
       "    </tr>\n",
       "    <tr>\n",
       "      <th>9</th>\n",
       "      <td>From AMERICAN EXPRESS INTL SA Adobe Acrobat Re...</td>\n",
       "      <td>1</td>\n",
       "    </tr>\n",
       "    <tr>\n",
       "      <th>10</th>\n",
       "      <td>Accounts Payable Reconciliation  3019892  Sode...</td>\n",
       "      <td>2</td>\n",
       "    </tr>\n",
       "    <tr>\n",
       "      <th>11</th>\n",
       "      <td>Hi Team PO Best Regards   WendyLing   Microsof...</td>\n",
       "      <td>1</td>\n",
       "    </tr>\n",
       "    <tr>\n",
       "      <th>12</th>\n",
       "      <td>Boa tarde Podem por favor verificar pagamento ...</td>\n",
       "      <td>1</td>\n",
       "    </tr>\n",
       "    <tr>\n",
       "      <th>13</th>\n",
       "      <td>Hello Team Could please verify invoice paid Ge...</td>\n",
       "      <td>1</td>\n",
       "    </tr>\n",
       "    <tr>\n",
       "      <th>14</th>\n",
       "      <td>Tisztelt Partnerünk Köszönjük hogy nálunk vásá...</td>\n",
       "      <td>3</td>\n",
       "    </tr>\n",
       "    <tr>\n",
       "      <th>15</th>\n",
       "      <td>Core Services Engineering Operations Here info...</td>\n",
       "      <td>1</td>\n",
       "    </tr>\n",
       "    <tr>\n",
       "      <th>16</th>\n",
       "      <td>Dear Customer In order keep smooth timely rece...</td>\n",
       "      <td>1</td>\n",
       "    </tr>\n",
       "    <tr>\n",
       "      <th>17</th>\n",
       "      <td>Kære Microsoft Danmark ApS Tak dit køb en af v...</td>\n",
       "      <td>3</td>\n",
       "    </tr>\n",
       "    <tr>\n",
       "      <th>18</th>\n",
       "      <td>Hi Prohelp  Need assistance status invoice sup...</td>\n",
       "      <td>3</td>\n",
       "    </tr>\n",
       "    <tr>\n",
       "      <th>19</th>\n",
       "      <td>Hi Leanny I’m adding support team assist this ...</td>\n",
       "      <td>3</td>\n",
       "    </tr>\n",
       "    <tr>\n",
       "      <th>20</th>\n",
       "      <td>Buen dia Pido su colaboración confirmando pago...</td>\n",
       "      <td>1</td>\n",
       "    </tr>\n",
       "    <tr>\n",
       "      <th>21</th>\n",
       "      <td>Hi Team Please release GST payment per attache...</td>\n",
       "      <td>1</td>\n",
       "    </tr>\n",
       "    <tr>\n",
       "      <th>22</th>\n",
       "      <td>Version Française NIEUWSTE OPDRACHTEN Bekijk d...</td>\n",
       "      <td>1</td>\n",
       "    </tr>\n",
       "    <tr>\n",
       "      <th>23</th>\n",
       "      <td>Updates Yammer group 1 group new activity All ...</td>\n",
       "      <td>1</td>\n",
       "    </tr>\n",
       "    <tr>\n",
       "      <th>24</th>\n",
       "      <td>Estimado Cliente Agradecemos no pueda indicar ...</td>\n",
       "      <td>1</td>\n",
       "    </tr>\n",
       "    <tr>\n",
       "      <th>25</th>\n",
       "      <td>Dear Valued Business Partner This automated re...</td>\n",
       "      <td>3</td>\n",
       "    </tr>\n",
       "    <tr>\n",
       "      <th>26</th>\n",
       "      <td>Dear Valued Business Partner This automated re...</td>\n",
       "      <td>3</td>\n",
       "    </tr>\n",
       "    <tr>\n",
       "      <th>27</th>\n",
       "      <td>Dear Valued Business Partner This automated re...</td>\n",
       "      <td>3</td>\n",
       "    </tr>\n",
       "    <tr>\n",
       "      <th>28</th>\n",
       "      <td>Hi Is invoice buying hardware new hire Ananth ...</td>\n",
       "      <td>4</td>\n",
       "    </tr>\n",
       "    <tr>\n",
       "      <th>29</th>\n",
       "      <td>MS Korea Accounts Payable apkrmic...</td>\n",
       "      <td>1</td>\n",
       "    </tr>\n",
       "    <tr>\n",
       "      <th>...</th>\n",
       "      <td>...</td>\n",
       "      <td>...</td>\n",
       "    </tr>\n",
       "    <tr>\n",
       "      <th>39816</th>\n",
       "      <td>Hi Team Please help this I need go back client...</td>\n",
       "      <td>1</td>\n",
       "    </tr>\n",
       "    <tr>\n",
       "      <th>39817</th>\n",
       "      <td>Merhabalar Uzun zamandir sari ile boyadigim fa...</td>\n",
       "      <td>1</td>\n",
       "    </tr>\n",
       "    <tr>\n",
       "      <th>39818</th>\n",
       "      <td>7601939504 Sehr geehrte Damen und Herrenhabe i...</td>\n",
       "      <td>3</td>\n",
       "    </tr>\n",
       "    <tr>\n",
       "      <th>39819</th>\n",
       "      <td>Hi AP I absolutely idea Gulp consulting servic...</td>\n",
       "      <td>4</td>\n",
       "    </tr>\n",
       "    <tr>\n",
       "      <th>39820</th>\n",
       "      <td>SOAGAIA SMART CITIES SOLUTIONS PVT LTD30215461...</td>\n",
       "      <td>2</td>\n",
       "    </tr>\n",
       "    <tr>\n",
       "      <th>39821</th>\n",
       "      <td>Hi AP Plesae allocate invoice expense mentione...</td>\n",
       "      <td>5</td>\n",
       "    </tr>\n",
       "    <tr>\n",
       "      <th>39822</th>\n",
       "      <td>Hei Her er fakturaen ditt kjøp ho Dustin Vi tr...</td>\n",
       "      <td>3</td>\n",
       "    </tr>\n",
       "    <tr>\n",
       "      <th>39823</th>\n",
       "      <td>The Automated Purchase Order Close Program com...</td>\n",
       "      <td>3</td>\n",
       "    </tr>\n",
       "    <tr>\n",
       "      <th>39824</th>\n",
       "      <td>Dear Team Please find Invoice wise AR detail M...</td>\n",
       "      <td>1</td>\n",
       "    </tr>\n",
       "    <tr>\n",
       "      <th>39825</th>\n",
       "      <td>Hi Team Kindly get help 3 invoices I’ve tried ...</td>\n",
       "      <td>5</td>\n",
       "    </tr>\n",
       "    <tr>\n",
       "      <th>39826</th>\n",
       "      <td>Dear Team Attached NJ debit Note FM’s approval...</td>\n",
       "      <td>1</td>\n",
       "    </tr>\n",
       "    <tr>\n",
       "      <th>39827</th>\n",
       "      <td>Hi AP Please upload attached invoice Please re...</td>\n",
       "      <td>5</td>\n",
       "    </tr>\n",
       "    <tr>\n",
       "      <th>39828</th>\n",
       "      <td>Dear administrator This isn’t invoice it’s ord...</td>\n",
       "      <td>1</td>\n",
       "    </tr>\n",
       "    <tr>\n",
       "      <th>39829</th>\n",
       "      <td>Hi All For ANZ Smart Choice Employer Super Pla...</td>\n",
       "      <td>3</td>\n",
       "    </tr>\n",
       "    <tr>\n",
       "      <th>39830</th>\n",
       "      <td>Hi Team Greetings MRM End To End Please find a...</td>\n",
       "      <td>1</td>\n",
       "    </tr>\n",
       "    <tr>\n",
       "      <th>39831</th>\n",
       "      <td>Estimado Cliente Hemos recibido su correo elec...</td>\n",
       "      <td>1</td>\n",
       "    </tr>\n",
       "    <tr>\n",
       "      <th>39832</th>\n",
       "      <td>Ref  910284707 Veuillez trouver cijoint un cou...</td>\n",
       "      <td>1</td>\n",
       "    </tr>\n",
       "    <tr>\n",
       "      <th>39833</th>\n",
       "      <td>For ticket creation From Kelvin Goh Sent Sunda...</td>\n",
       "      <td>1</td>\n",
       "    </tr>\n",
       "    <tr>\n",
       "      <th>39834</th>\n",
       "      <td>HI Team Could please let know difference invoi...</td>\n",
       "      <td>1</td>\n",
       "    </tr>\n",
       "    <tr>\n",
       "      <th>39835</th>\n",
       "      <td>Buenos días Agradezco si brindan fecha de pago...</td>\n",
       "      <td>1</td>\n",
       "    </tr>\n",
       "    <tr>\n",
       "      <th>39836</th>\n",
       "      <td>Sent AP E  Invoice approver updated  sent AP H...</td>\n",
       "      <td>5</td>\n",
       "    </tr>\n",
       "    <tr>\n",
       "      <th>39837</th>\n",
       "      <td>ATTNINVGPRPREQUEST V 4568510 Issaquah Soccer C...</td>\n",
       "      <td>12</td>\n",
       "    </tr>\n",
       "    <tr>\n",
       "      <th>39838</th>\n",
       "      <td>Dear Vendor Having received invoices attached ...</td>\n",
       "      <td>5</td>\n",
       "    </tr>\n",
       "    <tr>\n",
       "      <th>39839</th>\n",
       "      <td>jecc0615    Ai Kadoki Business Guest  2018615...</td>\n",
       "      <td>7</td>\n",
       "    </tr>\n",
       "    <tr>\n",
       "      <th>39840</th>\n",
       "      <td>Hello P2P Your help needed vjelebr longer work...</td>\n",
       "      <td>4</td>\n",
       "    </tr>\n",
       "    <tr>\n",
       "      <th>39841</th>\n",
       "      <td>REPLY line respond Good afternoon We received ...</td>\n",
       "      <td>1</td>\n",
       "    </tr>\n",
       "    <tr>\n",
       "      <th>39842</th>\n",
       "      <td>The enclosed PDF file contains current months ...</td>\n",
       "      <td>6</td>\n",
       "    </tr>\n",
       "    <tr>\n",
       "      <th>39843</th>\n",
       "      <td>Geachte In bijlage vindt u onze ingebrekestell...</td>\n",
       "      <td>1</td>\n",
       "    </tr>\n",
       "    <tr>\n",
       "      <th>39844</th>\n",
       "      <td>Icon Conference Event Management View invoice ...</td>\n",
       "      <td>3</td>\n",
       "    </tr>\n",
       "    <tr>\n",
       "      <th>39845</th>\n",
       "      <td>ATTN INVGPRP REQUEST Vendor 0004566664 Law Off...</td>\n",
       "      <td>12</td>\n",
       "    </tr>\n",
       "  </tbody>\n",
       "</table>\n",
       "<p>39843 rows × 2 columns</p>\n",
       "</div>"
      ],
      "text/plain": [
       "                                             Description  id\n",
       "0      Hi Prohelp team I request submit payment follo...   0\n",
       "1      Hola Se puede usar la tarjeta de MS para pagos...   1\n",
       "2      Talebiniz bize ulasti Degerli Müsterimiz Taleb...   1\n",
       "3                                      QVR 1086  Austria   2\n",
       "4      Hi Team Good day We resubmitted invoice updati...   1\n",
       "5      Accounts Payable Reconciliation  2297780  Prim...   2\n",
       "6      Hi I’m trying approve invoice system return er...   1\n",
       "7      Dear Sirs received payment Microsoft Global Fi...   1\n",
       "8      From AMERICAN EXPRESS INTL SA Adobe Acrobat Re...   1\n",
       "9      From AMERICAN EXPRESS INTL SA Adobe Acrobat Re...   1\n",
       "10     Accounts Payable Reconciliation  3019892  Sode...   2\n",
       "11     Hi Team PO Best Regards   WendyLing   Microsof...   1\n",
       "12     Boa tarde Podem por favor verificar pagamento ...   1\n",
       "13     Hello Team Could please verify invoice paid Ge...   1\n",
       "14     Tisztelt Partnerünk Köszönjük hogy nálunk vásá...   3\n",
       "15     Core Services Engineering Operations Here info...   1\n",
       "16     Dear Customer In order keep smooth timely rece...   1\n",
       "17     Kære Microsoft Danmark ApS Tak dit køb en af v...   3\n",
       "18     Hi Prohelp  Need assistance status invoice sup...   3\n",
       "19     Hi Leanny I’m adding support team assist this ...   3\n",
       "20     Buen dia Pido su colaboración confirmando pago...   1\n",
       "21     Hi Team Please release GST payment per attache...   1\n",
       "22     Version Française NIEUWSTE OPDRACHTEN Bekijk d...   1\n",
       "23     Updates Yammer group 1 group new activity All ...   1\n",
       "24     Estimado Cliente Agradecemos no pueda indicar ...   1\n",
       "25     Dear Valued Business Partner This automated re...   3\n",
       "26     Dear Valued Business Partner This automated re...   3\n",
       "27     Dear Valued Business Partner This automated re...   3\n",
       "28     Hi Is invoice buying hardware new hire Ananth ...   4\n",
       "29                  MS Korea Accounts Payable apkrmic...   1\n",
       "...                                                  ...  ..\n",
       "39816  Hi Team Please help this I need go back client...   1\n",
       "39817  Merhabalar Uzun zamandir sari ile boyadigim fa...   1\n",
       "39818  7601939504 Sehr geehrte Damen und Herrenhabe i...   3\n",
       "39819  Hi AP I absolutely idea Gulp consulting servic...   4\n",
       "39820  SOAGAIA SMART CITIES SOLUTIONS PVT LTD30215461...   2\n",
       "39821  Hi AP Plesae allocate invoice expense mentione...   5\n",
       "39822  Hei Her er fakturaen ditt kjøp ho Dustin Vi tr...   3\n",
       "39823  The Automated Purchase Order Close Program com...   3\n",
       "39824  Dear Team Please find Invoice wise AR detail M...   1\n",
       "39825  Hi Team Kindly get help 3 invoices I’ve tried ...   5\n",
       "39826  Dear Team Attached NJ debit Note FM’s approval...   1\n",
       "39827  Hi AP Please upload attached invoice Please re...   5\n",
       "39828  Dear administrator This isn’t invoice it’s ord...   1\n",
       "39829  Hi All For ANZ Smart Choice Employer Super Pla...   3\n",
       "39830  Hi Team Greetings MRM End To End Please find a...   1\n",
       "39831  Estimado Cliente Hemos recibido su correo elec...   1\n",
       "39832  Ref  910284707 Veuillez trouver cijoint un cou...   1\n",
       "39833  For ticket creation From Kelvin Goh Sent Sunda...   1\n",
       "39834  HI Team Could please let know difference invoi...   1\n",
       "39835  Buenos días Agradezco si brindan fecha de pago...   1\n",
       "39836  Sent AP E  Invoice approver updated  sent AP H...   5\n",
       "39837  ATTNINVGPRPREQUEST V 4568510 Issaquah Soccer C...  12\n",
       "39838  Dear Vendor Having received invoices attached ...   5\n",
       "39839   jecc0615    Ai Kadoki Business Guest  2018615...   7\n",
       "39840  Hello P2P Your help needed vjelebr longer work...   4\n",
       "39841  REPLY line respond Good afternoon We received ...   1\n",
       "39842  The enclosed PDF file contains current months ...   6\n",
       "39843  Geachte In bijlage vindt u onze ingebrekestell...   1\n",
       "39844  Icon Conference Event Management View invoice ...   3\n",
       "39845  ATTN INVGPRP REQUEST Vendor 0004566664 Law Off...  12\n",
       "\n",
       "[39843 rows x 2 columns]"
      ]
     },
     "execution_count": 69,
     "metadata": {},
     "output_type": "execute_result"
    }
   ],
   "source": [
    "df1"
   ]
  },
  {
   "cell_type": "code",
   "execution_count": 61,
   "metadata": {},
   "outputs": [],
   "source": [
    "from sklearn.naive_bayes import MultinomialNB\n",
    "MNBclassifier = MultinomialNB(alpha = 0.01)\n",
    "tweet_gen = tweetGenerator(df1)"
   ]
  },
  {
   "cell_type": "code",
   "execution_count": 75,
   "metadata": {},
   "outputs": [],
   "source": [
    "#!pip install pyprind\n",
    "import pyprind\n",
    "batchSize = 5000\n",
    "totalTweets = len(df1)\n",
    "#totalTweets = 150001\n",
    "iterations = totalTweets/batchSize\n",
    "progressBar = pyprind.ProgBar(iterations)\n",
    "\n",
    "classes = np.array([0, 22])"
   ]
  },
  {
   "cell_type": "code",
   "execution_count": 76,
   "metadata": {},
   "outputs": [
    {
     "data": {
      "text/plain": [
       "39843"
      ]
     },
     "execution_count": 76,
     "metadata": {},
     "output_type": "execute_result"
    }
   ],
   "source": [
    "totalTweets"
   ]
  },
  {
   "cell_type": "code",
   "execution_count": 73,
   "metadata": {},
   "outputs": [
    {
     "ename": "TypeError",
     "evalue": "'float' object cannot be interpreted as an integer",
     "output_type": "error",
     "traceback": [
      "\u001b[1;31m---------------------------------------------------------------------------\u001b[0m",
      "\u001b[1;31mTypeError\u001b[0m                                 Traceback (most recent call last)",
      "\u001b[1;32m<ipython-input-73-03bfd2c9dc2c>\u001b[0m in \u001b[0;36m<module>\u001b[1;34m\u001b[0m\n\u001b[1;32m----> 1\u001b[1;33m \u001b[1;32mfor\u001b[0m \u001b[0mi\u001b[0m \u001b[1;32min\u001b[0m \u001b[0mrange\u001b[0m\u001b[1;33m(\u001b[0m\u001b[0miterations\u001b[0m\u001b[1;33m)\u001b[0m\u001b[1;33m:\u001b[0m\u001b[1;33m\u001b[0m\u001b[1;33m\u001b[0m\u001b[0m\n\u001b[0m\u001b[0;32m      2\u001b[0m     \u001b[0mX_train\u001b[0m\u001b[1;33m,\u001b[0m \u001b[0my_train\u001b[0m \u001b[1;33m=\u001b[0m \u001b[0mgetBatch\u001b[0m\u001b[1;33m(\u001b[0m\u001b[0mtweet_gen\u001b[0m\u001b[1;33m,\u001b[0m \u001b[0msize\u001b[0m\u001b[1;33m=\u001b[0m\u001b[0mbatchSize\u001b[0m\u001b[1;33m)\u001b[0m\u001b[1;33m\u001b[0m\u001b[1;33m\u001b[0m\u001b[0m\n\u001b[0;32m      3\u001b[0m     \u001b[0mX_train\u001b[0m \u001b[1;33m=\u001b[0m \u001b[0mvector\u001b[0m\u001b[1;33m.\u001b[0m\u001b[0mtransform\u001b[0m\u001b[1;33m(\u001b[0m\u001b[0mX_train\u001b[0m\u001b[1;33m)\u001b[0m\u001b[1;33m\u001b[0m\u001b[1;33m\u001b[0m\u001b[0m\n\u001b[0;32m      4\u001b[0m     \u001b[0mMNBclassifier\u001b[0m\u001b[1;33m.\u001b[0m\u001b[0mpartial_fit\u001b[0m\u001b[1;33m(\u001b[0m\u001b[0mX_train\u001b[0m\u001b[1;33m,\u001b[0m \u001b[0my_train\u001b[0m\u001b[1;33m,\u001b[0m \u001b[0mclasses\u001b[0m\u001b[1;33m=\u001b[0m\u001b[0mclasses\u001b[0m\u001b[1;33m)\u001b[0m\u001b[1;33m\u001b[0m\u001b[1;33m\u001b[0m\u001b[0m\n\u001b[0;32m      5\u001b[0m     \u001b[0mBernoulliNBclassifier\u001b[0m\u001b[1;33m.\u001b[0m\u001b[0mpartial_fit\u001b[0m\u001b[1;33m(\u001b[0m\u001b[0mX_train\u001b[0m\u001b[1;33m,\u001b[0m \u001b[0my_train\u001b[0m\u001b[1;33m,\u001b[0m \u001b[0mclasses\u001b[0m\u001b[1;33m=\u001b[0m\u001b[0mclasses\u001b[0m\u001b[1;33m)\u001b[0m\u001b[1;33m\u001b[0m\u001b[1;33m\u001b[0m\u001b[0m\n",
      "\u001b[1;31mTypeError\u001b[0m: 'float' object cannot be interpreted as an integer"
     ]
    }
   ],
   "source": [
    "for i in range(iterations):\n",
    "    X_train, y_train = getBatch(tweet_gen, size=batchSize)\n",
    "    X_train = vector.transform(X_train)\n",
    "    MNBclassifier.partial_fit(X_train, y_train, classes=classes)\n",
    "    BernoulliNBclassifier.partial_fit(X_train, y_train, classes=classes)\n",
    "    SGDclassifier.partial_fit(X_train, y_train, classes=classes)\n",
    "    PassiveAggressiveclassifier.partial_fit(X_train, y_train, classes=classes)\n",
    "    progressBar.update()"
   ]
  },
  {
   "cell_type": "code",
   "execution_count": null,
   "metadata": {},
   "outputs": [],
   "source": []
  },
  {
   "cell_type": "code",
   "execution_count": null,
   "metadata": {},
   "outputs": [],
   "source": []
  },
  {
   "cell_type": "code",
   "execution_count": null,
   "metadata": {},
   "outputs": [],
   "source": []
  },
  {
   "cell_type": "code",
   "execution_count": 46,
   "metadata": {},
   "outputs": [
    {
     "name": "stderr",
     "output_type": "stream",
     "text": [
      "C:\\Users\\v-savrav\\AppData\\Local\\Continuum\\anaconda3\\lib\\site-packages\\sklearn\\externals\\joblib\\__init__.py:15: DeprecationWarning: sklearn.externals.joblib is deprecated in 0.21 and will be removed in 0.23. Please import this functionality directly from joblib, which can be installed with: pip install joblib. If this warning is raised when loading pickled models, you may need to re-serialize those models with scikit-learn 0.21+.\n",
      "  warnings.warn(msg, category=DeprecationWarning)\n"
     ]
    },
    {
     "data": {
      "text/plain": [
       "['finalized_model.sav']"
      ]
     },
     "execution_count": 46,
     "metadata": {},
     "output_type": "execute_result"
    }
   ],
   "source": [
    "from sklearn.externals import joblib\n",
    "filename = 'finalized_model.sav'\n",
    "joblib.dump(clf, filename)"
   ]
  },
  {
   "cell_type": "code",
   "execution_count": 52,
   "metadata": {},
   "outputs": [],
   "source": [
    "from sklearn.feature_extraction.text import HashingVectorizer\n",
    "from sklearn.linear_model import SGDClassifier\n",
    "from sklearn.linear_model import PassiveAggressiveClassifier\n",
    "from sklearn.linear_model import Perceptron\n",
    "from sklearn.naive_bayes import MultinomialNB\n",
    "# Here are some classifiers that support the `partial_fit` method\n",
    "partial_fit_classifiers = {\n",
    "    'SGD': SGDClassifier(max_iter=5, tol=1e-3),\n",
    "    'Perceptron': Perceptron(tol=1e-3),\n",
    "    'NB Multinomial': MultinomialNB(alpha=0.01),\n",
    "    'Passive-Aggressive': PassiveAggressiveClassifier(tol=1e-3),\n",
    "}"
   ]
  },
  {
   "cell_type": "markdown",
   "metadata": {},
   "source": [
    "# Comparing with other Classifcation Models"
   ]
  },
  {
   "cell_type": "code",
   "execution_count": null,
   "metadata": {},
   "outputs": [
    {
     "name": "stderr",
     "output_type": "stream",
     "text": [
      "C:\\Users\\v-savrav\\AppData\\Local\\Continuum\\anaconda3\\lib\\site-packages\\sklearn\\model_selection\\_split.py:657: Warning: The least populated class in y has only 1 members, which is too few. The minimum number of members in any class cannot be less than n_splits=3.\n",
      "  % (min_groups, self.n_splits)), Warning)\n",
      "C:\\Users\\v-savrav\\AppData\\Local\\Continuum\\anaconda3\\lib\\site-packages\\sklearn\\model_selection\\_split.py:657: Warning: The least populated class in y has only 1 members, which is too few. The minimum number of members in any class cannot be less than n_splits=3.\n",
      "  % (min_groups, self.n_splits)), Warning)\n",
      "C:\\Users\\v-savrav\\AppData\\Local\\Continuum\\anaconda3\\lib\\site-packages\\sklearn\\model_selection\\_split.py:657: Warning: The least populated class in y has only 1 members, which is too few. The minimum number of members in any class cannot be less than n_splits=3.\n",
      "  % (min_groups, self.n_splits)), Warning)\n"
     ]
    }
   ],
   "source": [
    "from sklearn.linear_model import LogisticRegression\n",
    "from sklearn.ensemble import RandomForestClassifier\n",
    "from sklearn.svm import LinearSVC\n",
    "from sklearn.svm import SVC\n",
    "from sklearn.model_selection import cross_val_score\n",
    "models = [\n",
    "    RandomForestClassifier(n_estimators=200, max_depth=6, random_state=0),\n",
    "    LinearSVC(),\n",
    "    SVC(kernel='rbf', random_state=0, gamma=100, C=10),\n",
    "    MultinomialNB(),\n",
    "    LogisticRegression(random_state=0),\n",
    "]\n",
    "CV = 3\n",
    "cv_df = pd.DataFrame(index=range(CV * len(models)))\n",
    "entries = []\n",
    "for model in models:\n",
    "    model_name = model.__class__.__name__\n",
    "    accuracies = cross_val_score(model, features, labels, scoring='accuracy', cv=CV)\n",
    "    for fold_idx, accuracy in enumerate(accuracies):\n",
    "        entries.append((model_name, fold_idx, accuracy))\n",
    "cv_df = pd.DataFrame(entries, columns=['model_name', 'fold_idx', 'accuracy'])\n",
    "import seaborn as sns\n",
    "sns.boxplot(x='model_name', y='accuracy', data=cv_df)\n",
    "sns.stripplot(x='model_name', y='accuracy', data=cv_df, \n",
    "              size=8, jitter=True, edgecolor=\"gray\", linewidth=2)\n",
    "plt.show()"
   ]
  },
  {
   "cell_type": "code",
   "execution_count": null,
   "metadata": {},
   "outputs": [],
   "source": [
    "cv_df.groupby('model_name').accuracy.mean()\n"
   ]
  },
  {
   "cell_type": "code",
   "execution_count": null,
   "metadata": {},
   "outputs": [],
   "source": []
  },
  {
   "cell_type": "markdown",
   "metadata": {},
   "source": [
    "# Confusion Matrix\n",
    "   The vast majority of the predictions end up on the diagonal (predicted label = actual label), where we want them to be. However, there are a number of misclassifications,and it might be interesting to see what those are caused by:"
   ]
  },
  {
   "cell_type": "code",
   "execution_count": null,
   "metadata": {},
   "outputs": [],
   "source": [
    "model = LinearSVC()\n",
    "model1= RandomForestClassifier()\n",
    "model2=SVC()"
   ]
  },
  {
   "cell_type": "code",
   "execution_count": 71,
   "metadata": {},
   "outputs": [
    {
     "data": {
      "image/png": "[encoded data removed]",
      "text/plain": [
       "<Figure size 720x720 with 2 Axes>"
      ]
     },
     "metadata": {
      "needs_background": "light"
     },
     "output_type": "display_data"
    }
   ],
   "source": [
    "model = LinearSVC()\n",
    "X_train, X_test, y_train, y_test, indices_train, indices_test = train_test_split(features, labels, df.index, test_size=0.33, random_state=0)\n",
    "model.fit(X_train, y_train)\n",
    "y_pred = model.predict(X_test)\n",
    "from sklearn.metrics import confusion_matrix\n",
    "conf_mat = confusion_matrix(y_test, y_pred)\n",
    "fig, ax = plt.subplots(figsize=(10,10))\n",
    "sns.heatmap(conf_mat, annot=True, fmt='d',\n",
    "            xticklabels=category_id_df.PrimaryTopic.values, yticklabels=category_id_df.PrimaryTopic.values)\n",
    "plt.ylabel('Actual')\n",
    "plt.xlabel('Predicted')\n",
    "plt.show()"
   ]
  },
  {
   "cell_type": "code",
   "execution_count": 99,
   "metadata": {},
   "outputs": [
    {
     "data": {
      "text/plain": [
       "233"
      ]
     },
     "execution_count": 99,
     "metadata": {},
     "output_type": "execute_result"
    }
   ],
   "source": [
    "115+62+15+31+10"
   ]
  },
  {
   "cell_type": "code",
   "execution_count": 110,
   "metadata": {},
   "outputs": [
    {
     "data": {
      "text/plain": [
       "0.7715231788079471"
      ]
     },
     "execution_count": 110,
     "metadata": {},
     "output_type": "execute_result"
    }
   ],
   "source": [
    "233/302"
   ]
  },
  {
   "cell_type": "code",
   "execution_count": 95,
   "metadata": {},
   "outputs": [
    {
     "name": "stderr",
     "output_type": "stream",
     "text": [
      "C:\\Users\\v-savrav\\AppData\\Local\\Continuum\\anaconda3\\lib\\site-packages\\ipykernel_launcher.py:2: UserWarning: Boolean Series key will be reindexed to match DataFrame index.\n",
      "  \n"
     ]
    }
   ],
   "source": [
    "df_filtered = df[df['PrimaryTopic']!='3PP']\n",
    "df_filtered = df_filtered[df['PrimaryTopic']!='BC No action required']\n",
    "#df['PrimaryTopic']!='3PP'#, 'BC No action required']#df.drop(['3PP', 'BC No action required'],axis=0)"
   ]
  },
  {
   "cell_type": "code",
   "execution_count": 96,
   "metadata": {},
   "outputs": [
    {
     "data": {
      "text/plain": [
       "Invoice Management                372\n",
       "Travel and Expenses Management    179\n",
       "Payee Account Management          166\n",
       "General Request                    80\n",
       "Disbursement                       34\n",
       "MyOrder Requisition Request        32\n",
       "Purchase Order Update              14\n",
       "Recon Request                      10\n",
       "BC Reporting Request                9\n",
       "AP Reporting Request                5\n",
       "MyOrder Action                      4\n",
       "Journal Entry Request               3\n",
       "Tool Issues and Access              3\n",
       "Name: PrimaryTopic, dtype: int64"
      ]
     },
     "execution_count": 96,
     "metadata": {},
     "output_type": "execute_result"
    }
   ],
   "source": [
    "df_filtered['PrimaryTopic'].value_counts()\n",
    "df_filtered['PrimaryTopic']"
   ]
  },
  {
   "cell_type": "code",
   "execution_count": 80,
   "metadata": {},
   "outputs": [
    {
     "data": {
      "text/plain": [
       "Invoice Management                372\n",
       "Travel and Expenses Management    179\n",
       "Payee Account Management          166\n",
       "General Request                    80\n",
       "Disbursement                       34\n",
       "MyOrder Requisition Request        32\n",
       "Purchase Order Update              14\n",
       "Recon Request                      10\n",
       "BC Reporting Request                9\n",
       "AP Reporting Request                5\n",
       "MyOrder Action                      4\n",
       "Journal Entry Request               3\n",
       "Tool Issues and Access              3\n",
       "3PP                                 1\n",
       "BC No action required               1\n",
       "Name: PrimaryTopic, dtype: int64"
      ]
     },
     "execution_count": 80,
     "metadata": {},
     "output_type": "execute_result"
    }
   ],
   "source": [
    "df['PrimaryTopic'].value_counts()"
   ]
  },
  {
   "cell_type": "markdown",
   "metadata": {},
   "source": [
    "# Report"
   ]
  },
  {
   "cell_type": "code",
   "execution_count": 97,
   "metadata": {},
   "outputs": [
    {
     "name": "stdout",
     "output_type": "stream",
     "text": [
      "                                precision    recall  f1-score   support\n",
      "\n",
      "      Payee Account Management       0.78      0.70      0.74        44\n",
      "               General Request       0.65      0.65      0.65        23\n",
      "            Invoice Management       0.77      0.90      0.83       128\n",
      "                  Disbursement       0.67      0.18      0.29        11\n",
      "Travel and Expenses Management       0.85      0.90      0.87        69\n",
      "   MyOrder Requisition Request       0.25      0.10      0.14        10\n",
      "                MyOrder Action       0.00      0.00      0.00         1\n",
      "         Purchase Order Update       0.50      0.50      0.50         4\n",
      "          AP Reporting Request       0.00      0.00      0.00         2\n",
      "          BC Reporting Request       1.00      0.33      0.50         3\n",
      "        Tool Issues and Access       0.00      0.00      0.00         3\n",
      "                 Recon Request       1.00      1.00      1.00         3\n",
      "         Journal Entry Request       0.00      0.00      0.00         1\n",
      "\n",
      "                      accuracy                           0.77       302\n",
      "                     macro avg       0.50      0.41      0.42       302\n",
      "                  weighted avg       0.74      0.77      0.74       302\n",
      "\n"
     ]
    },
    {
     "name": "stderr",
     "output_type": "stream",
     "text": [
      "C:\\Users\\v-savrav\\AppData\\Local\\Continuum\\anaconda3\\lib\\site-packages\\sklearn\\metrics\\classification.py:1437: UndefinedMetricWarning: Precision and F-score are ill-defined and being set to 0.0 in labels with no predicted samples.\n",
      "  'precision', 'predicted', average, warn_for)\n"
     ]
    }
   ],
   "source": [
    "from sklearn import metrics\n",
    "print(metrics.classification_report(y_test, y_pred, target_names=df_filtered['PrimaryTopic'].unique()))"
   ]
  },
  {
   "cell_type": "code",
   "execution_count": null,
   "metadata": {},
   "outputs": [],
   "source": [
    "category_id_df = df[['PrimaryTopic', 'id']].drop_duplicates().sort_values('id')"
   ]
  },
  {
   "cell_type": "code",
   "execution_count": 102,
   "metadata": {},
   "outputs": [
    {
     "name": "stdout",
     "output_type": "stream",
     "text": [
      "'Invoice Management' predicted as 'Payee Account Management' : 6 examples.\n"
     ]
    },
    {
     "data": {
      "text/html": [
       "<div>\n",
       "<style scoped>\n",
       "    .dataframe tbody tr th:only-of-type {\n",
       "        vertical-align: middle;\n",
       "    }\n",
       "\n",
       "    .dataframe tbody tr th {\n",
       "        vertical-align: top;\n",
       "    }\n",
       "\n",
       "    .dataframe thead th {\n",
       "        text-align: right;\n",
       "    }\n",
       "</style>\n",
       "<table border=\"1\" class=\"dataframe\">\n",
       "  <thead>\n",
       "    <tr style=\"text-align: right;\">\n",
       "      <th></th>\n",
       "      <th>PrimaryTopic</th>\n",
       "      <th>Description</th>\n",
       "    </tr>\n",
       "  </thead>\n",
       "  <tbody>\n",
       "    <tr>\n",
       "      <th>205</th>\n",
       "      <td>Invoice Management</td>\n",
       "      <td>The surprising benefits of flexible workspace ...</td>\n",
       "    </tr>\n",
       "    <tr>\n",
       "      <th>327</th>\n",
       "      <td>Invoice Management</td>\n",
       "      <td>Hello ProHelp,  Please see the attached LEGAL_...</td>\n",
       "    </tr>\n",
       "    <tr>\n",
       "      <th>781</th>\n",
       "      <td>Invoice Management</td>\n",
       "      <td>Hello Prohelp Desk,   Can you please provide a...</td>\n",
       "    </tr>\n",
       "    <tr>\n",
       "      <th>297</th>\n",
       "      <td>Invoice Management</td>\n",
       "      <td>Thank you – I think you may have got the Austr...</td>\n",
       "    </tr>\n",
       "    <tr>\n",
       "      <th>957</th>\n",
       "      <td>Invoice Management</td>\n",
       "      <td>Hi Ap,   Could you please process enclosed Eif...</td>\n",
       "    </tr>\n",
       "    <tr>\n",
       "      <th>288</th>\n",
       "      <td>Invoice Management</td>\n",
       "      <td>Hi APIE Team,  We had submitted a request to a...</td>\n",
       "    </tr>\n",
       "  </tbody>\n",
       "</table>\n",
       "</div>"
      ],
      "text/plain": [
       "           PrimaryTopic                                        Description\n",
       "205  Invoice Management  The surprising benefits of flexible workspace ...\n",
       "327  Invoice Management  Hello ProHelp,  Please see the attached LEGAL_...\n",
       "781  Invoice Management  Hello Prohelp Desk,   Can you please provide a...\n",
       "297  Invoice Management  Thank you – I think you may have got the Austr...\n",
       "957  Invoice Management  Hi Ap,   Could you please process enclosed Eif...\n",
       "288  Invoice Management  Hi APIE Team,  We had submitted a request to a..."
      ]
     },
     "metadata": {},
     "output_type": "display_data"
    },
    {
     "name": "stdout",
     "output_type": "stream",
     "text": [
      "\n",
      "'Disbursement' predicted as 'Payee Account Management' : 1 examples.\n"
     ]
    },
    {
     "data": {
      "text/html": [
       "<div>\n",
       "<style scoped>\n",
       "    .dataframe tbody tr th:only-of-type {\n",
       "        vertical-align: middle;\n",
       "    }\n",
       "\n",
       "    .dataframe tbody tr th {\n",
       "        vertical-align: top;\n",
       "    }\n",
       "\n",
       "    .dataframe thead th {\n",
       "        text-align: right;\n",
       "    }\n",
       "</style>\n",
       "<table border=\"1\" class=\"dataframe\">\n",
       "  <thead>\n",
       "    <tr style=\"text-align: right;\">\n",
       "      <th></th>\n",
       "      <th>PrimaryTopic</th>\n",
       "      <th>Description</th>\n",
       "    </tr>\n",
       "  </thead>\n",
       "  <tbody>\n",
       "    <tr>\n",
       "      <th>300</th>\n",
       "      <td>Disbursement</td>\n",
       "      <td>Hello,  I am getting the error below when I tr...</td>\n",
       "    </tr>\n",
       "  </tbody>\n",
       "</table>\n",
       "</div>"
      ],
      "text/plain": [
       "     PrimaryTopic                                        Description\n",
       "300  Disbursement  Hello,  I am getting the error below when I tr..."
      ]
     },
     "metadata": {},
     "output_type": "display_data"
    },
    {
     "name": "stdout",
     "output_type": "stream",
     "text": [
      "\n",
      "'Travel and Expenses Management' predicted as 'Payee Account Management' : 2 examples.\n"
     ]
    },
    {
     "data": {
      "text/html": [
       "<div>\n",
       "<style scoped>\n",
       "    .dataframe tbody tr th:only-of-type {\n",
       "        vertical-align: middle;\n",
       "    }\n",
       "\n",
       "    .dataframe tbody tr th {\n",
       "        vertical-align: top;\n",
       "    }\n",
       "\n",
       "    .dataframe thead th {\n",
       "        text-align: right;\n",
       "    }\n",
       "</style>\n",
       "<table border=\"1\" class=\"dataframe\">\n",
       "  <thead>\n",
       "    <tr style=\"text-align: right;\">\n",
       "      <th></th>\n",
       "      <th>PrimaryTopic</th>\n",
       "      <th>Description</th>\n",
       "    </tr>\n",
       "  </thead>\n",
       "  <tbody>\n",
       "    <tr>\n",
       "      <th>70</th>\n",
       "      <td>Travel and Expenses Management</td>\n",
       "      <td>Dear ?,   Please considerthis as a reference n...</td>\n",
       "    </tr>\n",
       "    <tr>\n",
       "      <th>86</th>\n",
       "      <td>Travel and Expenses Management</td>\n",
       "      <td>Dear ?,   Please considerthis as a reference n...</td>\n",
       "    </tr>\n",
       "  </tbody>\n",
       "</table>\n",
       "</div>"
      ],
      "text/plain": [
       "                      PrimaryTopic  \\\n",
       "70  Travel and Expenses Management   \n",
       "86  Travel and Expenses Management   \n",
       "\n",
       "                                          Description  \n",
       "70  Dear ?,   Please considerthis as a reference n...  \n",
       "86  Dear ?,   Please considerthis as a reference n...  "
      ]
     },
     "metadata": {},
     "output_type": "display_data"
    },
    {
     "name": "stdout",
     "output_type": "stream",
     "text": [
      "\n"
     ]
    },
    {
     "ename": "IndexError",
     "evalue": "index 13 is out of bounds for axis 0 with size 13",
     "output_type": "error",
     "traceback": [
      "\u001b[1;31m---------------------------------------------------------------------------\u001b[0m",
      "\u001b[1;31mIndexError\u001b[0m                                Traceback (most recent call last)",
      "\u001b[1;32m<ipython-input-102-e8dda7c34684>\u001b[0m in \u001b[0;36m<module>\u001b[1;34m\u001b[0m\n\u001b[0;32m      2\u001b[0m \u001b[1;32mfor\u001b[0m \u001b[0mpredicted\u001b[0m \u001b[1;32min\u001b[0m \u001b[0mcategory_id_df\u001b[0m\u001b[1;33m.\u001b[0m\u001b[0mid\u001b[0m\u001b[1;33m:\u001b[0m\u001b[1;33m\u001b[0m\u001b[1;33m\u001b[0m\u001b[0m\n\u001b[0;32m      3\u001b[0m     \u001b[1;32mfor\u001b[0m \u001b[0mactual\u001b[0m \u001b[1;32min\u001b[0m \u001b[0mcategory_id_df\u001b[0m\u001b[1;33m.\u001b[0m\u001b[0mid\u001b[0m\u001b[1;33m:\u001b[0m\u001b[1;33m\u001b[0m\u001b[1;33m\u001b[0m\u001b[0m\n\u001b[1;32m----> 4\u001b[1;33m         \u001b[1;32mif\u001b[0m \u001b[0mpredicted\u001b[0m \u001b[1;33m!=\u001b[0m \u001b[0mactual\u001b[0m \u001b[1;32mand\u001b[0m \u001b[0mconf_mat\u001b[0m\u001b[1;33m[\u001b[0m\u001b[0mactual\u001b[0m\u001b[1;33m,\u001b[0m \u001b[0mpredicted\u001b[0m\u001b[1;33m]\u001b[0m \u001b[1;33m>=\u001b[0m \u001b[1;36m1\u001b[0m\u001b[1;33m:\u001b[0m\u001b[1;33m\u001b[0m\u001b[1;33m\u001b[0m\u001b[0m\n\u001b[0m\u001b[0;32m      5\u001b[0m             \u001b[0mprint\u001b[0m\u001b[1;33m(\u001b[0m\u001b[1;34m\"'{}' predicted as '{}' : {} examples.\"\u001b[0m\u001b[1;33m.\u001b[0m\u001b[0mformat\u001b[0m\u001b[1;33m(\u001b[0m\u001b[0mid_to_category\u001b[0m\u001b[1;33m[\u001b[0m\u001b[0mactual\u001b[0m\u001b[1;33m]\u001b[0m\u001b[1;33m,\u001b[0m \u001b[0mid_to_category\u001b[0m\u001b[1;33m[\u001b[0m\u001b[0mpredicted\u001b[0m\u001b[1;33m]\u001b[0m\u001b[1;33m,\u001b[0m \u001b[0mconf_mat\u001b[0m\u001b[1;33m[\u001b[0m\u001b[0mactual\u001b[0m\u001b[1;33m,\u001b[0m \u001b[0mpredicted\u001b[0m\u001b[1;33m]\u001b[0m\u001b[1;33m)\u001b[0m\u001b[1;33m)\u001b[0m\u001b[1;33m\u001b[0m\u001b[1;33m\u001b[0m\u001b[0m\n\u001b[0;32m      6\u001b[0m             \u001b[0mdisplay\u001b[0m\u001b[1;33m(\u001b[0m\u001b[0mdf\u001b[0m\u001b[1;33m.\u001b[0m\u001b[0mloc\u001b[0m\u001b[1;33m[\u001b[0m\u001b[0mindices_test\u001b[0m\u001b[1;33m[\u001b[0m\u001b[1;33m(\u001b[0m\u001b[0my_test\u001b[0m \u001b[1;33m==\u001b[0m \u001b[0mactual\u001b[0m\u001b[1;33m)\u001b[0m \u001b[1;33m&\u001b[0m \u001b[1;33m(\u001b[0m\u001b[0my_pred\u001b[0m \u001b[1;33m==\u001b[0m \u001b[0mpredicted\u001b[0m\u001b[1;33m)\u001b[0m\u001b[1;33m]\u001b[0m\u001b[1;33m]\u001b[0m\u001b[1;33m[\u001b[0m\u001b[1;33m[\u001b[0m\u001b[1;34m'PrimaryTopic'\u001b[0m\u001b[1;33m,\u001b[0m \u001b[1;34m'Description'\u001b[0m\u001b[1;33m]\u001b[0m\u001b[1;33m]\u001b[0m\u001b[1;33m)\u001b[0m\u001b[1;33m\u001b[0m\u001b[1;33m\u001b[0m\u001b[0m\n",
      "\u001b[1;31mIndexError\u001b[0m: index 13 is out of bounds for axis 0 with size 13"
     ]
    }
   ],
   "source": [
    "from IPython.display import display\n",
    "for predicted in category_id_df.id:\n",
    "    for actual in category_id_df.id:\n",
    "        if predicted != actual and conf_mat[actual, predicted] >= 1:\n",
    "            print(\"'{}' predicted as '{}' : {} examples.\".format(id_to_category[actual], id_to_category[predicted], conf_mat[actual, predicted]))\n",
    "            display(df.loc[indices_test[(y_test == actual) & (y_pred == predicted)]][['PrimaryTopic', 'Description']])\n",
    "            print('')"
   ]
  },
  {
   "cell_type": "markdown",
   "metadata": {},
   "source": [
    "# Bigrams,Unigrams -term counts in document classification"
   ]
  },
  {
   "cell_type": "code",
   "execution_count": 112,
   "metadata": {},
   "outputs": [
    {
     "data": {
      "text/plain": [
       "{'Payee Account Management': 0,\n",
       " 'General Request': 1,\n",
       " 'Invoice Management': 2,\n",
       " 'Disbursement': 3,\n",
       " 'Travel and Expenses Management': 4,\n",
       " 'MyOrder Requisition Request': 5,\n",
       " 'MyOrder Action': 6,\n",
       " 'Purchase Order Update': 7,\n",
       " 'AP Reporting Request': 8,\n",
       " 'BC Reporting Request': 9,\n",
       " 'Tool Issues and Access': 10,\n",
       " 'Recon Request': 11,\n",
       " 'Journal Entry Request': 12,\n",
       " 'BC No action required': 13,\n",
       " '3PP': 14}"
      ]
     },
     "execution_count": 112,
     "metadata": {},
     "output_type": "execute_result"
    }
   ],
   "source": [
    "category_to_id"
   ]
  },
  {
   "cell_type": "code",
   "execution_count": 111,
   "metadata": {},
   "outputs": [
    {
     "name": "stdout",
     "output_type": "stream",
     "text": [
      "# '3PP':\n",
      "  . Most correlated unigrams:\n",
      ". diretamente\n",
      ". dies\n",
      "  . Most correlated bigrams:\n",
      ". diretamente com\n",
      ". überwachtes postfach\n",
      "# 'AP Reporting Request':\n",
      "  . Most correlated unigrams:\n",
      ". diretamente\n",
      ". dies\n",
      "  . Most correlated bigrams:\n",
      ". diretamente com\n",
      ". überwachtes postfach\n",
      "# 'BC No action required':\n",
      "  . Most correlated unigrams:\n",
      ". diretamente\n",
      ". dies\n",
      "  . Most correlated bigrams:\n",
      ". diretamente com\n",
      ". überwachtes postfach\n",
      "# 'BC Reporting Request':\n",
      "  . Most correlated unigrams:\n",
      ". diretamente\n",
      ". dies\n",
      "  . Most correlated bigrams:\n",
      ". diretamente com\n",
      ". überwachtes postfach\n",
      "# 'Disbursement':\n",
      "  . Most correlated unigrams:\n",
      ". diretamente\n",
      ". dies\n",
      "  . Most correlated bigrams:\n",
      ". diretamente com\n",
      ". überwachtes postfach\n",
      "# 'General Request':\n",
      "  . Most correlated unigrams:\n",
      ". diretamente\n",
      ". dies\n",
      "  . Most correlated bigrams:\n",
      ". diretamente com\n",
      ". überwachtes postfach\n",
      "# 'Invoice Management':\n",
      "  . Most correlated unigrams:\n",
      ". diretamente\n",
      ". dies\n",
      "  . Most correlated bigrams:\n",
      ". diretamente com\n",
      ". überwachtes postfach\n",
      "# 'Journal Entry Request':\n",
      "  . Most correlated unigrams:\n",
      ". diretamente\n",
      ". dies\n",
      "  . Most correlated bigrams:\n",
      ". diretamente com\n",
      ". überwachtes postfach\n",
      "# 'MyOrder Action':\n",
      "  . Most correlated unigrams:\n",
      ". diretamente\n",
      ". dies\n",
      "  . Most correlated bigrams:\n",
      ". diretamente com\n",
      ". überwachtes postfach\n",
      "# 'MyOrder Requisition Request':\n",
      "  . Most correlated unigrams:\n",
      ". diretamente\n",
      ". dies\n",
      "  . Most correlated bigrams:\n",
      ". diretamente com\n",
      ". überwachtes postfach\n",
      "# 'Payee Account Management':\n",
      "  . Most correlated unigrams:\n",
      ". diretamente\n",
      ". dies\n",
      "  . Most correlated bigrams:\n",
      ". diretamente com\n",
      ". überwachtes postfach\n",
      "# 'Purchase Order Update':\n",
      "  . Most correlated unigrams:\n",
      ". diretamente\n",
      ". dies\n",
      "  . Most correlated bigrams:\n",
      ". diretamente com\n",
      ". überwachtes postfach\n",
      "# 'Recon Request':\n",
      "  . Most correlated unigrams:\n",
      ". diretamente\n",
      ". dies\n",
      "  . Most correlated bigrams:\n",
      ". diretamente com\n",
      ". überwachtes postfach\n",
      "# 'Tool Issues and Access':\n",
      "  . Most correlated unigrams:\n",
      ". diretamente\n",
      ". dies\n",
      "  . Most correlated bigrams:\n",
      ". diretamente com\n",
      ". überwachtes postfach\n",
      "# 'Travel and Expenses Management':\n",
      "  . Most correlated unigrams:\n",
      ". diretamente\n",
      ". dies\n",
      "  . Most correlated bigrams:\n",
      ". diretamente com\n",
      ". überwachtes postfach\n"
     ]
    }
   ],
   "source": [
    "from sklearn.feature_selection import chi2\n",
    "import numpy as np\n",
    "N = 2\n",
    "for Product, category_id in sorted(category_to_id.items()):\n",
    "    features_chi2 = chi2(features, labels == id)\n",
    "    indices = np.argsort(features_chi2[0])\n",
    "    feature_names = np.array(tfidf.get_feature_names())[indices]\n",
    "    unigrams = [v for v in feature_names if len(v.split(' ')) == 1]\n",
    "    bigrams = [v for v in feature_names if len(v.split(' ')) == 2]\n",
    "    print(\"# '{}':\".format(Product))\n",
    "    print(\"  . Most correlated unigrams:\\n. {}\".format('\\n. '.join(unigrams[-N:])))\n",
    "    print(\"  . Most correlated bigrams:\\n. {}\".format('\\n. '.join(bigrams[-N:])))"
   ]
  },
  {
   "cell_type": "code",
   "execution_count": null,
   "metadata": {},
   "outputs": [],
   "source": []
  }
 ],
 "metadata": {
  "kernelspec": {
   "display_name": "Python 3",
   "language": "python",
   "name": "python3"
  },
  "language_info": {
   "codemirror_mode": {
    "name": "ipython",
    "version": 3
   },
   "file_extension": ".py",
   "mimetype": "text/x-python",
   "name": "python",
   "nbconvert_exporter": "python",
   "pygments_lexer": "ipython3",
   "version": "3.7.3"
  }
 },
 "nbformat": 4,
 "nbformat_minor": 2
}
