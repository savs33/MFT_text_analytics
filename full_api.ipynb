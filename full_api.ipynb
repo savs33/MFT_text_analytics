{
 "cells": [
  {
   "cell_type": "code",
   "execution_count": 1,
   "metadata": {},
   "outputs": [],
   "source": [
    "import math\n",
    "import json\n",
    "import requests\n",
    "import pandas as pd\n",
    "from pathlib import Path\n",
    "from typing import *\n",
    "import torch\n",
    "import torch.optim as optim\n",
    "import numpy as np\n",
    "import pandas as pd\n",
    "from functools import partial\n",
    "from overrides import overrides\n",
    "from allennlp.data import Instance\n",
    "from allennlp.data.token_indexers import TokenIndexer\n",
    "from allennlp.data.tokenizers import Token\n",
    "from allennlp.nn import util as nn_util\n",
    "from allennlp.modules.elmo import Elmo, batch_to_ids\n",
    "import warnings\n",
    "from collections import defaultdict\n",
    "from allennlp import predictors\n",
    "from allennlp.predictors import Predictor\n",
    "import spacy\n",
    "spacy.load('en_core_web_sm')\n",
    "import re\n",
    "import math\n",
    "import json\n",
    "import requests\n",
    "import pandas as pd\n",
    "#from allennlp.models.archival import load_arc"
   ]
  },
  {
   "cell_type": "code",
   "execution_count": 2,
   "metadata": {},
   "outputs": [],
   "source": [
    "import pyodbc \n",
    "conn = pyodbc.connect('Driver={SQL Server};'\n",
    "                      'Server=azgovprdsql11;'\n",
    "                      'Database=OneFinReports;'\n",
    "                      'Trusted_Connection=yes;')\n",
    "cursor = conn.cursor()\n",
    "#tkt=str(args['tkt'][0])\n",
    "#params=tkt"
   ]
  },
  {
   "cell_type": "code",
   "execution_count": 5,
   "metadata": {},
   "outputs": [],
   "source": [
    "ven_no=str(request.args(\"ven_no\")\n",
    "#po=str(request.args(\"po\")  \n",
    "ven_no='0002101051'\n",
    "po='0098972920'\n",
    "sp2 = \"\"\"EXEC [dbo].[SPVRef_Invoice] @VendorNumber=? , @PONumber=?\"\"\"\n",
    "#params=tkt\n",
    "cursor.execute(sp2,ven_no,po)\n",
    "column_names_list = [x[0] for x in cursor.description]\n",
    "result_dicts = [dict(zip(column_names_list, row)) for row in cursor.fetchall()]\n",
    "df=pd.DataFrame(result_dicts)\n",
    "converted=df.to_json(orient='records')\n"
   ]
  },
  {
   "cell_type": "code",
   "execution_count": 3,
   "metadata": {},
   "outputs": [],
   "source": [
    "def emailmatch(tkt):    \n",
    "    sp1 = \"\"\"EXEC [dbo].[SPVref] @TicketNumber=?\"\"\"\n",
    "    params=tkt\n",
    "    cursor.execute(sp1,params)\n",
    "    column_names_list = [x[0] for x in cursor.description]\n",
    "    result_dicts = [dict(zip(column_names_list, row)) for row in cursor.fetchall()]\n",
    "    email_df=pd.DataFrame(result_dicts)\n",
    "    #converted=email_df.to_json(orient='records')\n",
    "    return email_df"
   ]
  },
  {
   "cell_type": "code",
   "execution_count": 4,
   "metadata": {},
   "outputs": [],
   "source": [
    "def regex(tkt):    \n",
    "    sp3=\"\"\"EXEC [dbo].[SPCRM]  @TicketNumber=?\"\"\"\n",
    "    sp4=\"\"\"EXEC [dbo].[SPPOVref_hs_v2] @Inv=?\"\"\"\n",
    "    params=tkt\n",
    "    cursor.execute(sp3,params)   \n",
    "    column_names_list = [x[0] for x in cursor.description]\n",
    "    result_dicts = [dict(zip(column_names_list, row)) for row in cursor.fetchall()]\n",
    "    regex_df=pd.DataFrame(result_dicts)\n",
    "    #print(regex_df)\n",
    "    masterpodict=defaultdict(list)\n",
    "    po_ref = pd.DataFrame()\n",
    "    for i,row in regex_df.iterrows():\n",
    "        po=re.findall('\\W[0]*[9][8]\\d{6}\\W|\\W[0]*[9][9]\\d{6}\\W|\\W[0]*[9][7]\\d{6}\\W|\\W[0]*[8][0]\\d{6}\\W|\\W[7][0]\\d{6}\\W|\\W[7][1]\\d{6}\\W|\\W[1][0]\\d{6}\\W|\\W[4][7]\\d{7}\\W|\\W[4][1]\\d{8}\\W|\\W[6][1]\\d{8}\\W|\\W[6][0]\\d{8}\\W',row['description'])\n",
    "        \n",
    "        for p in po:\n",
    "            if(p is not None):\n",
    "                p1=re.sub('\\W+','', p) \n",
    "                #print(p1)\n",
    "                cursor.execute(sp4,p1) \n",
    "                column_names_list = [x[0] for x in cursor.description]\n",
    "                result_dicts = [dict(zip(column_names_list, row)) for row in cursor.fetchall()]\n",
    "                po_ref=pd.DataFrame(result_dicts)\n",
    "    return po_ref"
   ]
  },
  {
   "cell_type": "code",
   "execution_count": 5,
   "metadata": {},
   "outputs": [],
   "source": [
    "def html(tkt):\n",
    "    f=\"S:\\\\Savitha\\\\html\\\\\" \n",
    "    #f=\"C:\\\\Users\\\\v-savrav\\\\Text\\\\data\\\\html\\\\\"\n",
    "    sp6=\"\"\"EXEC [dbo].[SPInvVref_hs_v2]  @Inv=?\"\"\"\n",
    "    sp7=\"\"\"EXEC [dbo].[SPPOVref_hs_v2]  @Inv=?\"\"\"\n",
    "    invlist=['MS Invoice Number','Invoice No.','Invoice #','Invoice Number','Invoice No','Vendor Invoice Number','Invoice#','Invoice reference',\n",
    "            'Tax invoice number','MS Doc #','Invoice No.','Invoice','Microsoft Invoice', 'Invoice reference','INVOICE#','Document Number',\n",
    "           'Invoice NO. or Descriptions','Reference Number','Reference','REFERENCE','Microsoft reference']\n",
    "    polist=['PO Number','Master PO No.','Po #','ECIF PO NO.']\n",
    "    html= pd.DataFrame()\n",
    "    try:\n",
    "        doc=f+tkt+'.html'\n",
    "        df1=pd.read_html(doc,header= 0,flavor=['lxml', 'bs4'])\n",
    "        #print(df1.columns)\n",
    "        if(len(df1)>0):\n",
    "            #print(len(df1))\n",
    "            df =df1[-1]\n",
    "            df_ll=[c for c in df.columns if c in invlist] \n",
    "            df_po=[c for c in df.columns if c in polist]  \n",
    "            #print(1)\n",
    "            if(len(df_ll)>=1):\n",
    "                for i in df[df_ll].values:\n",
    "                    inv=str(i)\n",
    "                    cursor.execute(sp6,inv) \n",
    "                    column_names_list = [x[0] for x in cursor.description]\n",
    "                    result_dicts = [dict(zip(column_names_list, row)) for row in cursor.fetchall()]\n",
    "                    #print(result_dicts)\n",
    "                    html=pd.DataFrame(result_dicts)\n",
    "                    html['stage']='html'\n",
    "                    #print(html)\n",
    "                    #return html\n",
    "            elif(len(df_po)>=1):\n",
    "                 for i in df[df_po].values:\n",
    "                    po=str(i)\n",
    "                    cursor.execute(sp7,inv) \n",
    "                    column_names_list = [x[0] for x in cursor.description]\n",
    "                    result_dicts = [dict(zip(column_names_list, row)) for row in cursor.fetchall()]\n",
    "                    #print(result_dicts)\n",
    "                    html=pd.DataFrame(result_dicts)\n",
    "                    html['stage']='html' \n",
    "                    #print(html)\n",
    "        return html\n",
    "    except ValueError:\n",
    "            pass  "
   ]
  },
  {
   "cell_type": "code",
   "execution_count": 6,
   "metadata": {},
   "outputs": [],
   "source": [
    "def bidaf(tkt):    \n",
    "    sp3=\"\"\"EXEC [dbo].[SPCRM]  @TicketNumber=?\"\"\"\n",
    "    sp5=\"\"\"EXEC [dbo].[SPInvVref_hs_v2]  @Inv=?\"\"\"\n",
    "    params=tkt\n",
    "    cursor.execute(sp3,params)   \n",
    "    column_names_list = [x[0] for x in cursor.description]\n",
    "    result_dicts = [dict(zip(column_names_list, row)) for row in cursor.fetchall()]\n",
    "    bidaf_df=pd.DataFrame(result_dicts)\n",
    "    masterinv=defaultdict(list)\n",
    "    model = Predictor.from_path(\"bidaf.tar.gz\")\n",
    "    question1 = \"what is invoice number?\"\n",
    "    #question2 = \"what is the customer number?\"\n",
    "    #question3 = \"what is the reference number?\"\n",
    "    invref = pd.DataFrame()\n",
    "    for i,row in bidaf_df.iterrows():\n",
    "        #print(row)\n",
    "        inv_no1=model.predict(question1, row['description'])[\"best_span_str\"]\n",
    "        #print(inv_no1)\n",
    "        #inv_no2=model.predict(question2,row['description'])[\"best_span_str\"]\n",
    "        #inv_no3=model.predict(question3,row['description'])[\"best_span_str\"]\n",
    "        #print(inv_no1)#,inv_no2,inv_no3)\n",
    "        #cc=row['CC']\n",
    "        cursor.execute(sp5,inv_no1) \n",
    "        column_names_list = [x[0] for x in cursor.description]\n",
    "        result_dicts = [dict(zip(column_names_list, row)) for row in cursor.fetchall()]\n",
    "        #print(result_dicts)\n",
    "        invref=pd.DataFrame(result_dicts)\n",
    "    return invref"
   ]
  },
  {
   "cell_type": "code",
   "execution_count": 7,
   "metadata": {},
   "outputs": [],
   "source": [
    "REQUEST = json.dumps({\n",
    "'path' : {},\n",
    "'args' : {}\n",
    "})\n",
    "request = json.loads(REQUEST)\n",
    "code = request['path'].get('code')"
   ]
  },
  {
   "cell_type": "code",
   "execution_count": 19,
   "metadata": {},
   "outputs": [
    {
     "name": "stdout",
     "output_type": "stream",
     "text": [
      "{\"getvendor\": null}\n"
     ]
    }
   ],
   "source": [
    "# GET /getVendor\n",
    "req = json.loads(REQUEST)\n",
    "args = req['args']\n",
    "if 'tkt' not in args:\n",
    "    print(json.dumps({'getvendor': None}))\n",
    "else:\n",
    "    #tkt = str(request.args['tkt'][0])\n",
    "    final=pd.DataFrame()\n",
    "    final['tkt']=tkt\n",
    "    df1=emailmatch(tkt)\n",
    "    if (df1.shape[0]>=1):\n",
    "        final=df1\n",
    "    elif(df1.shape[0]<=0):\n",
    "        df2=regex(tkt)\n",
    "        df2['stage']='regex'\n",
    "        if(df2.shape[0]>=1):\n",
    "            final=df2\n",
    "        else:\n",
    "            df3=bidaf(tkt)\n",
    "            df3['stage']='bidaf'\n",
    "            if(df3.shape[0]>=1):\n",
    "                final=df3\n",
    "            else:\n",
    "                df4=html(tkt)\n",
    "                if(df4 is not None):\n",
    "                    final=df4\n",
    "                    final['stage']='html'\n",
    "                else:\n",
    "                    final['stage']=\"no results\"\n",
    "    convert=final.to_json(orient='records')\n",
    "    print(convert)"
   ]
  },
  {
   "cell_type": "code",
   "execution_count": 9,
   "metadata": {},
   "outputs": [],
   "source": [
    "#tkt='TKT-3680818-L6F2W6'\n",
    "#df3=bidaf(tkt)\n",
    "#print(df3)"
   ]
  },
  {
   "cell_type": "code",
   "execution_count": 10,
   "metadata": {},
   "outputs": [
    {
     "name": "stdout",
     "output_type": "stream",
     "text": [
      "{\"ageing\": null}\n"
     ]
    }
   ],
   "source": [
    "# GET /ageing\n",
    "req = json.loads(REQUEST)\n",
    "args = req['args']\n",
    "if 'tkt' not in args:\n",
    "    print(json.dumps({'ageing': None}))\n",
    "else:\n",
    "    tkt=str(args['tkt'][0])\n",
    "    req = json.loads(REQUEST)\n",
    "    args = req['args']\n",
    "    sp2 = \"\"\"EXEC [dbo].[usp_getAgeing] @TicketNumber=?\"\"\"\n",
    "    params=tkt\n",
    "    cursor.execute(sp2,params)\n",
    "    column_names_list = [x[0] for x in cursor.description]\n",
    "    result_dicts = [dict(zip(column_names_list, row)) for row in cursor.fetchall()]\n",
    "    df=pd.DataFrame(result_dicts)\n",
    "    converted=df.to_json(orient='records')\n",
    "    print(converted)"
   ]
  },
  {
   "cell_type": "code",
   "execution_count": 11,
   "metadata": {},
   "outputs": [
    {
     "name": "stdout",
     "output_type": "stream",
     "text": [
      "{\"RMAP\": null}\n"
     ]
    }
   ],
   "source": [
    "# GET /RMAP\n",
    "req = json.loads(REQUEST)\n",
    "args = req['args']\n",
    "if 'tkt' not in args:\n",
    "    print(json.dumps({'RMAP': None}))\n",
    "else:\n",
    "    tkt=str(args['tkt'][0])   \n",
    "    sp1 = \"\"\"EXEC [dbo].[usp_getRMAP14] @TicketNumber=?\"\"\"\n",
    "    print(tkt)\n",
    "    params=tkt\n",
    "    cursor.execute(sp1,params)\n",
    "    column_names_list = [x[0] for x in cursor.description]\n",
    "    result_dicts = [dict(zip(column_names_list, row)) for row in cursor.fetchall()]\n",
    "    df=pd.DataFrame(result_dicts)\n",
    "    converted=df.to_json(orient='records')\n",
    "    print(converted)"
   ]
  },
  {
   "cell_type": "code",
   "execution_count": 12,
   "metadata": {},
   "outputs": [
    {
     "name": "stdout",
     "output_type": "stream",
     "text": [
      "{\"PO_Noresults\": null}\n"
     ]
    }
   ],
   "source": [
    "# GET /All_PO\n",
    "req = json.loads(REQUEST)\n",
    "args = req['args']\n",
    "if 'ven' not in args:\n",
    "    print(json.dumps({'PO_Noresults': None}))\n",
    "else:\n",
    "    #ven='0002280529'\n",
    "    ven=str(args['ven'][0])\n",
    "    sp4 = \"\"\"EXEC [dbo].[uspGetAllPOs] @VendorNumber=?\"\"\"\n",
    "    params=ven\n",
    "    cursor.execute(sp4,params)\n",
    "    column_names_list = [x[0] for x in cursor.description]\n",
    "    result_dicts = [dict(zip(column_names_list, row)) for row in cursor.fetchall()]\n",
    "    df=pd.DataFrame(result_dicts)\n",
    "    converted=df.to_json(orient='records')\n",
    "    print(converted)"
   ]
  },
  {
   "cell_type": "code",
   "execution_count": 12,
   "metadata": {},
   "outputs": [
    {
     "name": "stdout",
     "output_type": "stream",
     "text": [
      "{\"ticket_Noresults\": null}\n"
     ]
    }
   ],
   "source": [
    "# GET /All_tickets\n",
    "#tkt=str(args['tkt'][0])\n",
    "req = json.loads(REQUEST)\n",
    "args = req['args']\n",
    "if 'ven' not in args:\n",
    "    print(json.dumps({'ticket_Noresults': None}))\n",
    "else:\n",
    "    ven=str(args['ven'][0])\n",
    "    sp5 = \"\"\"EXEC [dbo].[uspGetAllTickets] @VendorNumber=?\"\"\"\n",
    "    params= ven\n",
    "    cursor.execute(sp5,params)\n",
    "    column_names_list = [x[0] for x in cursor.description]\n",
    "    result_dicts = [dict(zip(column_names_list, row)) for row in cursor.fetchall()]\n",
    "    df=pd.DataFrame(result_dicts)\n",
    "    converted=df.to_json(orient='records')\n",
    "    print(converted)\n"
   ]
  },
  {
   "cell_type": "code",
   "execution_count": null,
   "metadata": {},
   "outputs": [],
   "source": [
    "# GET /api3\n",
    "#tkt=str(args['tkt'][0])\n",
    "req = json.loads(REQUEST)\n",
    "args = req['args']\n",
    "if 'ven' not in args:\n",
    "    print(json.dumps({'ticket_Noresults': None}))\n",
    "else:\n",
    "    ven_no=str(request.args['ven_no'])\n",
    "po=str(request.args['po'])    \n",
    "sp2 = \"\"\"EXEC [dbo].[SPVRef_Invoice] @VendorNumber=? , @PONumber=?\"\"\"\n",
    "#params=tkt\n",
    "cursor.execute(sp2,ven_no,po)\n",
    "column_names_list = [x[0] for x in cursor.description]\n",
    "result_dicts = [dict(zip(column_names_list, row)) for row in cursor.fetchall()]\n",
    "df=pd.DataFrame(result_dicts)\n",
    "converted=df.to_json(orient='records')\n",
    "print(converted)"
   ]
  },
  {
   "cell_type": "code",
   "execution_count": null,
   "metadata": {},
   "outputs": [],
   "source": [
    "# GET /api4\n",
    "#tkt=str(args['tkt'][0])\n",
    "req = json.loads(REQUEST)\n",
    "args = req['args']\n",
    "if 'ven' not in args:\n",
    "    print(json.dumps({'ticket_Noresults': None}))\n",
    "else:\n",
    "    # GET /api4\n",
    "ven=str(request.args['ven_no'])\n",
    "cc=str(request.args['cc'])\n",
    "sp5 = \"\"\"EXEC [dbo].uspGetAllTicketsv2 @VendorNumber=?,@CompanyCode=?\"\"\"\n",
    "#params= ven\n",
    "cursor.execute(sp5,ven,cc)\n",
    "column_names_list = [x[0] for x in cursor.description]\n",
    "result_dicts = [dict(zip(column_names_list, row)) for row in cursor.fetchall()]\n",
    "df=pd.DataFrame(result_dicts)\n",
    "#df['Statecode']='0'\n",
    "#df['dateCreated']='20-nov-2019'\n",
    "#df['Tickettype']='support'\n",
    "converted=df.to_json(orient='records')\n",
    "print(converted)"
   ]
  },
  {
   "cell_type": "code",
   "execution_count": null,
   "metadata": {},
   "outputs": [],
   "source": [
    "# GET/api1\n",
    "#tkt=str(args['tkt'][0])\n",
    "req = json.loads(REQUEST)\n",
    "args = req['args']\n",
    "if 'ven' not in args:\n",
    "    print(json.dumps({'ticket_Noresults': None}))\n",
    "else:\n",
    "    tkt=str(request.args['tkt'])\n",
    "    sp4 = \"\"\"EXEC [dbo].[SPVRef_Ticket]    @TicketNumber=?\"\"\"\n",
    "    params=tkt\n",
    "    cursor.execute(sp4,params)\n",
    "    column_names_list = [x[0] for x in cursor.description]\n",
    "    result_dicts = [dict(zip(column_names_list, row)) for row in cursor.fetchall()]\n",
    "    df=pd.DataFrame(result_dicts)\n",
    "    converted=df.to_json(orient='records')\n",
    "    print(converted)"
   ]
  }
 ],
 "metadata": {
  "kernelspec": {
   "display_name": "Python 3",
   "language": "python",
   "name": "python3"
  },
  "language_info": {
   "codemirror_mode": {
    "name": "ipython",
    "version": 3
   },
   "file_extension": ".py",
   "mimetype": "text/x-python",
   "name": "python",
   "nbconvert_exporter": "python",
   "pygments_lexer": "ipython3",
   "version": "3.7.3"
  }
 },
 "nbformat": 4,
 "nbformat_minor": 2
}
