{
 "cells": [
  {
   "cell_type": "code",
   "execution_count": 8,
   "metadata": {},
   "outputs": [
    {
     "name": "stdout",
     "output_type": "stream",
     "text": [
      "Collecting azureml-train\n",
      "  Downloading https://files.pythonhosted.org/packages/90/bf/a0d0805225745042c34436cc59bec7b15c2a2a15789e269265009d0e698c/azureml_train-1.0.69-py3-none-any.whl\n",
      "Collecting azureml-train-core==1.0.69.* (from azureml-train)\n",
      "  Downloading https://files.pythonhosted.org/packages/99/7d/fa2dcd9dad9c12ee75d02d5937b7300ae861a7ef0b55fc01219de53e08fb/azureml_train_core-1.0.69-py3-none-any.whl (77kB)\n",
      "Requirement already satisfied: azureml-core==1.0.69.* in c:\\users\\v-savrav\\appdata\\local\\continuum\\anaconda3\\lib\\site-packages (from azureml-train-core==1.0.69.*->azureml-train) (1.0.69)\n",
      "Collecting azureml-telemetry==1.0.69.* (from azureml-train-core==1.0.69.*->azureml-train)\n",
      "  Downloading https://files.pythonhosted.org/packages/e2/2e/bc955dce515bafc0e6edb5af20c83f06edf2551e0592bfdfe9080da96506/azureml_telemetry-1.0.69-py3-none-any.whl\n",
      "Collecting azureml-train-restclients-hyperdrive==1.0.69.* (from azureml-train-core==1.0.69.*->azureml-train)\n",
      "  Downloading https://files.pythonhosted.org/packages/be/be/77659dc5049a57d5114af18f006c7cf9ab883c63f62c51b583bc72134068/azureml_train_restclients_hyperdrive-1.0.69-py3-none-any.whl\n",
      "Requirement already satisfied: jsonpickle in c:\\users\\v-savrav\\appdata\\local\\continuum\\anaconda3\\lib\\site-packages (from azureml-core==1.0.69.*->azureml-train-core==1.0.69.*->azureml-train) (1.2)\n",
      "Requirement already satisfied: six>=1.11.0 in c:\\users\\v-savrav\\appdata\\local\\continuum\\anaconda3\\lib\\site-packages (from azureml-core==1.0.69.*->azureml-train-core==1.0.69.*->azureml-train) (1.12.0)\n",
      "Requirement already satisfied: contextlib2 in c:\\users\\v-savrav\\appdata\\local\\continuum\\anaconda3\\lib\\site-packages (from azureml-core==1.0.69.*->azureml-train-core==1.0.69.*->azureml-train) (0.5.5)\n",
      "Requirement already satisfied: msrestazure>=0.4.33 in c:\\users\\v-savrav\\appdata\\local\\continuum\\anaconda3\\lib\\site-packages (from azureml-core==1.0.69.*->azureml-train-core==1.0.69.*->azureml-train) (0.6.2)\n",
      "Requirement already satisfied: PyJWT in c:\\users\\v-savrav\\appdata\\local\\continuum\\anaconda3\\lib\\site-packages (from azureml-core==1.0.69.*->azureml-train-core==1.0.69.*->azureml-train) (1.7.1)\n",
      "Requirement already satisfied: azure-mgmt-authorization>=0.40.0 in c:\\users\\v-savrav\\appdata\\local\\continuum\\anaconda3\\lib\\site-packages (from azureml-core==1.0.69.*->azureml-train-core==1.0.69.*->azureml-train) (0.60.0)\n",
      "Requirement already satisfied: azure-mgmt-keyvault>=0.40.0 in c:\\users\\v-savrav\\appdata\\local\\continuum\\anaconda3\\lib\\site-packages (from azureml-core==1.0.69.*->azureml-train-core==1.0.69.*->azureml-train) (2.0.0)\n",
      "Requirement already satisfied: azure-mgmt-resource>=1.2.1 in c:\\users\\v-savrav\\appdata\\local\\continuum\\anaconda3\\lib\\site-packages (from azureml-core==1.0.69.*->azureml-train-core==1.0.69.*->azureml-train) (5.1.0)\n",
      "Requirement already satisfied: pathspec in c:\\users\\v-savrav\\appdata\\local\\continuum\\anaconda3\\lib\\site-packages (from azureml-core==1.0.69.*->azureml-train-core==1.0.69.*->azureml-train) (0.6.0)\n",
      "Requirement already satisfied: python-dateutil>=2.7.3 in c:\\users\\v-savrav\\appdata\\local\\continuum\\anaconda3\\lib\\site-packages (from azureml-core==1.0.69.*->azureml-train-core==1.0.69.*->azureml-train) (2.8.0)\n",
      "Requirement already satisfied: pytz in c:\\users\\v-savrav\\appdata\\local\\continuum\\anaconda3\\lib\\site-packages (from azureml-core==1.0.69.*->azureml-train-core==1.0.69.*->azureml-train) (2019.1)\n",
      "Requirement already satisfied: msrest>=0.5.1 in c:\\users\\v-savrav\\appdata\\local\\continuum\\anaconda3\\lib\\site-packages (from azureml-core==1.0.69.*->azureml-train-core==1.0.69.*->azureml-train) (0.6.10)\n",
      "Requirement already satisfied: docker in c:\\users\\v-savrav\\appdata\\local\\continuum\\anaconda3\\lib\\site-packages (from azureml-core==1.0.69.*->azureml-train-core==1.0.69.*->azureml-train) (4.1.0)\n",
      "Requirement already satisfied: urllib3>=1.23 in c:\\users\\v-savrav\\appdata\\local\\continuum\\anaconda3\\lib\\site-packages (from azureml-core==1.0.69.*->azureml-train-core==1.0.69.*->azureml-train) (1.24.2)\n",
      "Requirement already satisfied: cryptography!=1.9,!=2.0.*,!=2.1.*,!=2.2.* in c:\\users\\v-savrav\\appdata\\local\\continuum\\anaconda3\\lib\\site-packages (from azureml-core==1.0.69.*->azureml-train-core==1.0.69.*->azureml-train) (2.7)\n",
      "Requirement already satisfied: ndg-httpsclient in c:\\users\\v-savrav\\appdata\\local\\continuum\\anaconda3\\lib\\site-packages (from azureml-core==1.0.69.*->azureml-train-core==1.0.69.*->azureml-train) (0.5.1)\n",
      "Requirement already satisfied: jmespath in c:\\users\\v-savrav\\appdata\\local\\continuum\\anaconda3\\lib\\site-packages (from azureml-core==1.0.69.*->azureml-train-core==1.0.69.*->azureml-train) (0.9.4)\n",
      "Requirement already satisfied: adal>=1.2.0 in c:\\users\\v-savrav\\appdata\\local\\continuum\\anaconda3\\lib\\site-packages (from azureml-core==1.0.69.*->azureml-train-core==1.0.69.*->azureml-train) (1.2.2)\n",
      "Requirement already satisfied: ruamel.yaml<=0.15.89,>=0.15.35 in c:\\users\\v-savrav\\appdata\\local\\continuum\\anaconda3\\lib\\site-packages (from azureml-core==1.0.69.*->azureml-train-core==1.0.69.*->azureml-train) (0.15.89)\n",
      "Requirement already satisfied: pyopenssl in c:\\users\\v-savrav\\appdata\\local\\continuum\\anaconda3\\lib\\site-packages (from azureml-core==1.0.69.*->azureml-train-core==1.0.69.*->azureml-train) (19.0.0)\n",
      "Requirement already satisfied: azure-graphrbac>=0.40.0 in c:\\users\\v-savrav\\appdata\\local\\continuum\\anaconda3\\lib\\site-packages (from azureml-core==1.0.69.*->azureml-train-core==1.0.69.*->azureml-train) (0.61.1)\n",
      "Requirement already satisfied: azure-mgmt-storage>=1.5.0 in c:\\users\\v-savrav\\appdata\\local\\continuum\\anaconda3\\lib\\site-packages (from azureml-core==1.0.69.*->azureml-train-core==1.0.69.*->azureml-train) (5.0.0)\n",
      "Requirement already satisfied: azure-common>=1.1.12 in c:\\users\\v-savrav\\appdata\\local\\continuum\\anaconda3\\lib\\site-packages (from azureml-core==1.0.69.*->azureml-train-core==1.0.69.*->azureml-train) (1.1.23)\n",
      "Requirement already satisfied: SecretStorage in c:\\users\\v-savrav\\appdata\\local\\continuum\\anaconda3\\lib\\site-packages (from azureml-core==1.0.69.*->azureml-train-core==1.0.69.*->azureml-train) (3.1.1)\n",
      "Requirement already satisfied: backports.tempfile in c:\\users\\v-savrav\\appdata\\local\\continuum\\anaconda3\\lib\\site-packages (from azureml-core==1.0.69.*->azureml-train-core==1.0.69.*->azureml-train) (1.0)\n",
      "Requirement already satisfied: requests>=2.19.1 in c:\\users\\v-savrav\\appdata\\local\\continuum\\anaconda3\\lib\\site-packages (from azureml-core==1.0.69.*->azureml-train-core==1.0.69.*->azureml-train) (2.22.0)\n",
      "Requirement already satisfied: azure-mgmt-containerregistry>=2.0.0 in c:\\users\\v-savrav\\appdata\\local\\continuum\\anaconda3\\lib\\site-packages (from azureml-core==1.0.69.*->azureml-train-core==1.0.69.*->azureml-train) (2.8.0)\n",
      "Collecting applicationinsights (from azureml-telemetry==1.0.69.*->azureml-train-core==1.0.69.*->azureml-train)\n",
      "  Downloading https://files.pythonhosted.org/packages/a1/53/234c53004f71f0717d8acd37876e0b65c121181167057b9ce1b1795f96a0/applicationinsights-0.11.9-py2.py3-none-any.whl (58kB)\n",
      "Requirement already satisfied: requests-oauthlib>=0.5.0 in c:\\users\\v-savrav\\appdata\\local\\continuum\\anaconda3\\lib\\site-packages (from msrest>=0.5.1->azureml-core==1.0.69.*->azureml-train-core==1.0.69.*->azureml-train) (1.2.0)\n",
      "Requirement already satisfied: isodate>=0.6.0 in c:\\users\\v-savrav\\appdata\\local\\continuum\\anaconda3\\lib\\site-packages (from msrest>=0.5.1->azureml-core==1.0.69.*->azureml-train-core==1.0.69.*->azureml-train) (0.6.0)\n",
      "Requirement already satisfied: certifi>=2017.4.17 in c:\\users\\v-savrav\\appdata\\local\\continuum\\anaconda3\\lib\\site-packages (from msrest>=0.5.1->azureml-core==1.0.69.*->azureml-train-core==1.0.69.*->azureml-train) (2019.6.16)\n",
      "Requirement already satisfied: websocket-client>=0.32.0 in c:\\users\\v-savrav\\appdata\\local\\continuum\\anaconda3\\lib\\site-packages (from docker->azureml-core==1.0.69.*->azureml-train-core==1.0.69.*->azureml-train) (0.56.0)\n",
      "Requirement already satisfied: pypiwin32==223; sys_platform == \"win32\" and python_version >= \"3.6\" in c:\\users\\v-savrav\\appdata\\local\\continuum\\anaconda3\\lib\\site-packages (from docker->azureml-core==1.0.69.*->azureml-train-core==1.0.69.*->azureml-train) (223)\n",
      "Requirement already satisfied: asn1crypto>=0.21.0 in c:\\users\\v-savrav\\appdata\\local\\continuum\\anaconda3\\lib\\site-packages (from cryptography!=1.9,!=2.0.*,!=2.1.*,!=2.2.*->azureml-core==1.0.69.*->azureml-train-core==1.0.69.*->azureml-train) (0.24.0)\n",
      "Requirement already satisfied: cffi!=1.11.3,>=1.8 in c:\\users\\v-savrav\\appdata\\local\\continuum\\anaconda3\\lib\\site-packages (from cryptography!=1.9,!=2.0.*,!=2.1.*,!=2.2.*->azureml-core==1.0.69.*->azureml-train-core==1.0.69.*->azureml-train) (1.12.3)\n",
      "Requirement already satisfied: pyasn1>=0.1.1 in c:\\users\\v-savrav\\appdata\\local\\continuum\\anaconda3\\lib\\site-packages (from ndg-httpsclient->azureml-core==1.0.69.*->azureml-train-core==1.0.69.*->azureml-train) (0.4.7)\n",
      "Requirement already satisfied: jeepney in c:\\users\\v-savrav\\appdata\\local\\continuum\\anaconda3\\lib\\site-packages (from SecretStorage->azureml-core==1.0.69.*->azureml-train-core==1.0.69.*->azureml-train) (0.4.1)\n",
      "Requirement already satisfied: backports.weakref in c:\\users\\v-savrav\\appdata\\local\\continuum\\anaconda3\\lib\\site-packages (from backports.tempfile->azureml-core==1.0.69.*->azureml-train-core==1.0.69.*->azureml-train) (1.0.post1)\n",
      "Requirement already satisfied: chardet<3.1.0,>=3.0.2 in c:\\users\\v-savrav\\appdata\\local\\continuum\\anaconda3\\lib\\site-packages (from requests>=2.19.1->azureml-core==1.0.69.*->azureml-train-core==1.0.69.*->azureml-train) (3.0.4)\n",
      "Requirement already satisfied: idna<2.9,>=2.5 in c:\\users\\v-savrav\\appdata\\local\\continuum\\anaconda3\\lib\\site-packages (from requests>=2.19.1->azureml-core==1.0.69.*->azureml-train-core==1.0.69.*->azureml-train) (2.8)\n",
      "Requirement already satisfied: oauthlib>=3.0.0 in c:\\users\\v-savrav\\appdata\\local\\continuum\\anaconda3\\lib\\site-packages (from requests-oauthlib>=0.5.0->msrest>=0.5.1->azureml-core==1.0.69.*->azureml-train-core==1.0.69.*->azureml-train) (3.1.0)\n",
      "Requirement already satisfied: pywin32>=223 in c:\\users\\v-savrav\\appdata\\local\\continuum\\anaconda3\\lib\\site-packages (from pypiwin32==223; sys_platform == \"win32\" and python_version >= \"3.6\"->docker->azureml-core==1.0.69.*->azureml-train-core==1.0.69.*->azureml-train) (223)\n",
      "Requirement already satisfied: pycparser in c:\\users\\v-savrav\\appdata\\local\\continuum\\anaconda3\\lib\\site-packages (from cffi!=1.11.3,>=1.8->cryptography!=1.9,!=2.0.*,!=2.1.*,!=2.2.*->azureml-core==1.0.69.*->azureml-train-core==1.0.69.*->azureml-train) (2.19)\n",
      "Installing collected packages: applicationinsights, azureml-telemetry, azureml-train-restclients-hyperdrive, azureml-train-core, azureml-train\n",
      "Successfully installed applicationinsights-0.11.9 azureml-telemetry-1.0.69 azureml-train-1.0.69 azureml-train-core-1.0.69 azureml-train-restclients-hyperdrive-1.0.69\n"
     ]
    }
   ],
   "source": [
    "#!pip install azureml\n",
    "#!pip install azureml-core\n",
    "#!pip install azureml-train\n",
    "import os\n",
    "import urllib\n",
    "import shutil\n",
    "import azureml\n",
    "\n",
    "from azureml.core import Experiment\n",
    "from azureml.core import Workspace, Run\n",
    "\n",
    "from azureml.core.compute import ComputeTarget, AmlCompute\n",
    "from azureml.core.compute_target import ComputeTargetException"
   ]
  },
  {
   "cell_type": "code",
   "execution_count": 6,
   "metadata": {},
   "outputs": [
    {
     "name": "stdout",
     "output_type": "stream",
     "text": [
      "Azure ML SDK Version:  1.0.69\n"
     ]
    }
   ],
   "source": [
    "print(\"Azure ML SDK Version: \", azureml.core.VERSION)"
   ]
  },
  {
   "cell_type": "code",
   "execution_count": 9,
   "metadata": {},
   "outputs": [],
   "source": [
    "import os\n",
    "import shutil\n",
    "\n",
    "from azureml.core.workspace import Workspace\n",
    "from azureml.core import Experiment\n",
    "\n",
    "from azureml.core.compute import ComputeTarget, AmlCompute\n",
    "from azureml.core.compute_target import ComputeTargetException\n",
    "from azureml.train.dnn import PyTorch"
   ]
  },
  {
   "cell_type": "code",
   "execution_count": 11,
   "metadata": {},
   "outputs": [
    {
     "name": "stdout",
     "output_type": "stream",
     "text": [
      "Performing interactive authentication. Please follow the instructions on the terminal.\n"
     ]
    },
    {
     "name": "stderr",
     "output_type": "stream",
     "text": [
      "Note, we have launched a browser for you to login. For old experience with device code, use \"az login --use-device-code\"\n",
      "You have logged in. Now let us find all the subscriptions to which you have access...\n"
     ]
    },
    {
     "name": "stdout",
     "output_type": "stream",
     "text": [
      "Interactive authentication successfully completed.\n"
     ]
    }
   ],
   "source": [
    "ws = Workspace.from_config()"
   ]
  },
  {
   "cell_type": "code",
   "execution_count": 12,
   "metadata": {},
   "outputs": [
    {
     "name": "stdout",
     "output_type": "stream",
     "text": [
      "[{'name': 'Standard_NV6', 'vCPUs': 6, 'gpus': 1, 'memoryGB': 56.0, 'maxResourceVolumeMB': 389120}, {'name': 'Standard_NV12', 'vCPUs': 12, 'gpus': 2, 'memoryGB': 112.0, 'maxResourceVolumeMB': 696320}, {'name': 'Standard_NV24', 'vCPUs': 24, 'gpus': 4, 'memoryGB': 224.0, 'maxResourceVolumeMB': 1474560}, {'name': 'Standard_D1_v2', 'vCPUs': 1, 'gpus': 0, 'memoryGB': 3.5, 'maxResourceVolumeMB': 51200}, {'name': 'Standard_D2_v2', 'vCPUs': 2, 'gpus': 0, 'memoryGB': 7.0, 'maxResourceVolumeMB': 102400}, {'name': 'Standard_D3_v2', 'vCPUs': 4, 'gpus': 0, 'memoryGB': 14.0, 'maxResourceVolumeMB': 204800}, {'name': 'Standard_D4_v2', 'vCPUs': 8, 'gpus': 0, 'memoryGB': 28.0, 'maxResourceVolumeMB': 409600}, {'name': 'Standard_D11_v2', 'vCPUs': 2, 'gpus': 0, 'memoryGB': 14.0, 'maxResourceVolumeMB': 102400}, {'name': 'Standard_D12_v2', 'vCPUs': 4, 'gpus': 0, 'memoryGB': 28.0, 'maxResourceVolumeMB': 204800}, {'name': 'Standard_D13_v2', 'vCPUs': 8, 'gpus': 0, 'memoryGB': 56.0, 'maxResourceVolumeMB': 409600}, {'name': 'Standard_D14_v2', 'vCPUs': 16, 'gpus': 0, 'memoryGB': 112.0, 'maxResourceVolumeMB': 819200}, {'name': 'Standard_DS1_v2', 'vCPUs': 1, 'gpus': 0, 'memoryGB': 3.5, 'maxResourceVolumeMB': 7168}, {'name': 'Standard_DS2_v2', 'vCPUs': 2, 'gpus': 0, 'memoryGB': 7.0, 'maxResourceVolumeMB': 14336}, {'name': 'Standard_DS3_v2', 'vCPUs': 4, 'gpus': 0, 'memoryGB': 14.0, 'maxResourceVolumeMB': 28672}, {'name': 'Standard_DS4_v2', 'vCPUs': 8, 'gpus': 0, 'memoryGB': 28.0, 'maxResourceVolumeMB': 57344}, {'name': 'Standard_DS5_v2', 'vCPUs': 16, 'gpus': 0, 'memoryGB': 56.0, 'maxResourceVolumeMB': 114688}, {'name': 'Standard_DS11_v2', 'vCPUs': 2, 'gpus': 0, 'memoryGB': 14.0, 'maxResourceVolumeMB': 28672}, {'name': 'Standard_DS12_v2', 'vCPUs': 4, 'gpus': 0, 'memoryGB': 28.0, 'maxResourceVolumeMB': 57344}, {'name': 'Standard_DS13_v2', 'vCPUs': 8, 'gpus': 0, 'memoryGB': 56.0, 'maxResourceVolumeMB': 114688}, {'name': 'Standard_DS14_v2', 'vCPUs': 16, 'gpus': 0, 'memoryGB': 112.0, 'maxResourceVolumeMB': 229376}, {'name': 'Standard_D1', 'vCPUs': 1, 'gpus': 0, 'memoryGB': 3.5, 'maxResourceVolumeMB': 51200}, {'name': 'Standard_D2', 'vCPUs': 2, 'gpus': 0, 'memoryGB': 7.0, 'maxResourceVolumeMB': 102400}, {'name': 'Standard_D3', 'vCPUs': 4, 'gpus': 0, 'memoryGB': 14.0, 'maxResourceVolumeMB': 204800}, {'name': 'Standard_D4', 'vCPUs': 8, 'gpus': 0, 'memoryGB': 28.0, 'maxResourceVolumeMB': 409600}, {'name': 'Standard_D11', 'vCPUs': 2, 'gpus': 0, 'memoryGB': 14.0, 'maxResourceVolumeMB': 102400}, {'name': 'Standard_D12', 'vCPUs': 4, 'gpus': 0, 'memoryGB': 28.0, 'maxResourceVolumeMB': 204800}, {'name': 'Standard_D13', 'vCPUs': 8, 'gpus': 0, 'memoryGB': 56.0, 'maxResourceVolumeMB': 409600}, {'name': 'Standard_D14', 'vCPUs': 16, 'gpus': 0, 'memoryGB': 112.0, 'maxResourceVolumeMB': 819200}, {'name': 'Standard_DS15_v2', 'vCPUs': 20, 'gpus': 0, 'memoryGB': 140.0, 'maxResourceVolumeMB': 286720}, {'name': 'Standard_NC6s_v3', 'vCPUs': 6, 'gpus': 1, 'memoryGB': 112.0, 'maxResourceVolumeMB': 344064}, {'name': 'Standard_NC12s_v3', 'vCPUs': 12, 'gpus': 2, 'memoryGB': 224.0, 'maxResourceVolumeMB': 688128}, {'name': 'Standard_NC24rs_v3', 'vCPUs': 24, 'gpus': 4, 'memoryGB': 448.0, 'maxResourceVolumeMB': 1376256}, {'name': 'Standard_NC24s_v3', 'vCPUs': 24, 'gpus': 4, 'memoryGB': 448.0, 'maxResourceVolumeMB': 1376256}, {'name': 'Standard_NC6s_v2', 'vCPUs': 6, 'gpus': 1, 'memoryGB': 112.0, 'maxResourceVolumeMB': 344064}, {'name': 'Standard_NC12s_v2', 'vCPUs': 12, 'gpus': 2, 'memoryGB': 224.0, 'maxResourceVolumeMB': 688128}, {'name': 'Standard_NC24rs_v2', 'vCPUs': 24, 'gpus': 4, 'memoryGB': 448.0, 'maxResourceVolumeMB': 1376256}, {'name': 'Standard_NC24s_v2', 'vCPUs': 24, 'gpus': 4, 'memoryGB': 448.0, 'maxResourceVolumeMB': 1376256}, {'name': 'Standard_F2s_v2', 'vCPUs': 2, 'gpus': 0, 'memoryGB': 4.0, 'maxResourceVolumeMB': 16384}, {'name': 'Standard_F4s_v2', 'vCPUs': 4, 'gpus': 0, 'memoryGB': 8.0, 'maxResourceVolumeMB': 32768}, {'name': 'Standard_F8s_v2', 'vCPUs': 8, 'gpus': 0, 'memoryGB': 16.0, 'maxResourceVolumeMB': 65536}, {'name': 'Standard_F16s_v2', 'vCPUs': 16, 'gpus': 0, 'memoryGB': 32.0, 'maxResourceVolumeMB': 131072}, {'name': 'Standard_F32s_v2', 'vCPUs': 32, 'gpus': 0, 'memoryGB': 64.0, 'maxResourceVolumeMB': 262144}, {'name': 'Standard_F64s_v2', 'vCPUs': 64, 'gpus': 0, 'memoryGB': 128.0, 'maxResourceVolumeMB': 524288}, {'name': 'Standard_F72s_v2', 'vCPUs': 72, 'gpus': 0, 'memoryGB': 144.0, 'maxResourceVolumeMB': 589824}]\n"
     ]
    }
   ],
   "source": [
    "from azureml.core.compute import ComputeTarget, AmlCompute\n",
    "\n",
    "# First, list the supported VM families for Azure Machine Learning Compute\n",
    "print(AmlCompute.supported_vmsizes(workspace=ws))"
   ]
  },
  {
   "cell_type": "code",
   "execution_count": 13,
   "metadata": {},
   "outputs": [],
   "source": [
    "from azureml.core.runconfig import RunConfiguration\n",
    "# Create a new runconfig object\n",
    "run_temp_compute = RunConfiguration()\n",
    "\n",
    "# Signal that you want to use AmlCompute to execute the script\n",
    "run_temp_compute.target = \"amlcompute\"\n",
    "\n",
    "# AmlCompute is created in the same region as your workspace\n",
    "# Set the VM size for AmlCompute from the list of supported_vmsizes\n",
    "run_temp_compute.amlcompute.vm_size = 'Standard_NV6'"
   ]
  },
  {
   "cell_type": "markdown",
   "metadata": {},
   "source": [
    "# Create experiment"
   ]
  },
  {
   "cell_type": "code",
   "execution_count": 14,
   "metadata": {},
   "outputs": [],
   "source": [
    "\n",
    "experiment_name = 'Text-Analytics'\n",
    "\n",
    "from azureml.core import Experiment\n",
    "exp = Experiment(workspace=ws, name=experiment_name)"
   ]
  },
  {
   "cell_type": "code",
   "execution_count": 15,
   "metadata": {},
   "outputs": [],
   "source": [
    "\n",
    "import urllib.request\n",
    "\n",
    "data_folder = os.path.join(os.getcwd(), 'data')"
   ]
  },
  {
   "cell_type": "code",
   "execution_count": 19,
   "metadata": {},
   "outputs": [
    {
     "name": "stdout",
     "output_type": "stream",
     "text": [
      "Collecting utils\n",
      "  Downloading https://files.pythonhosted.org/packages/9b/de/9ffaf89be661b32d1e0cff05e1af5e4fc2d608c47498975e94aca219aed4/utils-0.9.0-py2.py3-none-any.whl\n",
      "Installing collected packages: utils\n",
      "Successfully installed utils-0.9.0\n"
     ]
    }
   ],
   "source": [
    "!pip install utils"
   ]
  },
  {
   "cell_type": "code",
   "execution_count": 21,
   "metadata": {},
   "outputs": [
    {
     "ename": "ImportError",
     "evalue": "cannot import name 'load_data' from 'utils' (C:\\Users\\v-savrav\\AppData\\Local\\Continuum\\anaconda3\\lib\\site-packages\\utils\\__init__.py)",
     "output_type": "error",
     "traceback": [
      "\u001b[1;31m---------------------------------------------------------------------------\u001b[0m",
      "\u001b[1;31mImportError\u001b[0m                               Traceback (most recent call last)",
      "\u001b[1;32m<ipython-input-21-cf18b1a1cfad>\u001b[0m in \u001b[0;36m<module>\u001b[1;34m\u001b[0m\n\u001b[0;32m      1\u001b[0m \u001b[1;31m# make sure utils.py is in the same directory as this code\u001b[0m\u001b[1;33m\u001b[0m\u001b[1;33m\u001b[0m\u001b[1;33m\u001b[0m\u001b[0m\n\u001b[1;32m----> 2\u001b[1;33m \u001b[1;32mfrom\u001b[0m \u001b[0mutils\u001b[0m \u001b[1;32mimport\u001b[0m \u001b[0mload_data\u001b[0m\u001b[1;33m\u001b[0m\u001b[1;33m\u001b[0m\u001b[0m\n\u001b[0m\u001b[0;32m      3\u001b[0m \u001b[1;33m\u001b[0m\u001b[0m\n\u001b[0;32m      4\u001b[0m \u001b[1;31m# note we also shrink the intensity values (X) from 0-255 to 0-1. This helps the model converge faster.\u001b[0m\u001b[1;33m\u001b[0m\u001b[1;33m\u001b[0m\u001b[1;33m\u001b[0m\u001b[0m\n\u001b[0;32m      5\u001b[0m \u001b[0mdata\u001b[0m \u001b[1;33m=\u001b[0m \u001b[0mload_data\u001b[0m\u001b[1;33m(\u001b[0m\u001b[0mos\u001b[0m\u001b[1;33m.\u001b[0m\u001b[0mpath\u001b[0m\u001b[1;33m.\u001b[0m\u001b[0mjoin\u001b[0m\u001b[1;33m(\u001b[0m\u001b[0mdata_folder\u001b[0m\u001b[1;33m,\u001b[0m \u001b[1;34m'datasetv1.xlsx'\u001b[0m\u001b[1;33m)\u001b[0m\u001b[1;33m,\u001b[0m \u001b[1;32mFalse\u001b[0m\u001b[1;33m)\u001b[0m\u001b[1;33m\u001b[0m\u001b[1;33m\u001b[0m\u001b[0m\n",
      "\u001b[1;31mImportError\u001b[0m: cannot import name 'load_data' from 'utils' (C:\\Users\\v-savrav\\AppData\\Local\\Continuum\\anaconda3\\lib\\site-packages\\utils\\__init__.py)"
     ]
    }
   ],
   "source": [
    "# make sure utils.py is in the same directory as this code\n",
    "from utils import load_data\n",
    "\n",
    "# note we also shrink the intensity values (X) from 0-255 to 0-1. This helps the model converge faster.\n",
    "data = load_data(os.path.join(data_folder, 'datasetv1.xlsx'), False) "
   ]
  },
  {
   "cell_type": "code",
   "execution_count": null,
   "metadata": {},
   "outputs": [],
   "source": []
  }
 ],
 "metadata": {
  "kernelspec": {
   "display_name": "Python 3",
   "language": "python",
   "name": "python3"
  },
  "language_info": {
   "codemirror_mode": {
    "name": "ipython",
    "version": 3
   },
   "file_extension": ".py",
   "mimetype": "text/x-python",
   "name": "python",
   "nbconvert_exporter": "python",
   "pygments_lexer": "ipython3",
   "version": "3.7.3"
  }
 },
 "nbformat": 4,
 "nbformat_minor": 2
}
