{
 "cells": [
  {
   "cell_type": "code",
   "execution_count": 3,
   "metadata": {},
   "outputs": [],
   "source": [
    "#!pip install jupyter_kernel_gateway"
   ]
  },
  {
   "cell_type": "code",
   "execution_count": 1,
   "metadata": {},
   "outputs": [],
   "source": [
    "import math\n",
    "import json\n",
    "import requests\n",
    "import pandas as pd"
   ]
  },
  {
   "cell_type": "code",
   "execution_count": 2,
   "metadata": {},
   "outputs": [],
   "source": [
    "REQUEST = json.dumps({\n",
    "'path' : {},\n",
    "'args' : {},\n",
    "})\n",
    "request = json.loads(REQUEST)\n",
    "code = request['path'].get('code')"
   ]
  },
  {
   "cell_type": "code",
   "execution_count": 3,
   "metadata": {},
   "outputs": [],
   "source": [
    "import pyodbc \n",
    "conn = pyodbc.connect('Driver={SQL Server};'\n",
    "                      'Server=azgovprdsql11;'\n",
    "                      'Database=OneFinReports;'\n",
    "                      'Trusted_Connection=yes;')\n",
    "cursor = conn.cursor()\n"
   ]
  },
  {
   "cell_type": "code",
   "execution_count": 4,
   "metadata": {},
   "outputs": [
    {
     "name": "stdout",
     "output_type": "stream",
     "text": [
      "{\"getVendor\": null}\n"
     ]
    }
   ],
   "source": [
    "# GET /getVendor\n",
    "req = json.loads(REQUEST)\n",
    "args = req['args']\n",
    "if 'tkt' not in args:\n",
    "    print(json.dumps({'getVendor': None}))\n",
    "else:\n",
    "    tkt=str(args['tkt'][0])\n",
    "    req = json.loads(REQUEST)\n",
    "    sp1 = \"\"\"EXEC [dbo].[SPVref] @TicketNumber=?\"\"\"\n",
    "    params=tkt\n",
    "    cursor.execute(sp1,params)\n",
    "    column_names_list = [x[0] for x in cursor.description]\n",
    "    result_dicts = [dict(zip(column_names_list, row)) for row in cursor.fetchall()]\n",
    "    email_df=pd.DataFrame(result_dicts)\n",
    "    converted=email_df.to_json(orient='records')\n",
    "    print(converted)"
   ]
  },
  {
   "cell_type": "code",
   "execution_count": 5,
   "metadata": {},
   "outputs": [
    {
     "name": "stdout",
     "output_type": "stream",
     "text": [
      "{\"getVendor\": null}\n"
     ]
    }
   ],
   "source": [
    "# GET /RMAP\n",
    "req = json.loads(REQUEST)\n",
    "args = req['args']\n",
    "if 'tkt' not in args:\n",
    "    print(json.dumps({'getVendor': None}))\n",
    "else:\n",
    "    tkt=str(args['tkt'][0])  \n",
    "    sp1 = \"\"\"EXEC [dbo].[usp_getRMAP14] @TicketNumber=?\"\"\"\n",
    "    print(tkt)\n",
    "    params=tkt\n",
    "    cursor.execute(sp1,params)\n",
    "    column_names_list = [x[0] for x in cursor.description]\n",
    "    result_dicts = [dict(zip(column_names_list, row)) for row in cursor.fetchall()]\n",
    "    df=pd.DataFrame(result_dicts)\n",
    "    converted=df.to_json(orient='records')\n",
    "    print(converted)\n"
   ]
  },
  {
   "cell_type": "code",
   "execution_count": 16,
   "metadata": {},
   "outputs": [
    {
     "name": "stdout",
     "output_type": "stream",
     "text": [
      "{\"ticket_Noresults\": null}\n"
     ]
    }
   ],
   "source": [
    "# GET /api1\n",
    "#tkt=str(args['tkt'][0])\n",
    "req = json.loads(REQUEST)\n",
    "args = req['args']\n",
    "if 'tkt' not in args:\n",
    "    print(json.dumps({'ticket_Noresults': None}))\n",
    "else:\n",
    "    tkt=str(args['tkt'][0])\n",
    "    sp4 = \"\"\"EXEC [dbo].[SPVRef_Ticket]    @TicketNumber=?\"\"\"\n",
    "    params=tkt\n",
    "    cursor.execute(sp4,params)\n",
    "    column_names_list = [x[0] for x in cursor.description]\n",
    "    result_dicts = [dict(zip(column_names_list, row)) for row in cursor.fetchall()]\n",
    "    df=pd.DataFrame(result_dicts)\n",
    "    converted=df.to_json(orient='records')\n",
    "    print(converted)"
   ]
  },
  {
   "cell_type": "code",
   "execution_count": 6,
   "metadata": {},
   "outputs": [
    {
     "name": "stdout",
     "output_type": "stream",
     "text": [
      "{\"ageing\": null}\n"
     ]
    }
   ],
   "source": [
    "# GET /ageing\n",
    "req = json.loads(REQUEST)\n",
    "args = req['args']\n",
    "\n",
    "if 'tkt' not in args:\n",
    "    print(json.dumps({'ageing': None}))\n",
    "else:\n",
    "    tkt=str(args['tkt'][0])\n",
    "    sp2 = \"\"\"EXEC [dbo].[usp_getAgeing] @TicketNumber=?\"\"\"\n",
    "    params=tkt\n",
    "    cursor.execute(sp2,params)\n",
    "    column_names_list = [x[0] for x in cursor.description]\n",
    "    result_dicts = [dict(zip(column_names_list, row)) for row in cursor.fetchall()]\n",
    "    df=pd.DataFrame(result_dicts)\n",
    "    converted=df.to_json(orient='records')\n",
    "    print(df)\n"
   ]
  },
  {
   "cell_type": "code",
   "execution_count": 17,
   "metadata": {},
   "outputs": [
    {
     "name": "stdout",
     "output_type": "stream",
     "text": [
      "{\"ticket_Noresults\": null}\n"
     ]
    }
   ],
   "source": [
    "# GET /api2\n",
    "#tkt=str(args['tkt'][0])\n",
    "req = json.loads(REQUEST)\n",
    "args = req['args']\n",
    "if 'ven' not in args:\n",
    "    print(json.dumps({'ticket_Noresults': None}))\n",
    "else:\n",
    "    ven=str(args['ven'][0])\n",
    "    sp4 = \"\"\"EXEC [dbo].[SPVRef_ZOPINV]  @VendorNumber=?\"\"\"\n",
    "    params=ven\n",
    "    cursor.execute(sp4,params)\n",
    "    column_names_list = [x[0] for x in cursor.description]\n",
    "    result_dicts = [dict(zip(column_names_list, row)) for row in cursor.fetchall()]\n",
    "    df=pd.DataFrame(result_dicts)\n",
    "    converted=df.to_json(orient='records')\n",
    "    print(converted)"
   ]
  },
  {
   "cell_type": "code",
   "execution_count": 53,
   "metadata": {},
   "outputs": [
    {
     "name": "stdout",
     "output_type": "stream",
     "text": [
      "{\"ticket_Noresults\": null}\n"
     ]
    }
   ],
   "source": [
    "# GET /api3\n",
    "req = json.loads(REQUEST)\n",
    "args = req['args']\n",
    "\n",
    "#print(po)\n",
    "if 'ven' not in args:\n",
    "    print(json.dumps({'ticket_Noresults': None}))\n",
    "else:\n",
    "    ven_no=str(args['ven'][0])\n",
    "    #print(ven_no)\n",
    "    po=str(args['po'][0]) \n",
    "    #print(po)\n",
    "    sp2 = \"\"\"EXEC [dbo].[SPVRef_Invoice] @VendorNumber=? , @PONumber=?\"\"\"\n",
    "    cursor.execute(sp2,ven_no,po)\n",
    "    column_names_list = [x[0] for x in cursor.description]\n",
    "    result_dicts = [dict(zip(column_names_list, row)) for row in cursor.fetchall()]\n",
    "    df=pd.DataFrame(result_dicts)\n",
    "    converted=df.to_json(orient='records')\n",
    "    #po='0098972920'\n",
    "    \n",
    "    print(converted)"
   ]
  },
  {
   "cell_type": "code",
   "execution_count": 54,
   "metadata": {},
   "outputs": [
    {
     "name": "stdout",
     "output_type": "stream",
     "text": [
      "{\"ticket_Noresults\": null}\n"
     ]
    }
   ],
   "source": [
    "# GET /api4\n",
    "req = json.loads(REQUEST)\n",
    "args = req['args']\n",
    "if 'ven' not in args:\n",
    "    print(json.dumps({'ticket_Noresults': None}))\n",
    "else:\n",
    "    ven=str(args['ven'][0])\n",
    "    cc=str(args['cc'][0])\n",
    "    #ven='0002101051'\n",
    "    #cc='1098'\n",
    "    sp5 = \"\"\"EXEC [dbo].[uspGetAllTicketsv2] @VendorNumber=?, @CompanyCode=?\"\"\"\n",
    "    #params= ven\n",
    "    cursor.execute(sp5,ven,cc)\n",
    "    column_names_list = [x[0] for x in cursor.description]\n",
    "    result_dicts = [dict(zip(column_names_list, row)) for row in cursor.fetchall()]\n",
    "    df=pd.DataFrame(result_dicts)\n",
    "    converted=df.to_json(orient='records')\n",
    "    print(converted)"
   ]
  },
  {
   "cell_type": "code",
   "execution_count": 56,
   "metadata": {},
   "outputs": [
    {
     "name": "stdout",
     "output_type": "stream",
     "text": [
      "{\"ticket_Noresults\": null}\n"
     ]
    }
   ],
   "source": [
    "# GET /api5\n",
    "req = json.loads(REQUEST)\n",
    "args = req['args']\n",
    "if 'tkt' not in args:\n",
    "    print(json.dumps({'ticket_Noresults': None}))\n",
    "else:\n",
    "    tkt=str(args['tkt'][0])    \n",
    "    sp5 = \"\"\"EXEC [dbo].[uspGetTicketDescription] @TicketNumber=?\"\"\"\n",
    "    cursor.execute(sp5,tkt)\n",
    "    column_names_list = [x[0] for x in cursor.description]\n",
    "    result_dicts = [dict(zip(column_names_list, row)) for row in cursor.fetchall()]\n",
    "    df=pd.DataFrame(result_dicts)\n",
    "    converted=df.to_json(orient='records')\n",
    "    print(converted)"
   ]
  },
  {
   "cell_type": "code",
   "execution_count": null,
   "metadata": {},
   "outputs": [],
   "source": []
  }
 ],
 "metadata": {
  "kernelspec": {
   "display_name": "Python 3",
   "language": "python",
   "name": "python3"
  },
  "language_info": {
   "codemirror_mode": {
    "name": "ipython",
    "version": 3
   },
   "file_extension": ".py",
   "mimetype": "text/x-python",
   "name": "python",
   "nbconvert_exporter": "python",
   "pygments_lexer": "ipython3",
   "version": "3.7.3"
  }
 },
 "nbformat": 4,
 "nbformat_minor": 2
}
