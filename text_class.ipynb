{
 "cells": [
  {
   "cell_type": "markdown",
   "metadata": {},
   "source": [
    "# Importing Libraries"
   ]
  },
  {
   "cell_type": "code",
   "execution_count": 1,
   "metadata": {},
   "outputs": [
    {
     "name": "stderr",
     "output_type": "stream",
     "text": [
      "Using TensorFlow backend.\n"
     ]
    }
   ],
   "source": [
    "#!pip install keras\n",
    "#!pip install tensorflow\n",
    "#!pip install spacy\n",
    "import numpy as np\n",
    "import pandas as pd\n",
    "import csv\n",
    "import keras\n",
    "import sklearn\n",
    "import random\n",
    "from keras.preprocessing import sequence\n",
    "from keras.preprocessing.text import Tokenizer\n",
    "from sklearn import preprocessing\n",
    "from sklearn.base import BaseEstimator\n",
    "from sklearn.naive_bayes import MultinomialNB\n",
    "from sklearn.ensemble import RandomForestClassifier, GradientBoostingClassifier, ExtraTreesClassifier, AdaBoostClassifier\n",
    "import io\n",
    "import string\n",
    "#import spacy\n",
    "#from spacy.lang.en.stop_words import STOP_WORDS\n",
    "#from spacy.lang.en import English\n",
    "#import en_core_web_sm\n",
    "import pandas as pd\n",
    "from sklearn.feature_extraction.text import CountVectorizer,TfidfVectorizer\n",
    "from sklearn.base import TransformerMixin\n",
    "from sklearn.pipeline import Pipeline\n",
    "import seaborn as sns"
   ]
  },
  {
   "cell_type": "markdown",
   "metadata": {},
   "source": [
    "# Data Exploration"
   ]
  },
  {
   "cell_type": "code",
   "execution_count": 2,
   "metadata": {},
   "outputs": [
    {
     "name": "stdout",
     "output_type": "stream",
     "text": [
      "Reading text data for classification and building representations...\n"
     ]
    }
   ],
   "source": [
    "\n",
    "print (\"Reading text data for classification and building representations...\")\n",
    "df = pd.read_excel (\"C:\\\\Users\\\\v-savrav\\\\Text\\\\data\\\\datasetv1.xlsx\")"
   ]
  },
  {
   "cell_type": "code",
   "execution_count": 3,
   "metadata": {},
   "outputs": [
    {
     "data": {
      "text/plain": [
       "Index(['PrimaryTopic', 'secondarytopic', 'Description'], dtype='object')"
      ]
     },
     "execution_count": 3,
     "metadata": {},
     "output_type": "execute_result"
    }
   ],
   "source": [
    "df.columns"
   ]
  },
  {
   "cell_type": "markdown",
   "metadata": {},
   "source": [
    "# Input: 'Description'\n",
    "# Output :'PrimaryTopic'"
   ]
  },
  {
   "cell_type": "code",
   "execution_count": 4,
   "metadata": {},
   "outputs": [
    {
     "data": {
      "text/plain": [
       "Invoice Payment Status                                 20215\n",
       "Email Invoice and Refund Submission                    11801\n",
       "Others                                                  5349\n",
       "Expense Report Submission Query                         4580\n",
       "Travel and Expenses Status                              3521\n",
       "SAP Flow                                                3496\n",
       "Payment Action                                          2793\n",
       "Education on Vendor, Categories and Process             2708\n",
       "Audit and Policy Violation Notification                 2545\n",
       "User Education on Tool and Process                      2508\n",
       "Invoice Change Request                                  2488\n",
       "Employee Account Maintenance and Status Query           2451\n",
       "Reporting Request                                       2319\n",
       "MPC - Payee Account Maintenance                         1898\n",
       "Bank                                                    1818\n",
       "Statement of Account Request                            1304\n",
       "Other Actions SAP                                       1170\n",
       "Approver Activities Change Approver                     1126\n",
       "PO Status Request                                       1042\n",
       "Change Codes Account Code Internal Order CC              982\n",
       "No Action Required Ticket Duplicates                     955\n",
       "Blocked Status Query - SSPA/GPGB/INAC/COMP               938\n",
       "Failed Payments                                          914\n",
       "Audit and Transaction Query Status AMEX Maintenance      884\n",
       "No action required, Ticket duplicates                    835\n",
       "Remittance Advices Request                               756\n",
       "Payee Account New Set Up                                 742\n",
       "MPC - Login Issue/Queries                                712\n",
       "MS Invoice                                               643\n",
       "Status Query - New Vendor creation (MPC)                 586\n",
       "                                                       ...  \n",
       "Procurement Review                                         4\n",
       "MPC                                                        4\n",
       "Reporting Issue                                            3\n",
       "Vacation JE                                                3\n",
       "Recon OPEX PO                                              3\n",
       "Ask3PP - SSAE16 SAS70 Report Review                        2\n",
       "Correction                                                 2\n",
       "BRV JE                                                     2\n",
       "Issue Log follow up                                        2\n",
       "Severance                                                  2\n",
       "Interco JE                                                 2\n",
       "Correction JE                                              1\n",
       "Ask3PP - Internal Communication                            1\n",
       "MGR JE                                                     1\n",
       "Actual Stat/Tax Filings Late                               1\n",
       "Governance decks                                           1\n",
       "Recon - Open Amount Tracking                               1\n",
       "Tax Payment Error                                          1\n",
       "Sign off (fails)                                           1\n",
       "Duplicate Payment                                          1\n",
       "FAS JE                                                     1\n",
       "Recon Reclass                                              1\n",
       "Out of Scope                                               1\n",
       "Recon Prepayment                                           1\n",
       "STAT AFS                                                   1\n",
       "AP Reporting Request                                       1\n",
       "Invoice Processing Delay                                   1\n",
       "Journal Entries Delay                                      1\n",
       "Supporting Document Control                                1\n",
       "Recon Vacation                                             1\n",
       "Name: secondarytopic, Length: 184, dtype: int64"
      ]
     },
     "execution_count": 4,
     "metadata": {},
     "output_type": "execute_result"
    }
   ],
   "source": [
    "df['secondarytopic'].value_counts()"
   ]
  },
  {
   "cell_type": "code",
   "execution_count": 5,
   "metadata": {},
   "outputs": [],
   "source": [
    "vc=df['secondarytopic'].value_counts()\n",
    "u  = [i not in set(vc[vc<1000].index) for i in df['secondarytopic']]\n",
    "df = df[u]\n"
   ]
  },
  {
   "cell_type": "markdown",
   "metadata": {},
   "source": [
    "# Removing NULL records"
   ]
  },
  {
   "cell_type": "code",
   "execution_count": 6,
   "metadata": {},
   "outputs": [],
   "source": [
    "from io import StringIO\n",
    "df = df[pd.notnull(df['Description'])]\n",
    "df = df[pd.notnull(df['secondarytopic'])]"
   ]
  },
  {
   "cell_type": "code",
   "execution_count": 7,
   "metadata": {
    "scrolled": true
   },
   "outputs": [
    {
     "data": {
      "text/html": [
       "<div>\n",
       "<style scoped>\n",
       "    .dataframe tbody tr th:only-of-type {\n",
       "        vertical-align: middle;\n",
       "    }\n",
       "\n",
       "    .dataframe tbody tr th {\n",
       "        vertical-align: top;\n",
       "    }\n",
       "\n",
       "    .dataframe thead th {\n",
       "        text-align: right;\n",
       "    }\n",
       "</style>\n",
       "<table border=\"1\" class=\"dataframe\">\n",
       "  <thead>\n",
       "    <tr style=\"text-align: right;\">\n",
       "      <th></th>\n",
       "      <th>PrimaryTopic</th>\n",
       "      <th>secondarytopic</th>\n",
       "      <th>Description</th>\n",
       "    </tr>\n",
       "  </thead>\n",
       "  <tbody>\n",
       "    <tr>\n",
       "      <th>2</th>\n",
       "      <td>AP Reporting Request</td>\n",
       "      <td>Reporting Request</td>\n",
       "      <td>PO re-opened Hi Team,  Kindly note that PO 009...</td>\n",
       "    </tr>\n",
       "    <tr>\n",
       "      <th>6</th>\n",
       "      <td>Payee Account Management</td>\n",
       "      <td>Employee Account Maintenance and Status Query</td>\n",
       "      <td>Hello Prohelp,  Please send the DOCUSIGN link ...</td>\n",
       "    </tr>\n",
       "    <tr>\n",
       "      <th>7</th>\n",
       "      <td>Invoice Management</td>\n",
       "      <td>Invoice Payment Status</td>\n",
       "      <td>Hola,    Se puede usar la tarjeta de MS para p...</td>\n",
       "    </tr>\n",
       "    <tr>\n",
       "      <th>8</th>\n",
       "      <td>Invoice Management</td>\n",
       "      <td>Invoice Payment Status</td>\n",
       "      <td>Talebiniz  bize ulasti      Degerli Müsterimiz...</td>\n",
       "    </tr>\n",
       "    <tr>\n",
       "      <th>9</th>\n",
       "      <td>Invoice Management</td>\n",
       "      <td>Statement of Account Request</td>\n",
       "      <td>QVR 1086 - Austria</td>\n",
       "    </tr>\n",
       "    <tr>\n",
       "      <th>11</th>\n",
       "      <td>Disbursement</td>\n",
       "      <td>Payment Action</td>\n",
       "      <td>Hi Team,  Please note thatBangladesh bank file...</td>\n",
       "    </tr>\n",
       "    <tr>\n",
       "      <th>12</th>\n",
       "      <td>Payee Account Management</td>\n",
       "      <td>Employee Account Maintenance and Status Query</td>\n",
       "      <td>Hello AP Team, Based on the below supplier unb...</td>\n",
       "    </tr>\n",
       "    <tr>\n",
       "      <th>14</th>\n",
       "      <td>MyOrder Requisition Request</td>\n",
       "      <td>PO Status Request</td>\n",
       "      <td>Asked for an approval</td>\n",
       "    </tr>\n",
       "    <tr>\n",
       "      <th>15</th>\n",
       "      <td>Invoice Management</td>\n",
       "      <td>Invoice Payment Status</td>\n",
       "      <td>Hi Team,  Good day!  We have resubmitted the b...</td>\n",
       "    </tr>\n",
       "    <tr>\n",
       "      <th>16</th>\n",
       "      <td>Invoice Management</td>\n",
       "      <td>Statement of Account Request</td>\n",
       "      <td>Accounts Payable Reconciliation - 2297780 - Pr...</td>\n",
       "    </tr>\n",
       "    <tr>\n",
       "      <th>17</th>\n",
       "      <td>Travel and Expenses Management</td>\n",
       "      <td>Travel and Expenses Status</td>\n",
       "      <td>Ask HR sent you a copy.         REVIEW DOCUMEN...</td>\n",
       "    </tr>\n",
       "    <tr>\n",
       "      <th>18</th>\n",
       "      <td>Disbursement</td>\n",
       "      <td>Payment Action</td>\n",
       "      <td>Hi Team,  Please clear the below open items in...</td>\n",
       "    </tr>\n",
       "    <tr>\n",
       "      <th>19</th>\n",
       "      <td>Invoice Management</td>\n",
       "      <td>Invoice Payment Status</td>\n",
       "      <td>Hi    I’m trying to approve an invoice but the...</td>\n",
       "    </tr>\n",
       "    <tr>\n",
       "      <th>20</th>\n",
       "      <td>Invoice Management</td>\n",
       "      <td>Invoice Payment Status</td>\n",
       "      <td>Dear Sirs,  we received your payment Microsoft...</td>\n",
       "    </tr>\n",
       "    <tr>\n",
       "      <th>22</th>\n",
       "      <td>Invoice Management</td>\n",
       "      <td>Invoice Payment Status</td>\n",
       "      <td>From AMERICAN EXPRESS INT'L SA   Adobe Acrobat...</td>\n",
       "    </tr>\n",
       "    <tr>\n",
       "      <th>23</th>\n",
       "      <td>Purchase Order Update</td>\n",
       "      <td>SAP Flow</td>\n",
       "      <td>Hello AP  A request was put in to change the p...</td>\n",
       "    </tr>\n",
       "    <tr>\n",
       "      <th>24</th>\n",
       "      <td>Travel and Expenses Management</td>\n",
       "      <td>Audit and Policy Violation Notification</td>\n",
       "      <td>1010-78159-ER-0000014385128-TKT-3600866-B7G8L4</td>\n",
       "    </tr>\n",
       "    <tr>\n",
       "      <th>25</th>\n",
       "      <td>General Request</td>\n",
       "      <td>Others</td>\n",
       "      <td>Hi Saravanan,  Good Day !  The payment has bee...</td>\n",
       "    </tr>\n",
       "    <tr>\n",
       "      <th>26</th>\n",
       "      <td>Invoice Management</td>\n",
       "      <td>Invoice Payment Status</td>\n",
       "      <td>From AMERICAN EXPRESS INT'L SA   Adobe Acrobat...</td>\n",
       "    </tr>\n",
       "    <tr>\n",
       "      <th>28</th>\n",
       "      <td>Invoice Management</td>\n",
       "      <td>Statement of Account Request</td>\n",
       "      <td>Accounts Payable Reconciliation - 3019892 - So...</td>\n",
       "    </tr>\n",
       "    <tr>\n",
       "      <th>29</th>\n",
       "      <td>Invoice Management</td>\n",
       "      <td>Invoice Payment Status</td>\n",
       "      <td>Hi Team,  ????PO?????????    Best Regards   ??...</td>\n",
       "    </tr>\n",
       "    <tr>\n",
       "      <th>30</th>\n",
       "      <td>General Request</td>\n",
       "      <td>Others</td>\n",
       "      <td>Good morning   Please find attached the approv...</td>\n",
       "    </tr>\n",
       "    <tr>\n",
       "      <th>31</th>\n",
       "      <td>Invoice Management</td>\n",
       "      <td>Invoice Payment Status</td>\n",
       "      <td>Boa tarde!  Podem por favor verificar o pagame...</td>\n",
       "    </tr>\n",
       "    <tr>\n",
       "      <th>32</th>\n",
       "      <td>Invoice Management</td>\n",
       "      <td>Invoice Payment Status</td>\n",
       "      <td>Hello Team,  Could you please verify when this...</td>\n",
       "    </tr>\n",
       "    <tr>\n",
       "      <th>33</th>\n",
       "      <td>Invoice Management</td>\n",
       "      <td>Email Invoice and Refund Submission</td>\n",
       "      <td>Tisztelt Partnerünk!   Köszönjük, hogy nálunk ...</td>\n",
       "    </tr>\n",
       "    <tr>\n",
       "      <th>34</th>\n",
       "      <td>General Request</td>\n",
       "      <td>Others</td>\n",
       "      <td>Ignacio and Jhon for following up   From: COE ...</td>\n",
       "    </tr>\n",
       "    <tr>\n",
       "      <th>37</th>\n",
       "      <td>Purchase Order Update</td>\n",
       "      <td>SAP Flow</td>\n",
       "      <td>[E] Request to change IO in PO 98515061.    Co...</td>\n",
       "    </tr>\n",
       "    <tr>\n",
       "      <th>38</th>\n",
       "      <td>Invoice Management</td>\n",
       "      <td>Invoice Payment Status</td>\n",
       "      <td>Core Services Engineering and Operations      ...</td>\n",
       "    </tr>\n",
       "    <tr>\n",
       "      <th>39</th>\n",
       "      <td>Invoice Management</td>\n",
       "      <td>Invoice Payment Status</td>\n",
       "      <td>Dear Customer,  In order to keep smooth  timel...</td>\n",
       "    </tr>\n",
       "    <tr>\n",
       "      <th>41</th>\n",
       "      <td>Travel and Expenses Management</td>\n",
       "      <td>Expense Report Submission Query</td>\n",
       "      <td>Hi,  I am trying to use  http://msexpense2 to ...</td>\n",
       "    </tr>\n",
       "    <tr>\n",
       "      <th>...</th>\n",
       "      <td>...</td>\n",
       "      <td>...</td>\n",
       "      <td>...</td>\n",
       "    </tr>\n",
       "    <tr>\n",
       "      <th>99945</th>\n",
       "      <td>Invoice Management</td>\n",
       "      <td>Invoice Payment Status</td>\n",
       "      <td>Dear administrator,  This isn’t an invoice, it...</td>\n",
       "    </tr>\n",
       "    <tr>\n",
       "      <th>99947</th>\n",
       "      <td>General Request</td>\n",
       "      <td>Others</td>\n",
       "      <td>Hi Team,  Please post JE 521052_general accrua...</td>\n",
       "    </tr>\n",
       "    <tr>\n",
       "      <th>99948</th>\n",
       "      <td>MyOrder Requisition Request</td>\n",
       "      <td>PO Status Request</td>\n",
       "      <td>Provided the status of the PO.     Team hi,   ...</td>\n",
       "    </tr>\n",
       "    <tr>\n",
       "      <th>99951</th>\n",
       "      <td>Invoice Management</td>\n",
       "      <td>Email Invoice and Refund Submission</td>\n",
       "      <td>Hi All,    For your ANZ Smart Choice Employer ...</td>\n",
       "    </tr>\n",
       "    <tr>\n",
       "      <th>99952</th>\n",
       "      <td>Invoice Management</td>\n",
       "      <td>Invoice Payment Status</td>\n",
       "      <td>Hi Team,  Greetings from MRM End To End!!!  Pl...</td>\n",
       "    </tr>\n",
       "    <tr>\n",
       "      <th>99953</th>\n",
       "      <td>General Request</td>\n",
       "      <td>Others</td>\n",
       "      <td>Hi all   Let me inform you that I have uploade...</td>\n",
       "    </tr>\n",
       "    <tr>\n",
       "      <th>99955</th>\n",
       "      <td>Invoice Management</td>\n",
       "      <td>Invoice Payment Status</td>\n",
       "      <td>Estimado Cliente,  Hemos recibido su correo el...</td>\n",
       "    </tr>\n",
       "    <tr>\n",
       "      <th>99957</th>\n",
       "      <td>Travel and Expenses Management</td>\n",
       "      <td>Audit and Policy Violation Notification</td>\n",
       "      <td>ER-0000012434745-1010-67288</td>\n",
       "    </tr>\n",
       "    <tr>\n",
       "      <th>99958</th>\n",
       "      <td>Disbursement</td>\n",
       "      <td>Payment Action</td>\n",
       "      <td>Dear team,  Today we have an issue with Bank b...</td>\n",
       "    </tr>\n",
       "    <tr>\n",
       "      <th>99960</th>\n",
       "      <td>Invoice Management</td>\n",
       "      <td>Invoice Payment Status</td>\n",
       "      <td>Ref : 910284/707  Veuillez trouver ci-joint un...</td>\n",
       "    </tr>\n",
       "    <tr>\n",
       "      <th>99961</th>\n",
       "      <td>Invoice Management</td>\n",
       "      <td>Invoice Payment Status</td>\n",
       "      <td>For ticket creation.    From: Kelvin Goh   Sen...</td>\n",
       "    </tr>\n",
       "    <tr>\n",
       "      <th>99962</th>\n",
       "      <td>Invoice Management</td>\n",
       "      <td>Invoice Payment Status</td>\n",
       "      <td>HI Team,  Could you please let me know why the...</td>\n",
       "    </tr>\n",
       "    <tr>\n",
       "      <th>99963</th>\n",
       "      <td>Invoice Management</td>\n",
       "      <td>Invoice Payment Status</td>\n",
       "      <td>Buenos días    Agradezco si brindan fecha de p...</td>\n",
       "    </tr>\n",
       "    <tr>\n",
       "      <th>99965</th>\n",
       "      <td>Payee Account Management</td>\n",
       "      <td>Employee Account Maintenance and Status Query</td>\n",
       "      <td>Hello,   I am requesting a SAP account for Exp...</td>\n",
       "    </tr>\n",
       "    <tr>\n",
       "      <th>99966</th>\n",
       "      <td>Invoice Management</td>\n",
       "      <td>Invoice Change Request</td>\n",
       "      <td>Sent to AP  E - Invoice approver updated / sen...</td>\n",
       "    </tr>\n",
       "    <tr>\n",
       "      <th>99969</th>\n",
       "      <td>Invoice Management</td>\n",
       "      <td>Invoice Change Request</td>\n",
       "      <td>Dear Vendor,   Having received the invoice(s) ...</td>\n",
       "    </tr>\n",
       "    <tr>\n",
       "      <th>99974</th>\n",
       "      <td>Invoice Management</td>\n",
       "      <td>Approver Activities Change Approver</td>\n",
       "      <td>Hello P2P  Your help is needed v-jelebr is not...</td>\n",
       "    </tr>\n",
       "    <tr>\n",
       "      <th>99975</th>\n",
       "      <td>Travel and Expenses Management</td>\n",
       "      <td>Expense Report Submission Query</td>\n",
       "      <td>Hi Ap team,   Can you inform the status for th...</td>\n",
       "    </tr>\n",
       "    <tr>\n",
       "      <th>99977</th>\n",
       "      <td>Payee Account Management</td>\n",
       "      <td>Employee Account Maintenance and Status Query</td>\n",
       "      <td>&lt;P2 ? ???????&gt;</td>\n",
       "    </tr>\n",
       "    <tr>\n",
       "      <th>99978</th>\n",
       "      <td>Purchase Order Update</td>\n",
       "      <td>Other Actions SAP</td>\n",
       "      <td>[LL]request to change Line item description done</td>\n",
       "    </tr>\n",
       "    <tr>\n",
       "      <th>99979</th>\n",
       "      <td>Payee Account Management</td>\n",
       "      <td>Employee Account Maintenance and Status Query</td>\n",
       "      <td>Thanks for reminder,  I submit a new request, ...</td>\n",
       "    </tr>\n",
       "    <tr>\n",
       "      <th>99981</th>\n",
       "      <td>Travel and Expenses Management</td>\n",
       "      <td>Travel and Expenses Status</td>\n",
       "      <td>Description</td>\n",
       "    </tr>\n",
       "    <tr>\n",
       "      <th>99982</th>\n",
       "      <td>Invoice Management</td>\n",
       "      <td>Invoice Payment Status</td>\n",
       "      <td>--REPLY above this line to respond--   Good af...</td>\n",
       "    </tr>\n",
       "    <tr>\n",
       "      <th>99986</th>\n",
       "      <td>General Request</td>\n",
       "      <td>Others</td>\n",
       "      <td>Hi Team  Please post attached JE and confirm S...</td>\n",
       "    </tr>\n",
       "    <tr>\n",
       "      <th>99987</th>\n",
       "      <td>Invoice Management</td>\n",
       "      <td>User Education on Tool and Process</td>\n",
       "      <td>The enclosed PDF file contains the current mon...</td>\n",
       "    </tr>\n",
       "    <tr>\n",
       "      <th>99989</th>\n",
       "      <td>Invoice Management</td>\n",
       "      <td>Invoice Payment Status</td>\n",
       "      <td>Geachte,  In bijlage vindt u onze ingebrekeste...</td>\n",
       "    </tr>\n",
       "    <tr>\n",
       "      <th>99990</th>\n",
       "      <td>Invoice Management</td>\n",
       "      <td>Email Invoice and Refund Submission</td>\n",
       "      <td>Icon Conference  Event Management             ...</td>\n",
       "    </tr>\n",
       "    <tr>\n",
       "      <th>99994</th>\n",
       "      <td>General Request</td>\n",
       "      <td>Others</td>\n",
       "      <td>Hi Giuseppe, How is the situation with this am...</td>\n",
       "    </tr>\n",
       "    <tr>\n",
       "      <th>99996</th>\n",
       "      <td>MyOrder Requisition Request</td>\n",
       "      <td>PO Status Request</td>\n",
       "      <td>PO processed.   Educated.   Asked for confirma...</td>\n",
       "    </tr>\n",
       "    <tr>\n",
       "      <th>99999</th>\n",
       "      <td>Travel and Expenses Management</td>\n",
       "      <td>Expense Report Submission Query</td>\n",
       "      <td>Hello Chris,     Thank you for your email. We ...</td>\n",
       "    </tr>\n",
       "  </tbody>\n",
       "</table>\n",
       "<p>73346 rows × 3 columns</p>\n",
       "</div>"
      ],
      "text/plain": [
       "                         PrimaryTopic  \\\n",
       "2                AP Reporting Request   \n",
       "6            Payee Account Management   \n",
       "7                  Invoice Management   \n",
       "8                  Invoice Management   \n",
       "9                  Invoice Management   \n",
       "11                       Disbursement   \n",
       "12           Payee Account Management   \n",
       "14        MyOrder Requisition Request   \n",
       "15                 Invoice Management   \n",
       "16                 Invoice Management   \n",
       "17     Travel and Expenses Management   \n",
       "18                       Disbursement   \n",
       "19                 Invoice Management   \n",
       "20                 Invoice Management   \n",
       "22                 Invoice Management   \n",
       "23              Purchase Order Update   \n",
       "24     Travel and Expenses Management   \n",
       "25                    General Request   \n",
       "26                 Invoice Management   \n",
       "28                 Invoice Management   \n",
       "29                 Invoice Management   \n",
       "30                    General Request   \n",
       "31                 Invoice Management   \n",
       "32                 Invoice Management   \n",
       "33                 Invoice Management   \n",
       "34                    General Request   \n",
       "37              Purchase Order Update   \n",
       "38                 Invoice Management   \n",
       "39                 Invoice Management   \n",
       "41     Travel and Expenses Management   \n",
       "...                               ...   \n",
       "99945              Invoice Management   \n",
       "99947                 General Request   \n",
       "99948     MyOrder Requisition Request   \n",
       "99951              Invoice Management   \n",
       "99952              Invoice Management   \n",
       "99953                 General Request   \n",
       "99955              Invoice Management   \n",
       "99957  Travel and Expenses Management   \n",
       "99958                    Disbursement   \n",
       "99960              Invoice Management   \n",
       "99961              Invoice Management   \n",
       "99962              Invoice Management   \n",
       "99963              Invoice Management   \n",
       "99965        Payee Account Management   \n",
       "99966              Invoice Management   \n",
       "99969              Invoice Management   \n",
       "99974              Invoice Management   \n",
       "99975  Travel and Expenses Management   \n",
       "99977        Payee Account Management   \n",
       "99978           Purchase Order Update   \n",
       "99979        Payee Account Management   \n",
       "99981  Travel and Expenses Management   \n",
       "99982              Invoice Management   \n",
       "99986                 General Request   \n",
       "99987              Invoice Management   \n",
       "99989              Invoice Management   \n",
       "99990              Invoice Management   \n",
       "99994                 General Request   \n",
       "99996     MyOrder Requisition Request   \n",
       "99999  Travel and Expenses Management   \n",
       "\n",
       "                                      secondarytopic  \\\n",
       "2                                  Reporting Request   \n",
       "6      Employee Account Maintenance and Status Query   \n",
       "7                             Invoice Payment Status   \n",
       "8                             Invoice Payment Status   \n",
       "9                       Statement of Account Request   \n",
       "11                                    Payment Action   \n",
       "12     Employee Account Maintenance and Status Query   \n",
       "14                                 PO Status Request   \n",
       "15                            Invoice Payment Status   \n",
       "16                      Statement of Account Request   \n",
       "17                        Travel and Expenses Status   \n",
       "18                                    Payment Action   \n",
       "19                            Invoice Payment Status   \n",
       "20                            Invoice Payment Status   \n",
       "22                            Invoice Payment Status   \n",
       "23                                          SAP Flow   \n",
       "24           Audit and Policy Violation Notification   \n",
       "25                                            Others   \n",
       "26                            Invoice Payment Status   \n",
       "28                      Statement of Account Request   \n",
       "29                            Invoice Payment Status   \n",
       "30                                            Others   \n",
       "31                            Invoice Payment Status   \n",
       "32                            Invoice Payment Status   \n",
       "33               Email Invoice and Refund Submission   \n",
       "34                                            Others   \n",
       "37                                          SAP Flow   \n",
       "38                            Invoice Payment Status   \n",
       "39                            Invoice Payment Status   \n",
       "41                   Expense Report Submission Query   \n",
       "...                                              ...   \n",
       "99945                         Invoice Payment Status   \n",
       "99947                                         Others   \n",
       "99948                              PO Status Request   \n",
       "99951            Email Invoice and Refund Submission   \n",
       "99952                         Invoice Payment Status   \n",
       "99953                                         Others   \n",
       "99955                         Invoice Payment Status   \n",
       "99957        Audit and Policy Violation Notification   \n",
       "99958                                 Payment Action   \n",
       "99960                         Invoice Payment Status   \n",
       "99961                         Invoice Payment Status   \n",
       "99962                         Invoice Payment Status   \n",
       "99963                         Invoice Payment Status   \n",
       "99965  Employee Account Maintenance and Status Query   \n",
       "99966                         Invoice Change Request   \n",
       "99969                         Invoice Change Request   \n",
       "99974            Approver Activities Change Approver   \n",
       "99975                Expense Report Submission Query   \n",
       "99977  Employee Account Maintenance and Status Query   \n",
       "99978                              Other Actions SAP   \n",
       "99979  Employee Account Maintenance and Status Query   \n",
       "99981                     Travel and Expenses Status   \n",
       "99982                         Invoice Payment Status   \n",
       "99986                                         Others   \n",
       "99987             User Education on Tool and Process   \n",
       "99989                         Invoice Payment Status   \n",
       "99990            Email Invoice and Refund Submission   \n",
       "99994                                         Others   \n",
       "99996                              PO Status Request   \n",
       "99999                Expense Report Submission Query   \n",
       "\n",
       "                                             Description  \n",
       "2      PO re-opened Hi Team,  Kindly note that PO 009...  \n",
       "6      Hello Prohelp,  Please send the DOCUSIGN link ...  \n",
       "7      Hola,    Se puede usar la tarjeta de MS para p...  \n",
       "8      Talebiniz  bize ulasti      Degerli Müsterimiz...  \n",
       "9                                     QVR 1086 - Austria  \n",
       "11     Hi Team,  Please note thatBangladesh bank file...  \n",
       "12     Hello AP Team, Based on the below supplier unb...  \n",
       "14                                 Asked for an approval  \n",
       "15     Hi Team,  Good day!  We have resubmitted the b...  \n",
       "16     Accounts Payable Reconciliation - 2297780 - Pr...  \n",
       "17     Ask HR sent you a copy.         REVIEW DOCUMEN...  \n",
       "18     Hi Team,  Please clear the below open items in...  \n",
       "19     Hi    I’m trying to approve an invoice but the...  \n",
       "20     Dear Sirs,  we received your payment Microsoft...  \n",
       "22     From AMERICAN EXPRESS INT'L SA   Adobe Acrobat...  \n",
       "23     Hello AP  A request was put in to change the p...  \n",
       "24        1010-78159-ER-0000014385128-TKT-3600866-B7G8L4  \n",
       "25     Hi Saravanan,  Good Day !  The payment has bee...  \n",
       "26     From AMERICAN EXPRESS INT'L SA   Adobe Acrobat...  \n",
       "28     Accounts Payable Reconciliation - 3019892 - So...  \n",
       "29     Hi Team,  ????PO?????????    Best Regards   ??...  \n",
       "30     Good morning   Please find attached the approv...  \n",
       "31     Boa tarde!  Podem por favor verificar o pagame...  \n",
       "32     Hello Team,  Could you please verify when this...  \n",
       "33     Tisztelt Partnerünk!   Köszönjük, hogy nálunk ...  \n",
       "34     Ignacio and Jhon for following up   From: COE ...  \n",
       "37     [E] Request to change IO in PO 98515061.    Co...  \n",
       "38     Core Services Engineering and Operations      ...  \n",
       "39     Dear Customer,  In order to keep smooth  timel...  \n",
       "41     Hi,  I am trying to use  http://msexpense2 to ...  \n",
       "...                                                  ...  \n",
       "99945  Dear administrator,  This isn’t an invoice, it...  \n",
       "99947  Hi Team,  Please post JE 521052_general accrua...  \n",
       "99948  Provided the status of the PO.     Team hi,   ...  \n",
       "99951  Hi All,    For your ANZ Smart Choice Employer ...  \n",
       "99952  Hi Team,  Greetings from MRM End To End!!!  Pl...  \n",
       "99953  Hi all   Let me inform you that I have uploade...  \n",
       "99955  Estimado Cliente,  Hemos recibido su correo el...  \n",
       "99957                        ER-0000012434745-1010-67288  \n",
       "99958  Dear team,  Today we have an issue with Bank b...  \n",
       "99960  Ref : 910284/707  Veuillez trouver ci-joint un...  \n",
       "99961  For ticket creation.    From: Kelvin Goh   Sen...  \n",
       "99962  HI Team,  Could you please let me know why the...  \n",
       "99963  Buenos días    Agradezco si brindan fecha de p...  \n",
       "99965  Hello,   I am requesting a SAP account for Exp...  \n",
       "99966  Sent to AP  E - Invoice approver updated / sen...  \n",
       "99969  Dear Vendor,   Having received the invoice(s) ...  \n",
       "99974  Hello P2P  Your help is needed v-jelebr is not...  \n",
       "99975  Hi Ap team,   Can you inform the status for th...  \n",
       "99977                                     <P2 ? ???????>  \n",
       "99978   [LL]request to change Line item description done  \n",
       "99979  Thanks for reminder,  I submit a new request, ...  \n",
       "99981                                        Description  \n",
       "99982  --REPLY above this line to respond--   Good af...  \n",
       "99986  Hi Team  Please post attached JE and confirm S...  \n",
       "99987  The enclosed PDF file contains the current mon...  \n",
       "99989  Geachte,  In bijlage vindt u onze ingebrekeste...  \n",
       "99990  Icon Conference  Event Management             ...  \n",
       "99994  Hi Giuseppe, How is the situation with this am...  \n",
       "99996  PO processed.   Educated.   Asked for confirma...  \n",
       "99999  Hello Chris,     Thank you for your email. We ...  \n",
       "\n",
       "[73346 rows x 3 columns]"
      ]
     },
     "execution_count": 7,
     "metadata": {},
     "output_type": "execute_result"
    }
   ],
   "source": [
    "df"
   ]
  },
  {
   "cell_type": "markdown",
   "metadata": {},
   "source": [
    "# Factorising the Primary Topic to ID"
   ]
  },
  {
   "cell_type": "code",
   "execution_count": 8,
   "metadata": {},
   "outputs": [
    {
     "data": {
      "text/html": [
       "<div>\n",
       "<style scoped>\n",
       "    .dataframe tbody tr th:only-of-type {\n",
       "        vertical-align: middle;\n",
       "    }\n",
       "\n",
       "    .dataframe tbody tr th {\n",
       "        vertical-align: top;\n",
       "    }\n",
       "\n",
       "    .dataframe thead th {\n",
       "        text-align: right;\n",
       "    }\n",
       "</style>\n",
       "<table border=\"1\" class=\"dataframe\">\n",
       "  <thead>\n",
       "    <tr style=\"text-align: right;\">\n",
       "      <th></th>\n",
       "      <th>PrimaryTopic</th>\n",
       "      <th>secondarytopic</th>\n",
       "      <th>Description</th>\n",
       "      <th>id</th>\n",
       "    </tr>\n",
       "  </thead>\n",
       "  <tbody>\n",
       "    <tr>\n",
       "      <th>2</th>\n",
       "      <td>AP Reporting Request</td>\n",
       "      <td>Reporting Request</td>\n",
       "      <td>PO re-opened Hi Team,  Kindly note that PO 009...</td>\n",
       "      <td>0</td>\n",
       "    </tr>\n",
       "    <tr>\n",
       "      <th>6</th>\n",
       "      <td>Payee Account Management</td>\n",
       "      <td>Employee Account Maintenance and Status Query</td>\n",
       "      <td>Hello Prohelp,  Please send the DOCUSIGN link ...</td>\n",
       "      <td>1</td>\n",
       "    </tr>\n",
       "    <tr>\n",
       "      <th>7</th>\n",
       "      <td>Invoice Management</td>\n",
       "      <td>Invoice Payment Status</td>\n",
       "      <td>Hola,    Se puede usar la tarjeta de MS para p...</td>\n",
       "      <td>2</td>\n",
       "    </tr>\n",
       "    <tr>\n",
       "      <th>8</th>\n",
       "      <td>Invoice Management</td>\n",
       "      <td>Invoice Payment Status</td>\n",
       "      <td>Talebiniz  bize ulasti      Degerli Müsterimiz...</td>\n",
       "      <td>2</td>\n",
       "    </tr>\n",
       "    <tr>\n",
       "      <th>9</th>\n",
       "      <td>Invoice Management</td>\n",
       "      <td>Statement of Account Request</td>\n",
       "      <td>QVR 1086 - Austria</td>\n",
       "      <td>3</td>\n",
       "    </tr>\n",
       "  </tbody>\n",
       "</table>\n",
       "</div>"
      ],
      "text/plain": [
       "               PrimaryTopic                                 secondarytopic  \\\n",
       "2      AP Reporting Request                              Reporting Request   \n",
       "6  Payee Account Management  Employee Account Maintenance and Status Query   \n",
       "7        Invoice Management                         Invoice Payment Status   \n",
       "8        Invoice Management                         Invoice Payment Status   \n",
       "9        Invoice Management                   Statement of Account Request   \n",
       "\n",
       "                                         Description  id  \n",
       "2  PO re-opened Hi Team,  Kindly note that PO 009...   0  \n",
       "6  Hello Prohelp,  Please send the DOCUSIGN link ...   1  \n",
       "7  Hola,    Se puede usar la tarjeta de MS para p...   2  \n",
       "8  Talebiniz  bize ulasti      Degerli Müsterimiz...   2  \n",
       "9                                 QVR 1086 - Austria   3  "
      ]
     },
     "execution_count": 8,
     "metadata": {},
     "output_type": "execute_result"
    }
   ],
   "source": [
    "df['id'] = df['secondarytopic'].factorize()[0]\n",
    "category_id_df = df[['secondarytopic', 'id']].drop_duplicates().sort_values('id')\n",
    "category_to_id = dict(category_id_df.values)\n",
    "id_to_category = dict(category_id_df[['id', 'secondarytopic']].values)\n",
    "df.head()"
   ]
  },
  {
   "cell_type": "code",
   "execution_count": 9,
   "metadata": {},
   "outputs": [
    {
     "data": {
      "text/plain": [
       "2     19989\n",
       "10    11643\n",
       "9      5332\n",
       "11     4023\n",
       "7      3449\n",
       "6      3291\n",
       "4      2779\n",
       "17     2642\n",
       "8      2542\n",
       "13     2447\n",
       "1      2393\n",
       "14     2320\n",
       "0      2255\n",
       "15     1876\n",
       "18     1817\n",
       "3      1291\n",
       "16     1153\n",
       "12     1084\n",
       "5      1020\n",
       "Name: id, dtype: int64"
      ]
     },
     "execution_count": 9,
     "metadata": {},
     "output_type": "execute_result"
    }
   ],
   "source": [
    "df['id'].value_counts()"
   ]
  },
  {
   "cell_type": "markdown",
   "metadata": {},
   "source": [
    "# Imbalanced Classes\n",
    "We see that the number of complaints per product is imbalanced. Consumers’ complaints are more biased towards \n",
    "Invoice Management, Payee Account Management and Travel and Expenses Management.\n",
    "\n",
    "\n",
    "However, in our case of learning imbalanced data, the majority classes might be of our great interest. It is desirable to have a classifier that gives high prediction accuracy over the majority class, while maintaining reasonable accuracy\n",
    "for the minority classes. Therefore, we will leave it as it is."
   ]
  },
  {
   "cell_type": "code",
   "execution_count": 10,
   "metadata": {},
   "outputs": [
    {
     "data": {
      "image/png": "[encoded data removed]",
      "text/plain": [
       "<Figure size 1440x1440 with 1 Axes>"
      ]
     },
     "metadata": {
      "needs_background": "light"
     },
     "output_type": "display_data"
    }
   ],
   "source": [
    "import matplotlib.pyplot as plt\n",
    "fig = plt.figure(figsize=(20,20))\n",
    "df.groupby('secondarytopic').Description.count().plot.bar(ylim=0)\n",
    "plt.show()"
   ]
  },
  {
   "cell_type": "code",
   "execution_count": 11,
   "metadata": {},
   "outputs": [],
   "source": [
    "from transformers import AdamW"
   ]
  },
  {
   "cell_type": "code",
   "execution_count": 12,
   "metadata": {},
   "outputs": [
    {
     "name": "stderr",
     "output_type": "stream",
     "text": [
      "[nltk_data] Downloading package stopwords to\n",
      "[nltk_data]     C:\\Users\\v-savrav\\AppData\\Roaming\\nltk_data...\n",
      "[nltk_data]   Package stopwords is already up-to-date!\n",
      "[nltk_data] Downloading package punkt to\n",
      "[nltk_data]     C:\\Users\\v-savrav\\AppData\\Roaming\\nltk_data...\n",
      "[nltk_data]   Package punkt is already up-to-date!\n",
      "[nltk_data] Downloading package wordnet to\n",
      "[nltk_data]     C:\\Users\\v-savrav\\AppData\\Roaming\\nltk_data...\n",
      "[nltk_data]   Package wordnet is already up-to-date!\n"
     ]
    }
   ],
   "source": [
    "import nltk\n",
    "nltk.download('stopwords')\n",
    "nltk.download('punkt')\n",
    "nltk.download('wordnet')\n",
    "from nltk.corpus import stopwords \n",
    "from nltk.stem import SnowballStemmer\n",
    "from nltk.stem import WordNetLemmatizer \n",
    "\n",
    "# Init the Wordnet Lemmatizer\n",
    "wordnet_lemmatizer = WordNetLemmatizer()\n",
    "#is based on The Porter Stemming Algorithm\n",
    "stopwords = stopwords.words(\"english\")\n",
    "snowball_stemmer = SnowballStemmer(\"english\")"
   ]
  },
  {
   "cell_type": "code",
   "execution_count": 13,
   "metadata": {},
   "outputs": [],
   "source": [
    "df=df.dropna()\n",
    "df['Description']=df['Description'].astype(str)\n",
    "df=df.reset_index()\n",
    "# tokenization \n",
    "tokenized_doc = df['Description'].apply(lambda x: x.split())\n",
    "\n",
    "# remove stop-words \n",
    "\n",
    "tokenized_doc = tokenized_doc.apply(lambda x: [wordnet_lemmatizer.lemmatize(item) for item in x if item not in stopwords])\n",
    "#tokenized_doc = tokenized_doc.apply(lambda x: [snowball_stemmer.stem(item) for item in x ])\n",
    "# de-tokenization \n",
    "detokenized_doc = [] \n",
    "for i in range(len(df)): \n",
    "    t = ' '.join(tokenized_doc[i]) \n",
    "    detokenized_doc.append(t) \n",
    "\n",
    "df['Description'] = detokenized_doc"
   ]
  },
  {
   "cell_type": "code",
   "execution_count": 14,
   "metadata": {},
   "outputs": [],
   "source": [
    "import string\n",
    "\n",
    "def remove_punctuation(s):\n",
    "    s = ''.join([i for i in s if i not in frozenset(string.punctuation)])\n",
    "    return s\n",
    "\n",
    "df['Description'] = df['Description'].apply(remove_punctuation)"
   ]
  },
  {
   "cell_type": "markdown",
   "metadata": {},
   "source": [
    "# Text Representation"
   ]
  },
  {
   "cell_type": "code",
   "execution_count": 31,
   "metadata": {},
   "outputs": [],
   "source": [
    "from sklearn.feature_extraction.text import HashingVectorizer\n",
    "vector = HashingVectorizer(decode_error = 'ignore',\n",
    "                          n_features = 2**21,\n",
    "                          preprocessor = None,\n",
    "                           encoding='utf-8',lowercase=True, ngram_range=(1,1))"
   ]
  },
  {
   "cell_type": "code",
   "execution_count": 32,
   "metadata": {},
   "outputs": [
    {
     "name": "stdout",
     "output_type": "stream",
     "text": [
      "(73346, 2097152)\n"
     ]
    }
   ],
   "source": [
    "X = vector.fit_transform(df['Description'])\n",
    "print(X.shape)\n",
    "labels = df.id"
   ]
  },
  {
   "cell_type": "code",
   "execution_count": 17,
   "metadata": {},
   "outputs": [
    {
     "data": {
      "text/plain": [
       "'Hello Prohelp Please send DOCUSIGN link EE NAME  EMPLOYEE  Hi Simas When Prohelp sends link form please complete field boxed RED field required update employee expense reimbursement account accurately In addition please use Bolded reply related field form  Company code employee set extended  1010  Is request relocation reimbursement MGR reimbursements  Relocation  If relocation relocation contact Zhiqingsheenatancartuscom  For relocation reimbursements currency request paid in Please mention currency code wish reimbursed  If IBAN number not bank do please add bank field section DocuSign form  Ensure Employee ID correct Thank you Warmest Regards Sheena OUT OF OFFICE SCHEDULE Office Closure 28 Oct Mon lieu Deepavali public holiday Personal Leave 29 30 31 Oct Tue Wed Thu  Sheena Tan Senior ConsultantCartus 4 Shenton Way 1601 SGX Centre 2 Singapore 068807 ZhiQingSheenaTanCartuscom Tel 65 6880 4167 Ext 2594  Fax 65 6557 0071 Company Registration No 200002346K  CEA License No L3010655E Connect us wwwcartuscom  Facebook  YouTube Twitter LinkedIn Download CartusMobile® Android iPhone WINNER Relocation Management Company Year  Asia 2012 2013 2014 2015 2016 Trusted guidance – every move make ® Click learn LEAP Technology That Moves YouSM This email may confidential If intended recipient please notify u immediately delete copy system If email sent Cartus UK offices address is Cartus Limited Registered England'"
      ]
     },
     "execution_count": 17,
     "metadata": {},
     "output_type": "execute_result"
    }
   ],
   "source": [
    "df['Description'][1]"
   ]
  },
  {
   "cell_type": "code",
   "execution_count": 18,
   "metadata": {},
   "outputs": [],
   "source": [
    "df=df[['id','Description','secondarytopic']]"
   ]
  },
  {
   "cell_type": "code",
   "execution_count": 27,
   "metadata": {},
   "outputs": [],
   "source": [
    "X=df['Description']\n",
    "y=df['id']"
   ]
  },
  {
   "cell_type": "code",
   "execution_count": 25,
   "metadata": {},
   "outputs": [],
   "source": [
    "from sklearn.model_selection import train_test_split\n",
    "from sklearn.feature_extraction.text import CountVectorizer\n",
    "from sklearn.feature_extraction.text import TfidfTransformer\n",
    "from sklearn.naive_bayes import MultinomialNB\n",
    "from sklearn.linear_model import SGDClassifier\n",
    "\n",
    "X_train, X_test, y_train, y_test, indices_train, indices_test = train_test_split(X, y, df.index, test_size=0.30, random_state=0)\n"
   ]
  },
  {
   "cell_type": "code",
   "execution_count": 26,
   "metadata": {},
   "outputs": [
    {
     "data": {
      "text/plain": [
       "1373     Hi I finally registered Microsoft Azure If sub...\n",
       "61954                                           7601920740\n",
       "61790    Dear Sir  Madam Please find document attached ...\n",
       "36038    Hi Steve Thanks Got it Since warehouse moved D...\n",
       "64783    Hi If line item remaining PO dated fiscal year...\n",
       "55335    Hi Team Please help post HK MEWB FY18 P12 shar...\n",
       "16579    po status request Hi Saranya Rajasekar Could p...\n",
       "12882    Dear ACCOUNTS PAYABLE Please find attached cre...\n",
       "61012                                 IO PO status updated\n",
       "13945    Hello INR 2000 part cash payment credited acco...\n",
       "13601    Your message could posted Yammer You send mess...\n",
       "46411    Hi Dinesh  Raghu Could please check whether am...\n",
       "60073    Hi Jan Accounts Payable Please find attached i...\n",
       "41786    Hi Janine Amy I looked one appears amount 2043...\n",
       "60312    Hi AP AU Can please explain PO reflecting OPEN...\n",
       "62367    Informed reflected P2P support tool Dear Team ...\n",
       "17884    Estimadas Agradeceré puedan dar una fecha de p...\n",
       "38440                                          Description\n",
       "7864     7601864656 7601864657 Hi Team We 2 invoice pro...\n",
       "69394    SOACentro Corporativo El Tobogan SA23292321066...\n",
       "67176    Hi Team Could please take necessary action ema...\n",
       "67024    The invoice submitted soft copy 2nd July due t...\n",
       "28942    Ask HR sent copy REVIEW DOCUMENTS Dear MS Sing...\n",
       "44966    Dear Valued Business Partner This automated re...\n",
       "17640    Hi Prohelp We need changing invoice approver M...\n",
       "67669       Outlook Android From LHF Tax Effective Plan...\n",
       "40114    Hi AP Team Please upload Option 2 BOTH attache...\n",
       "71722    Hi Keith I want solve problem outstanding invo...\n",
       "45149    Santiago de Chile Chile 01 de abril 2019 A qui...\n",
       "63043    Hi AP Could please inform status Invoices URN ...\n",
       "                               ...                        \n",
       "41504    Hi Team – bill amount Book them reject them It...\n",
       "52489    Dear This inform invoicing attached sent email...\n",
       "68755    PO 98764938 reopened back end kindly search PO...\n",
       "49811    Ravi Soori 440 AM Hi helpdesk IT 440 AM Hi Rav...\n",
       "797      Reply requestor  Hello Ami We received notice ...\n",
       "31921    CÁMARA DE COMERCIO EN LA PRENSA CCL realizará ...\n",
       "24675    phone call Citi regarding technical issue curr...\n",
       "47954    Greeting All Please find attached invoice Febr...\n",
       "2496     7601914569 Conformemente alla normativa vigent...\n",
       "73135    Hello Mark Looping AP team advise category use...\n",
       "1871     Dear Team Any update payment invoice From MS S...\n",
       "7877     Please find attach journal entry Portugal P2 K...\n",
       "37619    9075203  1291 removing closed ticket removing ...\n",
       "70608     G  S GSS  25522 etaee ap 89 e 112617 eeaµµ st...\n",
       "67699    Hi Team Kindly attached document Expense Repor...\n",
       "38804    Hi All Good afternoon Gentle follow status Bil...\n",
       "6921     Hi Team Explanation provided requestor cancell...\n",
       "18983    ER0000011401569 107507064 TKT2107062C9C4B9 Hom...\n",
       "32230    Hi Team Can provide list 1461 active vendor sh...\n",
       "17089    Hi Team Attached JE month March 2019 service m...\n",
       "52620    7602036715 Attached please find Wide Voice Tol...\n",
       "39512    From AMERICAN EXPRESS INTL SA Adobe Acrobat Re...\n",
       "48600    Hi Macazar This reference PO 98589783 Please i...\n",
       "55026    Funds moved Hello Buy Center Please move fund ...\n",
       "41993    We’ve made changes GSAM  Global Services Acces...\n",
       "21243                                          Description\n",
       "45891    This unmonitored mailbox To contact DocuSign S...\n",
       "42613     This message attachment confidential may priv...\n",
       "43567    Hi Team Please help payment invoice Sept 5th s...\n",
       "68268    Hi Shanmugam I’m writing URN 6002161296 Could ...\n",
       "Name: Description, Length: 51342, dtype: object"
      ]
     },
     "execution_count": 26,
     "metadata": {},
     "output_type": "execute_result"
    }
   ],
   "source": [
    "X_train"
   ]
  },
  {
   "cell_type": "code",
   "execution_count": 19,
   "metadata": {},
   "outputs": [],
   "source": [
    "import os\n",
    "import sys\n",
    "from tempfile import TemporaryDirectory\n",
    "\n",
    "import numpy as np\n",
    "import pandas as pd\n",
    "import scrapbook as sb\n",
    "import torch\n",
    "import torch.nn as nn\n",
    "from sklearn.metrics import accuracy_score, classification_report\n",
    "from sklearn.model_selection import train_test_split\n",
    "from sklearn.preprocessing import LabelEncoder\n",
    "from tqdm import tqdm\n",
    "#from utils_nlp.common.timer import Timer\n",
    "#from utils_nlp.dataset.multinli import load_pandas_df\n",
    "#from utils_nlp.models.transformers.sequence_classification import (\n",
    "#    Processor, SequenceClassifier)"
   ]
  },
  {
   "cell_type": "code",
   "execution_count": 15,
   "metadata": {},
   "outputs": [],
   "source": [
    "def tweetGenerator(df):\n",
    "    \"\"\"\n",
    "    This function takes a tweet from the data frame\n",
    "    and returns the text of the tweet as well as the sentiment label\n",
    "    \"\"\"\n",
    "    for row in df.itertuples():\n",
    "        label = row[1]\n",
    "        tweet = row[2]\n",
    "        yield tweet, label"
   ]
  },
  {
   "cell_type": "code",
   "execution_count": 16,
   "metadata": {},
   "outputs": [],
   "source": [
    "tweet_gen = tweetGenerator(df)"
   ]
  },
  {
   "cell_type": "code",
   "execution_count": 17,
   "metadata": {},
   "outputs": [],
   "source": [
    "def getBatch(tweet_gen, size):\n",
    "    \"\"\"\n",
    "    This function takes as arguments\n",
    "    the tweet generator tweet_gen and the batch size\n",
    "    desired. It returns two lists for the tweets and labels\n",
    "    whose length is the batch size\n",
    "    \"\"\"\n",
    "    tweets, labels = [], []\n",
    "    for _ in range(size):\n",
    "        tweet, label = next(tweet_gen)\n",
    "        tweets.append(tweet)\n",
    "        labels.append(label)\n",
    "    return tweets, labels"
   ]
  },
  {
   "cell_type": "code",
   "execution_count": 20,
   "metadata": {},
   "outputs": [],
   "source": [
    "from sklearn import linear_model\n",
    "clf = linear_model.SGDClassifier(loss='hinge', alpha=1e-4, shuffle=True)"
   ]
  },
  {
   "cell_type": "code",
   "execution_count": 21,
   "metadata": {},
   "outputs": [],
   "source": [
    "from sklearn.linear_model import SGDClassifier\n",
    "SGDclassifier = SGDClassifier(loss='hinge', alpha=1e-4, shuffle=True, random_state=1)\n",
    "tweet_gen = tweetGenerator(df)"
   ]
  },
  {
   "cell_type": "code",
   "execution_count": 28,
   "metadata": {
    "scrolled": true
   },
   "outputs": [],
   "source": [
    "import pyprind\n",
    "batchSize = 5000\n",
    "totalTweets = len(df)\n",
    "#totalTweets = 15000\n",
    "iterations = int(totalTweets/batchSize)\n",
    "progressBar = pyprind.ProgBar(iterations)\n",
    "\n",
    "classes = np.unique(y)\n"
   ]
  },
  {
   "cell_type": "code",
   "execution_count": 29,
   "metadata": {},
   "outputs": [
    {
     "data": {
      "text/plain": [
       "19"
      ]
     },
     "execution_count": 29,
     "metadata": {},
     "output_type": "execute_result"
    }
   ],
   "source": [
    "len(df['id'].value_counts())"
   ]
  },
  {
   "cell_type": "code",
   "execution_count": 33,
   "metadata": {},
   "outputs": [
    {
     "ename": "ValueError",
     "evalue": "classes should include all valid labels that can be in y",
     "output_type": "error",
     "traceback": [
      "\u001b[1;31m---------------------------------------------------------------------------\u001b[0m",
      "\u001b[1;31mValueError\u001b[0m                                Traceback (most recent call last)",
      "\u001b[1;32m<ipython-input-33-bd9285e32776>\u001b[0m in \u001b[0;36m<module>\u001b[1;34m\u001b[0m\n\u001b[0;32m      3\u001b[0m     \u001b[0mX_train\u001b[0m \u001b[1;33m=\u001b[0m \u001b[0mvector\u001b[0m\u001b[1;33m.\u001b[0m\u001b[0mtransform\u001b[0m\u001b[1;33m(\u001b[0m\u001b[0mX_train\u001b[0m\u001b[1;33m)\u001b[0m\u001b[1;33m\u001b[0m\u001b[1;33m\u001b[0m\u001b[0m\n\u001b[0;32m      4\u001b[0m     \u001b[1;31m#SGDclassifier.partial_fit(X_train, y_train, classes=classes)\u001b[0m\u001b[1;33m\u001b[0m\u001b[1;33m\u001b[0m\u001b[1;33m\u001b[0m\u001b[0m\n\u001b[1;32m----> 5\u001b[1;33m     \u001b[0mclf\u001b[0m\u001b[1;33m.\u001b[0m\u001b[0mpartial_fit\u001b[0m\u001b[1;33m(\u001b[0m\u001b[0mX_train\u001b[0m\u001b[1;33m,\u001b[0m \u001b[0my_train\u001b[0m\u001b[1;33m,\u001b[0m \u001b[0mclasses\u001b[0m\u001b[1;33m=\u001b[0m\u001b[0mclasses\u001b[0m\u001b[1;33m)\u001b[0m\u001b[1;33m\u001b[0m\u001b[1;33m\u001b[0m\u001b[0m\n\u001b[0m\u001b[0;32m      6\u001b[0m     \u001b[0mprogressBar\u001b[0m\u001b[1;33m.\u001b[0m\u001b[0mupdate\u001b[0m\u001b[1;33m(\u001b[0m\u001b[1;33m)\u001b[0m\u001b[1;33m\u001b[0m\u001b[1;33m\u001b[0m\u001b[0m\n",
      "\u001b[1;32m~\\AppData\\Local\\Continuum\\anaconda3\\lib\\site-packages\\sklearn\\linear_model\\stochastic_gradient.py\u001b[0m in \u001b[0;36mpartial_fit\u001b[1;34m(self, X, y, classes, sample_weight)\u001b[0m\n\u001b[0;32m    678\u001b[0m                                  \u001b[0mlearning_rate\u001b[0m\u001b[1;33m=\u001b[0m\u001b[0mself\u001b[0m\u001b[1;33m.\u001b[0m\u001b[0mlearning_rate\u001b[0m\u001b[1;33m,\u001b[0m \u001b[0mmax_iter\u001b[0m\u001b[1;33m=\u001b[0m\u001b[1;36m1\u001b[0m\u001b[1;33m,\u001b[0m\u001b[1;33m\u001b[0m\u001b[1;33m\u001b[0m\u001b[0m\n\u001b[0;32m    679\u001b[0m                                  \u001b[0mclasses\u001b[0m\u001b[1;33m=\u001b[0m\u001b[0mclasses\u001b[0m\u001b[1;33m,\u001b[0m \u001b[0msample_weight\u001b[0m\u001b[1;33m=\u001b[0m\u001b[0msample_weight\u001b[0m\u001b[1;33m,\u001b[0m\u001b[1;33m\u001b[0m\u001b[1;33m\u001b[0m\u001b[0m\n\u001b[1;32m--> 680\u001b[1;33m                                  coef_init=None, intercept_init=None)\n\u001b[0m\u001b[0;32m    681\u001b[0m \u001b[1;33m\u001b[0m\u001b[0m\n\u001b[0;32m    682\u001b[0m     def fit(self, X, y, coef_init=None, intercept_init=None,\n",
      "\u001b[1;32m~\\AppData\\Local\\Continuum\\anaconda3\\lib\\site-packages\\sklearn\\linear_model\\stochastic_gradient.py\u001b[0m in \u001b[0;36m_partial_fit\u001b[1;34m(self, X, y, alpha, C, loss, learning_rate, max_iter, classes, sample_weight, coef_init, intercept_init)\u001b[0m\n\u001b[0;32m    488\u001b[0m         \u001b[1;31m# Allocate datastructures from input arguments\u001b[0m\u001b[1;33m\u001b[0m\u001b[1;33m\u001b[0m\u001b[1;33m\u001b[0m\u001b[0m\n\u001b[0;32m    489\u001b[0m         self._expanded_class_weight = compute_class_weight(self.class_weight,\n\u001b[1;32m--> 490\u001b[1;33m                                                            self.classes_, y)\n\u001b[0m\u001b[0;32m    491\u001b[0m         \u001b[0msample_weight\u001b[0m \u001b[1;33m=\u001b[0m \u001b[0mself\u001b[0m\u001b[1;33m.\u001b[0m\u001b[0m_validate_sample_weight\u001b[0m\u001b[1;33m(\u001b[0m\u001b[0msample_weight\u001b[0m\u001b[1;33m,\u001b[0m \u001b[0mn_samples\u001b[0m\u001b[1;33m)\u001b[0m\u001b[1;33m\u001b[0m\u001b[1;33m\u001b[0m\u001b[0m\n\u001b[0;32m    492\u001b[0m \u001b[1;33m\u001b[0m\u001b[0m\n",
      "\u001b[1;32m~\\AppData\\Local\\Continuum\\anaconda3\\lib\\site-packages\\sklearn\\utils\\class_weight.py\u001b[0m in \u001b[0;36mcompute_class_weight\u001b[1;34m(class_weight, classes, y)\u001b[0m\n\u001b[0;32m     39\u001b[0m \u001b[1;33m\u001b[0m\u001b[0m\n\u001b[0;32m     40\u001b[0m     \u001b[1;32mif\u001b[0m \u001b[0mset\u001b[0m\u001b[1;33m(\u001b[0m\u001b[0my\u001b[0m\u001b[1;33m)\u001b[0m \u001b[1;33m-\u001b[0m \u001b[0mset\u001b[0m\u001b[1;33m(\u001b[0m\u001b[0mclasses\u001b[0m\u001b[1;33m)\u001b[0m\u001b[1;33m:\u001b[0m\u001b[1;33m\u001b[0m\u001b[1;33m\u001b[0m\u001b[0m\n\u001b[1;32m---> 41\u001b[1;33m         raise ValueError(\"classes should include all valid labels that can \"\n\u001b[0m\u001b[0;32m     42\u001b[0m                          \"be in y\")\n\u001b[0;32m     43\u001b[0m     \u001b[1;32mif\u001b[0m \u001b[0mclass_weight\u001b[0m \u001b[1;32mis\u001b[0m \u001b[1;32mNone\u001b[0m \u001b[1;32mor\u001b[0m \u001b[0mlen\u001b[0m\u001b[1;33m(\u001b[0m\u001b[0mclass_weight\u001b[0m\u001b[1;33m)\u001b[0m \u001b[1;33m==\u001b[0m \u001b[1;36m0\u001b[0m\u001b[1;33m:\u001b[0m\u001b[1;33m\u001b[0m\u001b[1;33m\u001b[0m\u001b[0m\n",
      "\u001b[1;31mValueError\u001b[0m: classes should include all valid labels that can be in y"
     ]
    }
   ],
   "source": [
    "for i in range(iterations):\n",
    "    X_train, y_train = getBatch(tweet_gen, size=batchSize)\n",
    "    X_train = vector.transform(X_train)\n",
    "    #SGDclassifier.partial_fit(X_train, y_train, classes=classes)\n",
    "    clf.partial_fit(X_train, y_train, classes=classes)   \n",
    "    progressBar.update()"
   ]
  },
  {
   "cell_type": "code",
   "execution_count": 28,
   "metadata": {},
   "outputs": [],
   "source": [
    "#tweet_gen_test = tweetGenerator(df_test)\n",
    "#X_test, y_test = getBatchTest(tweet_gen_test, size=df_test.shape[0])\n",
    "X_test = vector.transform(X_test)"
   ]
  },
  {
   "cell_type": "code",
   "execution_count": 29,
   "metadata": {},
   "outputs": [
    {
     "data": {
      "text/plain": [
       "(5000, 2097152)"
      ]
     },
     "execution_count": 29,
     "metadata": {},
     "output_type": "execute_result"
    }
   ],
   "source": [
    "X_train.shape"
   ]
  },
  {
   "cell_type": "code",
   "execution_count": 30,
   "metadata": {},
   "outputs": [
    {
     "data": {
      "text/plain": [
       "(22004, 2097152)"
      ]
     },
     "execution_count": 30,
     "metadata": {},
     "output_type": "execute_result"
    }
   ],
   "source": [
    "X_test.shape"
   ]
  },
  {
   "cell_type": "code",
   "execution_count": 31,
   "metadata": {},
   "outputs": [
    {
     "name": "stdout",
     "output_type": "stream",
     "text": [
      "Accuracy: 0.666\n"
     ]
    }
   ],
   "source": [
    "print('Accuracy: %.3f' %  clf.score(X_test, y_test))"
   ]
  },
  {
   "cell_type": "markdown",
   "metadata": {},
   "source": [
    "# Prediction "
   ]
  },
  {
   "cell_type": "markdown",
   "metadata": {},
   "source": [
    "# Confusion Matrix\n",
    "   The vast majority of the predictions end up on the diagonal (predicted label = actual label), where we want them to be. However, there are a number of misclassifications,and it might be interesting to see what those are caused by:"
   ]
  },
  {
   "cell_type": "code",
   "execution_count": null,
   "metadata": {},
   "outputs": [],
   "source": [
    "filename = 'clf_model.sav'\n",
    "joblib.dump(clf, filename)"
   ]
  },
  {
   "cell_type": "code",
   "execution_count": 32,
   "metadata": {},
   "outputs": [
    {
     "data": {
      "image/png": "[encoded data removed]",
      "text/plain": [
       "<Figure size 1080x1080 with 2 Axes>"
      ]
     },
     "metadata": {
      "needs_background": "light"
     },
     "output_type": "display_data"
    }
   ],
   "source": [
    "#model = LinearSVC()\n",
    "#X_train, X_test, y_train, y_test, indices_train, indices_test = train_test_split(features, labels, df.index, test_size=0.33, random_state=0)\n",
    "#model.fit(X_train, y_train)\n",
    "y_pred = clf.predict(X_test)\n",
    "from sklearn.metrics import confusion_matrix\n",
    "conf_mat = confusion_matrix(y_test, y_pred)\n",
    "fig, ax = plt.subplots(figsize=(15,15))\n",
    "sns.heatmap(conf_mat, annot=True, fmt='d',\n",
    "            xticklabels=category_id_df.secondarytopic.values, yticklabels=category_id_df.secondarytopic.values)\n",
    "plt.ylabel('Actual')\n",
    "plt.xlabel('Predicted')\n",
    "plt.show()"
   ]
  },
  {
   "cell_type": "markdown",
   "metadata": {},
   "source": [
    "# clf report"
   ]
  },
  {
   "cell_type": "code",
   "execution_count": 33,
   "metadata": {},
   "outputs": [
    {
     "name": "stdout",
     "output_type": "stream",
     "text": [
      "                                               precision    recall  f1-score   support\n",
      "\n",
      "                            Reporting Request       0.56      0.22      0.32       669\n",
      "Employee Account Maintenance and Status Query       0.69      0.60      0.64       699\n",
      "                       Invoice Payment Status       0.70      0.76      0.73      5990\n",
      "                 Statement of Account Request       0.88      0.84      0.86       341\n",
      "                               Payment Action       0.76      0.49      0.60       826\n",
      "                            PO Status Request       0.56      0.69      0.62       322\n",
      "                   Travel and Expenses Status       0.71      0.52      0.60       998\n",
      "                                     SAP Flow       0.81      0.63      0.71      1057\n",
      "      Audit and Policy Violation Notification       0.79      0.96      0.87       765\n",
      "                                       Others       0.74      0.84      0.79      1573\n",
      "          Email Invoice and Refund Submission       0.62      0.80      0.70      3548\n",
      "              Expense Report Submission Query       0.51      0.67      0.58      1206\n",
      "          Approver Activities Change Approver       0.41      0.19      0.26       311\n",
      "                       Invoice Change Request       0.49      0.33      0.40       742\n",
      "           User Education on Tool and Process       0.57      0.08      0.15       718\n",
      "              MPC - Payee Account Maintenance       0.54      0.51      0.52       540\n",
      "                            Other Actions SAP       0.64      0.76      0.69       392\n",
      "  Education on Vendor, Categories and Process       0.62      0.62      0.62       773\n",
      "                                         Bank       0.73      0.62      0.67       534\n",
      "\n",
      "                                     accuracy                           0.67     22004\n",
      "                                    macro avg       0.65      0.59      0.60     22004\n",
      "                                 weighted avg       0.66      0.67      0.65     22004\n",
      "\n"
     ]
    }
   ],
   "source": [
    "from sklearn import metrics\n",
    "print(metrics.classification_report(y_test, y_pred, target_names=df['secondarytopic'].unique()))"
   ]
  },
  {
   "cell_type": "code",
   "execution_count": 35,
   "metadata": {},
   "outputs": [
    {
     "name": "stderr",
     "output_type": "stream",
     "text": [
      "C:\\Users\\v-savrav\\AppData\\Local\\Continuum\\anaconda3\\lib\\site-packages\\sklearn\\externals\\joblib\\__init__.py:15: DeprecationWarning: sklearn.externals.joblib is deprecated in 0.21 and will be removed in 0.23. Please import this functionality directly from joblib, which can be installed with: pip install joblib. If this warning is raised when loading pickled models, you may need to re-serialize those models with scikit-learn 0.21+.\n",
      "  warnings.warn(msg, category=DeprecationWarning)\n"
     ]
    },
    {
     "data": {
      "text/plain": [
       "['clf_model.sav']"
      ]
     },
     "execution_count": 35,
     "metadata": {},
     "output_type": "execute_result"
    }
   ],
   "source": [
    "from sklearn.externals import joblib\n",
    "filename = 'clf_model.sav'\n",
    "joblib.dump(clf, filename)"
   ]
  }
 ],
 "metadata": {
  "kernelspec": {
   "display_name": "Python 3",
   "language": "python",
   "name": "python3"
  },
  "language_info": {
   "codemirror_mode": {
    "name": "ipython",
    "version": 3
   },
   "file_extension": ".py",
   "mimetype": "text/x-python",
   "name": "python",
   "nbconvert_exporter": "python",
   "pygments_lexer": "ipython3",
   "version": "3.7.3"
  }
 },
 "nbformat": 4,
 "nbformat_minor": 2
}
