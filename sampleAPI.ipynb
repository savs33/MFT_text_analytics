{
 "cells": [
  {
   "cell_type": "code",
   "execution_count": 3,
   "metadata": {},
   "outputs": [],
   "source": [
    "#!pip install jupyter_kernel_gateway"
   ]
  },
  {
   "cell_type": "code",
   "execution_count": 5,
   "metadata": {},
   "outputs": [],
   "source": [
    "import math\n",
    "import json\n",
    "import requests\n",
    "import pandas as pd"
   ]
  },
  {
   "cell_type": "code",
   "execution_count": 6,
   "metadata": {},
   "outputs": [],
   "source": [
    "REQUEST = json.dumps({\n",
    "'path' : {},\n",
    "'args' : {}\n",
    "})\n",
    "request = json.loads(REQUEST)\n",
    "code = request['path'].get('code')"
   ]
  },
  {
   "cell_type": "code",
   "execution_count": 7,
   "metadata": {},
   "outputs": [],
   "source": [
    "import pyodbc \n",
    "conn = pyodbc.connect('Driver={SQL Server};'\n",
    "                      'Server=azgovprdsql11;'\n",
    "                      'Database=OneFinReports;'\n",
    "                      'Trusted_Connection=yes;')\n",
    "cursor = conn.cursor()"
   ]
  },
  {
   "cell_type": "code",
   "execution_count": 12,
   "metadata": {},
   "outputs": [
    {
     "name": "stdout",
     "output_type": "stream",
     "text": [
      "{\"convertedAngle\": null}\n"
     ]
    }
   ],
   "source": [
    "# GET /convert\n",
    "req = json.loads(REQUEST)\n",
    "args = req['args']\n",
    "if 'tkt' not in args:\n",
    "    print(json.dumps({'convertedAngle': None}))\n",
    "else:\n",
    "    tkt=str(args['tkt'][0])\n",
    "    sp1 = \"\"\"EXEC [dbo].[SPVref] @TicketNumber=?\"\"\"\n",
    "    params=tkt\n",
    "    cursor.execute(sp1,params)\n",
    "    column_names_list = [x[0] for x in cursor.description]\n",
    "    result_dicts = [dict(zip(column_names_list, row)) for row in cursor.fetchall()]\n",
    "    df=pd.DataFrame(result_dicts)\n",
    "    converted=df.to_json(orient='records')\n",
    "    print(converted)\n",
    "    \n",
    "\n",
    " "
   ]
  },
  {
   "cell_type": "code",
   "execution_count": 9,
   "metadata": {},
   "outputs": [],
   "source": [
    "\n",
    "tkt='TKT-3680818-L6F2W6'\n",
    "sp1 = \"\"\"EXEC [dbo].[SPVref] @TicketNumber=?\"\"\"\n",
    "params=tkt\n",
    "cursor.execute(sp1,params)\n",
    "column_names_list = [x[0] for x in cursor.description]\n",
    "result_dicts = [dict(zip(column_names_list, row)) for row in cursor.fetchall()]\n",
    "df=pd.DataFrame(result_dicts)\n",
    "converted=df.to_json(orient='records')"
   ]
  },
  {
   "cell_type": "code",
   "execution_count": 10,
   "metadata": {},
   "outputs": [
    {
     "data": {
      "text/html": [
       "<div>\n",
       "<style scoped>\n",
       "    .dataframe tbody tr th:only-of-type {\n",
       "        vertical-align: middle;\n",
       "    }\n",
       "\n",
       "    .dataframe tbody tr th {\n",
       "        vertical-align: top;\n",
       "    }\n",
       "\n",
       "    .dataframe thead th {\n",
       "        text-align: right;\n",
       "    }\n",
       "</style>\n",
       "<table border=\"1\" class=\"dataframe\">\n",
       "  <thead>\n",
       "    <tr style=\"text-align: right;\">\n",
       "      <th></th>\n",
       "      <th>TicketNumber</th>\n",
       "      <th>VendorName</th>\n",
       "      <th>VendorNumber</th>\n",
       "    </tr>\n",
       "  </thead>\n",
       "  <tbody>\n",
       "    <tr>\n",
       "      <th>0</th>\n",
       "      <td>TKT-3680818-L6F2W6</td>\n",
       "      <td>HRVATSKI TELEKOM D.D.</td>\n",
       "      <td>0002311757</td>\n",
       "    </tr>\n",
       "  </tbody>\n",
       "</table>\n",
       "</div>"
      ],
      "text/plain": [
       "         TicketNumber             VendorName VendorNumber\n",
       "0  TKT-3680818-L6F2W6  HRVATSKI TELEKOM D.D.   0002311757"
      ]
     },
     "execution_count": 10,
     "metadata": {},
     "output_type": "execute_result"
    }
   ],
   "source": [
    "df"
   ]
  },
  {
   "cell_type": "code",
   "execution_count": 11,
   "metadata": {},
   "outputs": [
    {
     "data": {
      "text/plain": [
       "'[{\"TicketNumber\":\"TKT-3680818-L6F2W6\",\"VendorName\":\"HRVATSKI TELEKOM D.D.\",\"VendorNumber\":\"0002311757\"}]'"
      ]
     },
     "execution_count": 11,
     "metadata": {},
     "output_type": "execute_result"
    }
   ],
   "source": [
    "converted"
   ]
  },
  {
   "cell_type": "code",
   "execution_count": null,
   "metadata": {},
   "outputs": [],
   "source": []
  }
 ],
 "metadata": {
  "kernelspec": {
   "display_name": "Python 3",
   "language": "python",
   "name": "python3"
  },
  "language_info": {
   "codemirror_mode": {
    "name": "ipython",
    "version": 3
   },
   "file_extension": ".py",
   "mimetype": "text/x-python",
   "name": "python",
   "nbconvert_exporter": "python",
   "pygments_lexer": "ipython3",
   "version": "3.7.3"
  }
 },
 "nbformat": 4,
 "nbformat_minor": 2
}
