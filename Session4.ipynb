{
 "cells": [
  {
   "cell_type": "code",
   "execution_count": 4,
   "metadata": {},
   "outputs": [
    {
     "name": "stdout",
     "output_type": "stream",
     "text": [
      "Collecting tensorboardX\n",
      "  Downloading https://files.pythonhosted.org/packages/5c/76/89dd44458eb976347e5a6e75eb79fecf8facd46c1ce259bad54e0044ea35/tensorboardX-1.6-py2.py3-none-any.whl (129kB)\n",
      "Collecting protobuf>=3.2.0 (from tensorboardX)\n",
      "  Downloading https://files.pythonhosted.org/packages/e8/df/d606d07cff0fc8d22abcc54006c0247002d11a7f2d218eb008d48e76851d/protobuf-3.6.1-cp36-cp36m-win_amd64.whl (1.1MB)\n",
      "Requirement already satisfied: six in c:\\users\\monis\\anaconda3\\lib\\site-packages (from tensorboardX)\n",
      "Requirement already satisfied: numpy in c:\\users\\monis\\anaconda3\\lib\\site-packages (from tensorboardX)\n",
      "Requirement already satisfied: setuptools in c:\\users\\monis\\anaconda3\\lib\\site-packages (from protobuf>=3.2.0->tensorboardX)\n",
      "Installing collected packages: protobuf, tensorboardX\n",
      "Successfully installed protobuf-3.6.1 tensorboardX-1.6\n"
     ]
    },
    {
     "name": "stderr",
     "output_type": "stream",
     "text": [
      "You are using pip version 9.0.1, however version 19.0.1 is available.\n",
      "You should consider upgrading via the 'python -m pip install --upgrade pip' command.\n"
     ]
    }
   ],
   "source": [
    "!pip install tensorboardX"
   ]
  },
  {
   "cell_type": "code",
   "execution_count": 5,
   "metadata": {},
   "outputs": [],
   "source": [
    "from tsundoku import hint_xor_model"
   ]
  },
  {
   "cell_type": "markdown",
   "metadata": {},
   "source": [
    "# Overview\n",
    "\n",
    "\n",
    "- **4.0. Overfitting and Underfitting**\n",
    "  - 4.0.1. *Network size*\n",
    "  - 4.0.2. *Weights regularization*\n",
    "  - 4.0.3. *Dropouts*\n",
    "<br><br>  \n",
    "\n",
    "- **4.1. TensorboardX**\n",
    "  \n",
    "\n",
    "\n"
   ]
  },
  {
   "cell_type": "markdown",
   "metadata": {},
   "source": [
    "\n",
    "# 4.0. Over-/Underfitting\n",
    "\n",
    "**Optimization:** process of adjusting a model to get the best performance possible on the training data\n",
    "\n",
    "**Generalization:** how well trained model performs on data it has never seen before\n",
    "\n",
    "#### What to do when model is underfitting (not optimal)?\n",
    " - Train longer\n",
    "\n",
    "#### How to prevent overfitting (i.e. generalize)?\n",
    " - Get more data\n",
    " - Modulate quantity of information fed to model\n",
    "\n",
    "\n",
    "\n",
    "# 4.0.1. Network Size \n",
    "\n",
    "\n",
    "> *“A **small network**, with say one hidden unit is **likely to be biased**, since the repertoire of available functions spanned by 𝑓(𝑥,𝑤)  over allowable weights will in this case be quite limited.”* \n",
    "\n",
    "> “if we **overparameterize, via a large number of hidden units and associated weights**, then bias will be reduced (… with enough weights and hidden units, the network will interpolate the data) but there is then the **danger of significant variance** contribution to the mean-square error”\n",
    "\n",
    "\n",
    "([German et al. 1992](http://web.mit.edu/6.435/www/Geman92.pdf))\n",
    "\n",
    "Managing the size/capacity of your network in the model, more accurately the no. of learnable parameters (i.e. no. of layers x no. of units per layer), will (i) ***optimize the network to converge faster*** and/or (ii) ***prevent the network from overfitting to the training data***. To illustrate this point, lets go back to our XOR example.\n"
   ]
  },
  {
   "cell_type": "code",
   "execution_count": 6,
   "metadata": {},
   "outputs": [
    {
     "name": "stdout",
     "output_type": "stream",
     "text": [
      "Inputs Dim: 2\n",
      "Output Dim: 1\n",
      "No. of Data: 4\n"
     ]
    }
   ],
   "source": [
    "from tqdm import tqdm\n",
    "import numpy as np\n",
    "\n",
    "import torch\n",
    "from torch import nn\n",
    "from torch import tensor\n",
    "from torch import optim\n",
    "\n",
    "from tensorboardX import SummaryWriter\n",
    "\n",
    "\n",
    "import matplotlib.pyplot as plt\n",
    "import seaborn as sns\n",
    "\n",
    "sns.set_style(\"darkgrid\")\n",
    "sns.set(rc={'figure.figsize':(12, 8)})\n",
    "\n",
    "\n",
    "torch.manual_seed(42)\n",
    "device = 'cuda' if torch.cuda.is_available() else 'cpu'\n",
    "\n",
    "# XOR gate inputs and outputs.\n",
    "X = xor_input = tensor([[0,0], [0,1], [1,0], [1,1]]).float().to(device)\n",
    "Y = xor_output = tensor([[0],[1],[1],[0]]).float().to(device)\n",
    "\n",
    "# Use tensor.shape to get the shape of the matrix/tensor.\n",
    "num_data, input_dim = X.shape\n",
    "print('Inputs Dim:', input_dim) # i.e. n=2 \n",
    "\n",
    "num_data, output_dim = Y.shape\n",
    "print('Output Dim:', output_dim) \n",
    "print('No. of Data:', num_data) # i.e. n=4"
   ]
  },
  {
   "cell_type": "markdown",
   "metadata": {},
   "source": [
    "## This time lets try different hidden dimensions!"
   ]
  },
  {
   "cell_type": "code",
   "execution_count": 7,
   "metadata": {},
   "outputs": [
    {
     "name": "stderr",
     "output_type": "stream",
     "text": [
      "100%|████████████████████████████████████████████████████████████████████████████| 5000/5000 [00:02<00:00, 1811.93it/s]\n",
      "100%|████████████████████████████████████████████████████████████████████████████| 5000/5000 [00:02<00:00, 1697.19it/s]\n",
      "100%|████████████████████████████████████████████████████████████████████████████| 5000/5000 [00:02<00:00, 1724.63it/s]\n"
     ]
    }
   ],
   "source": [
    "def MLP(hidden_dim, num_epochs=5000):\n",
    "    # Step 1: Initialization. \n",
    "    # Use Sequential to define a simple feed-forward network.\n",
    "    model = nn.Sequential(\n",
    "                # Use nn.Linear to get our simple perceptron.\n",
    "                nn.Linear(input_dim, hidden_dim),\n",
    "                # Use nn.Sigmoid to get our sigmoid non-linearity.\n",
    "                nn.Sigmoid(),\n",
    "                # Second layer neurons.\n",
    "                nn.Linear(hidden_dim, output_dim),\n",
    "                nn.Sigmoid()\n",
    "            )\n",
    "    # Initialize the optimizer\n",
    "    learning_rate = 0.3\n",
    "    optimizer = optim.SGD(model.parameters(), lr=learning_rate)\n",
    "    # Initialize the loss function.\n",
    "    criterion = nn.MSELoss()\n",
    "    # Initialize the stopping criteria\n",
    "    # For simplicity, just stop training after certain no. of epochs.\n",
    "    losses = [] # Keeps track of the loses.\n",
    "    # Step 2-4 of training routine.\n",
    "    for _e in tqdm(range(num_epochs)):\n",
    "        # Reset the gradient after every epoch. \n",
    "        optimizer.zero_grad() \n",
    "        # Step 2: Foward Propagation\n",
    "        predictions = model(X)\n",
    "        # Step 3: Back Propagation \n",
    "        # Calculate the cost between the predictions and the truth.\n",
    "        loss = criterion(predictions, Y)\n",
    "        # Remember to back propagate the loss you've computed above.\n",
    "        loss.backward()\n",
    "        # Step 4: Optimizer take a step and update the weights.\n",
    "        optimizer.step()\n",
    "        # Log the loss value as we proceed through the epochs.\n",
    "        if _e % 100 == 0:\n",
    "            losses.append(loss.data.item())\n",
    "    return losses\n",
    "\n",
    "losses_10 = MLP(hidden_dim=10)\n",
    "losses_100 = MLP(hidden_dim=100)\n",
    "losses_200 = MLP(hidden_dim=200)"
   ]
  },
  {
   "cell_type": "code",
   "execution_count": 8,
   "metadata": {},
   "outputs": [
    {
     "data": {
      "text/markdown": [
       "\n",
       "**Remember how to initialize the Multi-Layered Perceptron?**\n",
       "\n",
       "Using the `nn.Sequntial`, chained with repeated `torch.nn.Linear` + `torch.nn.Sigmoid` layers.\n",
       "<br>\n",
       "```python\n",
       "    # Step 1: Initialization.\n",
       "    # Use Sequential to define a simple feed-forward network.\n",
       "    model = nn.Sequential(\n",
       "                # Use nn.Linear to get our simple perceptron.\n",
       "                nn.Linear(input_dim, hidden_dim),\n",
       "                # Use nn.Sigmoid to get our sigmoid non-linearity.\n",
       "                nn.Sigmoid(),\n",
       "                # Second layer neurons.\n",
       "                nn.Linear(hidden_dim, output_dim),\n",
       "                nn.Sigmoid()\n",
       "            )\n",
       "```\n",
       "\n",
       "**Forgotten how to initialize the optimizer and loss function?**\n",
       "\n",
       "We can use the simple Stochastic Gradient Descent from `torch.optim.SGD`.\n",
       "And for the loss, the simple Mean Square Error (MSE) aka. L2 Loss with `torchn.nn.MSELoss`.\n",
       "<br>\n",
       "```python\n",
       "# Initialize the optimizer\n",
       "learning_rate = 0.3\n",
       "optimizer = optim.SGD(model.parameters(), lr=learning_rate)\n",
       "# Initialize the loss function.\n",
       "criterion = nn.MSELoss()\n",
       "```\n"
      ],
      "text/plain": [
       "<IPython.core.display.Markdown object>"
      ]
     },
     "metadata": {},
     "output_type": "display_data"
    }
   ],
   "source": [
    "# Here's some hint if you can't fill up the ??? above. \n",
    "hint_xor_model()"
   ]
  },
  {
   "cell_type": "markdown",
   "metadata": {},
   "source": [
    "\n",
    "\n",
    "## This seems to fit what we learn, \n",
    "\n",
    "Small network with limited memorization capacity underfits and takes longer to coverge (i.e. find the minimum loss)."
   ]
  },
  {
   "cell_type": "code",
   "execution_count": 17,
   "metadata": {
    "scrolled": false
   },
   "outputs": [
    {
     "data": {
      "image/png": "[encoded data removed]",
      "text/plain": [
       "<Figure size 432x288 with 1 Axes>"
      ]
     },
     "metadata": {},
     "output_type": "display_data"
    }
   ],
   "source": [
    "plt.plot(losses_10,  label='hidden = 10')\n",
    "plt.plot(losses_100, label='hidden = 100')\n",
    "plt.plot(losses_200, label='hidden = 200')\n",
    "plt.legend(loc='upper right')\n",
    "plt.show()\n",
    "\n",
    "#hidden = 200 is better here"
   ]
  },
  {
   "cell_type": "markdown",
   "metadata": {},
   "source": [
    "## Now, let's try some larger no. of units"
   ]
  },
  {
   "cell_type": "code",
   "execution_count": 18,
   "metadata": {},
   "outputs": [
    {
     "name": "stderr",
     "output_type": "stream",
     "text": [
      "100%|████████████████████████████████████████████████████████████████████████████| 5000/5000 [00:03<00:00, 1489.00it/s]\n",
      "100%|████████████████████████████████████████████████████████████████████████████| 5000/5000 [00:03<00:00, 1331.50it/s]\n",
      "100%|████████████████████████████████████████████████████████████████████████████| 5000/5000 [00:04<00:00, 1072.98it/s]\n"
     ]
    }
   ],
   "source": [
    "losses_300 = MLP(hidden_dim=300)\n",
    "losses_1000 = MLP(hidden_dim=1000)\n",
    "losses_2000 = MLP(hidden_dim=2000)\n"
   ]
  },
  {
   "cell_type": "markdown",
   "metadata": {},
   "source": [
    "## Hey now the curves of larger networks look funky =)\n",
    "\n",
    "Larger network will converge faster until a certain capacity sweetspot; `hidden_dim=200` converges faster than `hidden_dim=100`, and once it gets to `hidden>=300`, the training loss gets funky."
   ]
  },
  {
   "cell_type": "code",
   "execution_count": 19,
   "metadata": {},
   "outputs": [
    {
     "data": {
      "image/png": "[encoded data removed]",
      "text/plain": [
       "<Figure size 432x288 with 1 Axes>"
      ]
     },
     "metadata": {},
     "output_type": "display_data"
    }
   ],
   "source": [
    "plt.plot(losses_10,  label='hidden = 10')\n",
    "plt.plot(losses_100, label='hidden = 100')\n",
    "plt.plot(losses_200, label='hidden = 200')\n",
    "plt.plot(losses_300, label='hidden = 300')\n",
    "plt.plot(losses_1000, label='hidden = 1000')\n",
    "plt.plot(losses_2000, label='hidden = 2000')\n",
    "plt.legend(loc='upper right')\n",
    "plt.show()"
   ]
  },
  {
   "cell_type": "code",
   "execution_count": 20,
   "metadata": {},
   "outputs": [
    {
     "data": {
      "image/png": "[encoded data removed]",
      "text/plain": [
       "<Figure size 432x288 with 1 Axes>"
      ]
     },
     "metadata": {},
     "output_type": "display_data"
    }
   ],
   "source": [
    "plt.scatter(range(len(losses_1000)), losses_1000, label='hidden = 1000', color='purple')\n",
    "plt.scatter(range(len(losses_2000)), losses_2000, label='hidden = 2000', color='brown')\n",
    "plt.legend(loc='lower left')\n",
    "plt.show()"
   ]
  },
  {
   "cell_type": "markdown",
   "metadata": {},
   "source": [
    "\n",
    "\n",
    "## Summary:\n",
    "\n",
    "1. Small network <u>underfits</u> (longer to converge)\n",
    "2. larger network easier to converge\n",
    "3. Too large network <u>overfits</u> \n",
    "4. Too too large network don't train properly at all."
   ]
  },
  {
   "cell_type": "markdown",
   "metadata": {},
   "source": [
    "# 4.0.2. Weights regularization\n",
    "\n",
    "\n",
    "<img src=\"https://micksphotoblog.com/wp-content/uploads/2018/09/Occams-Professor.gif\" width=\"500\" align=\"left\">\n"
   ]
  },
  {
   "cell_type": "markdown",
   "metadata": {},
   "source": [
    "The simpler solution is better because makes fewer assumptions. Simpler models are less likely to overfit than complex ones.\n",
    "\n",
    "By adding a cost associated with large weights, **weights regularization** forces the model weights to take smaller values. \n",
    "\n",
    "- ***L1 regularization***: Cost is proportional to the absolute value of the weight coefficient. \n",
    "\n",
    "- ***L2 regularization***: Cost is proportional to the square value of the weight coefficient. (L2 regularization is also call *weight decay*\n",
    "\n",
    "In `PyTorch`, the regularization is a parameter in the optimizer, e.g.\n",
    "\n",
    "```python\n",
    "# Using the L2 regularization.\n",
    "optimizer = optim.SGD(model.parameters(), lr=learning_rate, weight_decay=1e-5)\n",
    "```\n",
    "\n",
    "IMHO, in practice, I (personally) never tune weights regularization. Other regularization methods gives you better result. L1 Loss is messy in PyTorch, so we'll skip that for now =)\n"
   ]
  },
  {
   "cell_type": "code",
   "execution_count": 21,
   "metadata": {},
   "outputs": [],
   "source": [
    "def MLP_L2Loss(hidden_dim, num_epochs=5000, weight_decay=1e-4):\n",
    "    # Step 1: Initialization. \n",
    "    # Use Sequential to define a simple feed-forward network.\n",
    "    model = nn.Sequential(\n",
    "                # Use nn.Linear to get our simple perceptron.\n",
    "                nn.Linear(input_dim, hidden_dim),\n",
    "                # Use nn.Sigmoid to get our sigmoid non-linearity.\n",
    "                nn.Sigmoid(),\n",
    "                # Second layer neurons.\n",
    "                nn.Linear(hidden_dim, output_dim),\n",
    "                nn.Sigmoid()\n",
    "            )\n",
    "    # Initialize the optimizer\n",
    "    learning_rate = 0.3\n",
    "    optimizer = optim.SGD(model.parameters(), lr=learning_rate, weight_decay=weight_decay)\n",
    "    # Initialize the loss function.\n",
    "    criterion = nn.MSELoss()\n",
    "    # Initialize the stopping criteria\n",
    "    # For simplicity, just stop training after certain no. of epochs.\n",
    "    losses = [] # Keeps track of the loses.\n",
    "    # Step 2-4 of training routine.\n",
    "    for _e in tqdm(range(num_epochs)):\n",
    "        # Reset the gradient after every epoch. \n",
    "        optimizer.zero_grad() \n",
    "        # Step 2: Foward Propagation\n",
    "        predictions = model(X)\n",
    "        # Step 3: Back Propagation \n",
    "        # Calculate the cost between the predictions and the truth.\n",
    "        loss = criterion(predictions, Y)\n",
    "        # Remember to back propagate the loss you've computed above.\n",
    "        loss.backward()\n",
    "        # Step 4: Optimizer take a step and update the weights.\n",
    "        optimizer.step()\n",
    "        # Log the loss value as we proceed through the epochs.\n",
    "        if _e % 100 == 0:\n",
    "            losses.append(loss.data.item())\n",
    "    return losses\n"
   ]
  },
  {
   "cell_type": "code",
   "execution_count": 22,
   "metadata": {},
   "outputs": [
    {
     "name": "stderr",
     "output_type": "stream",
     "text": [
      "100%|████████████████████████████████████████████████████████████████████████████| 5000/5000 [00:03<00:00, 1446.12it/s]\n",
      "100%|████████████████████████████████████████████████████████████████████████████| 5000/5000 [00:03<00:00, 1352.12it/s]\n"
     ]
    }
   ],
   "source": [
    "# Not much different, but subjected to some randomness...\n",
    "loss_normal = MLP(200)\n",
    "loss_l2 = MLP_L2Loss(200)"
   ]
  },
  {
   "cell_type": "code",
   "execution_count": 24,
   "metadata": {},
   "outputs": [
    {
     "data": {
      "image/png": "[encoded data removed]",
      "text/plain": [
       "<Figure size 432x288 with 1 Axes>"
      ]
     },
     "metadata": {},
     "output_type": "display_data"
    }
   ],
   "source": [
    "plt.plot(loss_normal,  label='normal')\n",
    "plt.plot(loss_l2, label='L2 loss')\n",
    "plt.legend(loc='upper right')\n",
    "plt.show()"
   ]
  },
  {
   "cell_type": "markdown",
   "metadata": {},
   "source": [
    "# 4.0.3. Dropout\n",
    "\n",
    "**Dropout** is the poster boy of neural network regularization. Geoffrey Hinton on bank's fraud prevention mechanism:\n",
    "\n",
    "> *\"I went to my bank. The tellers kept changing and I asked one of them why. He said he didn't know but they got moved around a lot. \n",
    ">\n",
    "> I figured it must be because it would require cooperation between employees to succesfully defraud the bank. \n",
    ">\n",
    "> This made me realize that randomly removing a difference subsset of neurons on each example would prevent conspiracies and thus reduce overfitting\"\n",
    "\n",
    "[Geoffrey Hinton (in Reddit AMA)](https://www.reddit.com/r/MachineLearning/comments/4w6tsv/ama_we_are_the_google_brain_team_wed_love_to/)\n",
    "\n",
    "\n",
    "To prevent the model from over-memorizing the data, adding random zero-ing noise to the output values of the layer will prevent *\"conspiracies among neurons\"*."
   ]
  },
  {
   "cell_type": "code",
   "execution_count": 25,
   "metadata": {},
   "outputs": [],
   "source": [
    "def MLP_Dropout(hidden_dim, num_epochs=5000, dropout=0.5):\n",
    "    # Step 1: Initialization. \n",
    "    # Use Sequential to define a simple feed-forward network.\n",
    "    model = nn.Sequential(\n",
    "                # Use nn.Linear to get our simple perceptron.\n",
    "                nn.Linear(input_dim, hidden_dim),\n",
    "                # Use nn.Sigmoid to get our sigmoid non-linearity.\n",
    "                nn.Sigmoid(),\n",
    "                nn.Dropout(dropout), \n",
    "                # Second layer neurons.\n",
    "                nn.Linear(hidden_dim, output_dim),\n",
    "                nn.Sigmoid()\n",
    "            )\n",
    "    # Initialize the optimizer\n",
    "    learning_rate = 0.3\n",
    "    optimizer = optim.SGD(model.parameters(), lr=learning_rate)\n",
    "    # Initialize the loss function.\n",
    "    criterion = nn.MSELoss()\n",
    "    # Initialize the stopping criteria\n",
    "    # For simplicity, just stop training after certain no. of epochs.\n",
    "    losses = [] # Keeps track of the loses.\n",
    "    # Step 2-4 of training routine.\n",
    "    for _e in tqdm(range(num_epochs)):\n",
    "        # Reset the gradient after every epoch. \n",
    "        optimizer.zero_grad() \n",
    "        # Step 2: Foward Propagation\n",
    "        predictions = model(X)\n",
    "        # Step 3: Back Propagation \n",
    "        # Calculate the cost between the predictions and the truth.\n",
    "        loss = criterion(predictions, Y)\n",
    "        # Remember to back propagate the loss you've computed above.\n",
    "        loss.backward()\n",
    "        # Step 4: Optimizer take a step and update the weights.\n",
    "        optimizer.step()\n",
    "        # Log the loss value as we proceed through the epochs.\n",
    "        if _e % 100 == 0:\n",
    "            losses.append(loss.data.item())\n",
    "    return losses\n"
   ]
  },
  {
   "cell_type": "code",
   "execution_count": 26,
   "metadata": {},
   "outputs": [
    {
     "name": "stderr",
     "output_type": "stream",
     "text": [
      "100%|████████████████████████████████████████████████████████████████████████████| 5000/5000 [00:03<00:00, 1329.45it/s]\n",
      "100%|████████████████████████████████████████████████████████████████████████████| 5000/5000 [00:04<00:00, 1161.03it/s]\n"
     ]
    }
   ],
   "source": [
    "loss_normal = MLP(500)\n",
    "loss_droptout = MLP_Dropout(500, dropout=0.5)"
   ]
  },
  {
   "cell_type": "code",
   "execution_count": 27,
   "metadata": {},
   "outputs": [
    {
     "data": {
      "image/png": "[encoded data removed]",
      "text/plain": [
       "<Figure size 432x288 with 1 Axes>"
      ]
     },
     "metadata": {},
     "output_type": "display_data"
    }
   ],
   "source": [
    "# Even at higher no. of parameter, \n",
    "# training is stable with quite a high dropout.\n",
    "plt.plot(loss_normal,  label='normal')\n",
    "plt.plot(loss_l2, label='Dropout')\n",
    "plt.legend(loc='upper right')\n",
    "plt.show()\n",
    "\n",
    "#Adding dropout helps in de-biasing"
   ]
  },
  {
   "cell_type": "markdown",
   "metadata": {},
   "source": [
    "# TensorboardX\n",
    "\n",
    "\n",
    "Using `TensorboardX` (https://github.com/lanpa/tensorboardX), a PyTorch wrapper for https://www.tensorflow.org/guide/summaries_and_tensorboard\n",
    "\n",
    "\n",
    "In command line:\n",
    "\n",
    "```\n",
    "tensorboard --logdir='./logs' --po--reload_interval --port 6006\n",
    "```\n",
    "\n",
    "\n",
    "Then open a page on the browser to:\n",
    "\n",
    "```\n",
    "localhost:6006\n",
    "```\n",
    "\n",
    "Then run the code below"
   ]
  },
  {
   "cell_type": "code",
   "execution_count": 29,
   "metadata": {},
   "outputs": [
    {
     "name": "stdout",
     "output_type": "stream",
     "text": [
      "graph(%input.1 : Float(4, 2)\n",
      "      %1 : Float(2000, 2)\n",
      "      %2 : Float(2000)\n",
      "      %3 : Float(1, 2000)\n",
      "      %4 : Float(1)) {\n",
      "  %5 : Float(2!, 2000!) = onnx::Transpose[perm=[1, 0]](%1), scope: Sequential/Linear[0]\n",
      "  %6 : Float(4, 2000) = onnx::Gemm[alpha=1, beta=1](%input.1, %5, %2), scope: Sequential/Linear[0]\n",
      "  %7 : Float(4, 2000) = onnx::Sigmoid(%6), scope: Sequential/Sigmoid[1]\n",
      "  %8 : Float(2000!, 1!) = onnx::Transpose[perm=[1, 0]](%3), scope: Sequential/Linear[2]\n",
      "  %9 : Float(4, 1) = onnx::Gemm[alpha=1, beta=1](%7, %8, %4), scope: Sequential/Linear[2]\n",
      "  %10 : Float(4, 1) = onnx::Sigmoid(%9), scope: Sequential/Sigmoid[3]\n",
      "  return (%10);\n",
      "}\n",
      "\n"
     ]
    },
    {
     "name": "stderr",
     "output_type": "stream",
     "text": [
      "100%|██████████████████████████████████████████████████████████████████████████████| 5000/5000 [02:11<00:00, 38.13it/s]\n"
     ]
    }
   ],
   "source": [
    "\n",
    "gradients = []\n",
    "hidden_dim = 2000\n",
    "num_epochs = 5000\n",
    "\n",
    "writer = SummaryWriter('./logs')\n",
    "\n",
    "\n",
    "# Step 1: Initialization. \n",
    "# Use Sequential to define a simple feed-forward network.\n",
    "model = nn.Sequential(\n",
    "            # Use nn.Linear to get our simple perceptron.\n",
    "            nn.Linear(input_dim, hidden_dim),\n",
    "            # Use nn.Sigmoid to get our sigmoid non-linearity.\n",
    "            nn.Sigmoid(),\n",
    "            # Second layer neurons.\n",
    "            nn.Linear(hidden_dim, output_dim),\n",
    "            nn.Sigmoid()\n",
    "        )\n",
    "# Initialize the optimizer\n",
    "learning_rate = 0.3\n",
    "optimizer = optim.SGD(model.parameters(), lr=learning_rate)\n",
    "# Initialize the loss function.\n",
    "criterion = nn.MSELoss()\n",
    "\n",
    "writer.add_graph(model, torch.zeros(*X.shape), True)\n",
    "\n",
    "# Initialize the stopping criteria\n",
    "# For simplicity, just stop training after certain no. of epochs.\n",
    "losses = [] # Keeps track of the loses.\n",
    "# Step 2-4 of training routine.\n",
    "for _e in tqdm(range(num_epochs)):\n",
    "    # Reset the gradient after every epoch. \n",
    "    optimizer.zero_grad() \n",
    "    # Step 2: Foward Propagation\n",
    "    predictions = model(X)\n",
    "    \n",
    "    for name, param in model.named_parameters():\n",
    "        writer.add_histogram(name, param.clone().cpu().data.numpy(), _e)\n",
    "    \n",
    "    # Step 3: Back Propagation \n",
    "    # Calculate the cost between the predictions and the truth.\n",
    "    loss = criterion(predictions, Y)\n",
    "    # Remember to back propagate the loss you've computed above.\n",
    "    loss.backward()\n",
    "    # Step 4: Optimizer take a step and update the weights.\n",
    "    optimizer.step()\n",
    "    # Log the loss value as we proceed through the epochs.\n",
    "    if _e % 100 == 0:\n",
    "        losses.append(loss.data.item())\n",
    "        writer.add_scalar('Train/Loss', loss.data.item(), _e)\n",
    "\n",
    "writer.close()"
   ]
  },
  {
   "cell_type": "markdown",
   "metadata": {},
   "source": [
    "# Now lets use TensorboardX on Word2Vec\n",
    "\n",
    "Go back to Session3 code, recode these components:\n",
    "\n",
    " - Get the data from `Language is never ever random`.\n",
    " - Recode the `Word2VecDataset`\n",
    " - Recode the `CBOW` and `Skipgram` models\n",
    " - Recode the training routine, `model(x); loss.backward(); optimizer.step()` etc. \n",
    "\n",
    "On top of that launch the TensorboardX and see explore."
   ]
  },
  {
   "cell_type": "code",
   "execution_count": null,
   "metadata": {},
   "outputs": [],
   "source": []
  }
 ],
 "metadata": {
  "kernelspec": {
   "display_name": "Python 3",
   "language": "python",
   "name": "python3"
  },
  "language_info": {
   "codemirror_mode": {
    "name": "ipython",
    "version": 3
   },
   "file_extension": ".py",
   "mimetype": "text/x-python",
   "name": "python",
   "nbconvert_exporter": "python",
   "pygments_lexer": "ipython3",
   "version": "3.7.3"
  }
 },
 "nbformat": 4,
 "nbformat_minor": 2
}
