{
 "cells": [
  {
   "cell_type": "markdown",
   "metadata": {},
   "source": [
    "# Importing Libraries"
   ]
  },
  {
   "cell_type": "code",
   "execution_count": 1,
   "metadata": {},
   "outputs": [
    {
     "name": "stderr",
     "output_type": "stream",
     "text": [
      "Using TensorFlow backend.\n"
     ]
    }
   ],
   "source": [
    "#!pip install keras\n",
    "#!pip install tensorflow\n",
    "#!pip install spacy\n",
    "import numpy as np\n",
    "import pandas as pd\n",
    "import csv\n",
    "import keras\n",
    "import sklearn\n",
    "import random\n",
    "from keras.preprocessing import sequence\n",
    "from keras.preprocessing.text import Tokenizer\n",
    "from sklearn import preprocessing\n",
    "from sklearn.base import BaseEstimator\n",
    "from sklearn.naive_bayes import MultinomialNB\n",
    "from sklearn.ensemble import RandomForestClassifier, GradientBoostingClassifier, ExtraTreesClassifier, AdaBoostClassifier\n",
    "import io\n",
    "import string\n",
    "#import spacy\n",
    "#from spacy.lang.en.stop_words import STOP_WORDS\n",
    "#from spacy.lang.en import English\n",
    "#import en_core_web_sm\n",
    "import pandas as pd\n",
    "from sklearn.feature_extraction.text import CountVectorizer,TfidfVectorizer\n",
    "from sklearn.base import TransformerMixin\n",
    "from sklearn.pipeline import Pipeline\n",
    "import seaborn as sns"
   ]
  },
  {
   "cell_type": "markdown",
   "metadata": {},
   "source": [
    "# Data Exploration"
   ]
  },
  {
   "cell_type": "code",
   "execution_count": 2,
   "metadata": {},
   "outputs": [
    {
     "name": "stdout",
     "output_type": "stream",
     "text": [
      "Reading text data for classification and building representations...\n"
     ]
    }
   ],
   "source": [
    "\n",
    "print (\"Reading text data for classification and building representations...\")\n",
    "df = pd.read_excel (\"C:\\\\Users\\\\v-savrav\\\\Text\\\\data\\\\datasetv1.xlsx\")"
   ]
  },
  {
   "cell_type": "code",
   "execution_count": 3,
   "metadata": {},
   "outputs": [
    {
     "data": {
      "text/plain": [
       "Index(['PrimaryTopic', 'secondarytopic', 'Description'], dtype='object')"
      ]
     },
     "execution_count": 3,
     "metadata": {},
     "output_type": "execute_result"
    }
   ],
   "source": [
    "df.columns"
   ]
  },
  {
   "cell_type": "code",
   "execution_count": null,
   "metadata": {},
   "outputs": [],
   "source": []
  },
  {
   "cell_type": "markdown",
   "metadata": {},
   "source": [
    "# Input: 'Description'\n",
    "# Output :'PrimaryTopic'"
   ]
  },
  {
   "cell_type": "code",
   "execution_count": 4,
   "metadata": {},
   "outputs": [
    {
     "data": {
      "text/plain": [
       "Invoice Payment Status                                 20215\n",
       "Email Invoice and Refund Submission                    11801\n",
       "Others                                                  5349\n",
       "Expense Report Submission Query                         4580\n",
       "Travel and Expenses Status                              3521\n",
       "SAP Flow                                                3496\n",
       "Payment Action                                          2793\n",
       "Education on Vendor, Categories and Process             2708\n",
       "Audit and Policy Violation Notification                 2545\n",
       "User Education on Tool and Process                      2508\n",
       "Invoice Change Request                                  2488\n",
       "Employee Account Maintenance and Status Query           2451\n",
       "Reporting Request                                       2319\n",
       "MPC - Payee Account Maintenance                         1898\n",
       "Bank                                                    1818\n",
       "Statement of Account Request                            1304\n",
       "Other Actions SAP                                       1170\n",
       "Approver Activities Change Approver                     1126\n",
       "PO Status Request                                       1042\n",
       "Change Codes Account Code Internal Order CC              982\n",
       "No Action Required Ticket Duplicates                     955\n",
       "Blocked Status Query - SSPA/GPGB/INAC/COMP               938\n",
       "Failed Payments                                          914\n",
       "Audit and Transaction Query Status AMEX Maintenance      884\n",
       "No action required, Ticket duplicates                    835\n",
       "Remittance Advices Request                               756\n",
       "Payee Account New Set Up                                 742\n",
       "MPC - Login Issue/Queries                                712\n",
       "MS Invoice                                               643\n",
       "Status Query - New Vendor creation (MPC)                 586\n",
       "                                                       ...  \n",
       "Bad Debt                                                   4\n",
       "FAQUERY-Asset Detail                                       4\n",
       "Vacation JE                                                3\n",
       "Recon OPEX PO                                              3\n",
       "Reporting Issue                                            3\n",
       "Ask3PP - SSAE16 SAS70 Report Review                        2\n",
       "Interco JE                                                 2\n",
       "Severance                                                  2\n",
       "Issue Log follow up                                        2\n",
       "Correction                                                 2\n",
       "BRV JE                                                     2\n",
       "Correction JE                                              1\n",
       "Actual Stat/Tax Filings Late                               1\n",
       "Out of Scope                                               1\n",
       "Invoice Processing Delay                                   1\n",
       "AP Reporting Request                                       1\n",
       "Governance decks                                           1\n",
       "Recon Prepayment                                           1\n",
       "Ask3PP - Internal Communication                            1\n",
       "Recon - Open Amount Tracking                               1\n",
       "Duplicate Payment                                          1\n",
       "Sign off (fails)                                           1\n",
       "Recon Vacation                                             1\n",
       "FAS JE                                                     1\n",
       "Supporting Document Control                                1\n",
       "Recon Reclass                                              1\n",
       "STAT AFS                                                   1\n",
       "Tax Payment Error                                          1\n",
       "Journal Entries Delay                                      1\n",
       "MGR JE                                                     1\n",
       "Name: secondarytopic, Length: 184, dtype: int64"
      ]
     },
     "execution_count": 4,
     "metadata": {},
     "output_type": "execute_result"
    }
   ],
   "source": [
    "df['secondarytopic'].value_counts()"
   ]
  },
  {
   "cell_type": "code",
   "execution_count": 99,
   "metadata": {},
   "outputs": [],
   "source": [
    "vc=df['secondarytopic'].value_counts()\n",
    "u  = [i not in set(vc[vc<1000].index) for i in df['secondarytopic']]\n",
    "df = df[u]\n"
   ]
  },
  {
   "cell_type": "code",
   "execution_count": 105,
   "metadata": {},
   "outputs": [
    {
     "data": {
      "text/plain": [
       "2     19989\n",
       "10    11643\n",
       "9      5332\n",
       "11     4023\n",
       "7      3449\n",
       "6      3291\n",
       "4      2779\n",
       "17     2642\n",
       "8      2542\n",
       "13     2447\n",
       "1      2393\n",
       "14     2320\n",
       "0      2255\n",
       "15     1876\n",
       "18     1817\n",
       "3      1291\n",
       "16     1153\n",
       "12     1084\n",
       "5      1020\n",
       "Name: id, dtype: int64"
      ]
     },
     "execution_count": 105,
     "metadata": {},
     "output_type": "execute_result"
    }
   ],
   "source": [
    "df['id'].value_counts()"
   ]
  },
  {
   "cell_type": "markdown",
   "metadata": {},
   "source": [
    "# Removing NULL records"
   ]
  },
  {
   "cell_type": "code",
   "execution_count": 102,
   "metadata": {},
   "outputs": [],
   "source": [
    "from io import StringIO\n",
    "df = df[pd.notnull(df['Description'])]\n",
    "df = df[pd.notnull(df['secondarytopic'])]"
   ]
  },
  {
   "cell_type": "code",
   "execution_count": 103,
   "metadata": {
    "scrolled": true
   },
   "outputs": [
    {
     "data": {
      "text/html": [
       "<div>\n",
       "<style scoped>\n",
       "    .dataframe tbody tr th:only-of-type {\n",
       "        vertical-align: middle;\n",
       "    }\n",
       "\n",
       "    .dataframe tbody tr th {\n",
       "        vertical-align: top;\n",
       "    }\n",
       "\n",
       "    .dataframe thead th {\n",
       "        text-align: right;\n",
       "    }\n",
       "</style>\n",
       "<table border=\"1\" class=\"dataframe\">\n",
       "  <thead>\n",
       "    <tr style=\"text-align: right;\">\n",
       "      <th></th>\n",
       "      <th>PrimaryTopic</th>\n",
       "      <th>secondarytopic</th>\n",
       "      <th>Description</th>\n",
       "    </tr>\n",
       "  </thead>\n",
       "  <tbody>\n",
       "    <tr>\n",
       "      <th>2</th>\n",
       "      <td>AP Reporting Request</td>\n",
       "      <td>Reporting Request</td>\n",
       "      <td>PO re-opened Hi Team,  Kindly note that PO 009...</td>\n",
       "    </tr>\n",
       "    <tr>\n",
       "      <th>6</th>\n",
       "      <td>Payee Account Management</td>\n",
       "      <td>Employee Account Maintenance and Status Query</td>\n",
       "      <td>Hello Prohelp,  Please send the DOCUSIGN link ...</td>\n",
       "    </tr>\n",
       "    <tr>\n",
       "      <th>7</th>\n",
       "      <td>Invoice Management</td>\n",
       "      <td>Invoice Payment Status</td>\n",
       "      <td>Hola,    Se puede usar la tarjeta de MS para p...</td>\n",
       "    </tr>\n",
       "    <tr>\n",
       "      <th>8</th>\n",
       "      <td>Invoice Management</td>\n",
       "      <td>Invoice Payment Status</td>\n",
       "      <td>Talebiniz  bize ulasti      Degerli Müsterimiz...</td>\n",
       "    </tr>\n",
       "    <tr>\n",
       "      <th>9</th>\n",
       "      <td>Invoice Management</td>\n",
       "      <td>Statement of Account Request</td>\n",
       "      <td>QVR 1086 - Austria</td>\n",
       "    </tr>\n",
       "    <tr>\n",
       "      <th>11</th>\n",
       "      <td>Disbursement</td>\n",
       "      <td>Payment Action</td>\n",
       "      <td>Hi Team,  Please note thatBangladesh bank file...</td>\n",
       "    </tr>\n",
       "    <tr>\n",
       "      <th>12</th>\n",
       "      <td>Payee Account Management</td>\n",
       "      <td>Employee Account Maintenance and Status Query</td>\n",
       "      <td>Hello AP Team, Based on the below supplier unb...</td>\n",
       "    </tr>\n",
       "    <tr>\n",
       "      <th>14</th>\n",
       "      <td>MyOrder Requisition Request</td>\n",
       "      <td>PO Status Request</td>\n",
       "      <td>Asked for an approval</td>\n",
       "    </tr>\n",
       "    <tr>\n",
       "      <th>15</th>\n",
       "      <td>Invoice Management</td>\n",
       "      <td>Invoice Payment Status</td>\n",
       "      <td>Hi Team,  Good day!  We have resubmitted the b...</td>\n",
       "    </tr>\n",
       "    <tr>\n",
       "      <th>16</th>\n",
       "      <td>Invoice Management</td>\n",
       "      <td>Statement of Account Request</td>\n",
       "      <td>Accounts Payable Reconciliation - 2297780 - Pr...</td>\n",
       "    </tr>\n",
       "    <tr>\n",
       "      <th>17</th>\n",
       "      <td>Travel and Expenses Management</td>\n",
       "      <td>Travel and Expenses Status</td>\n",
       "      <td>Ask HR sent you a copy.         REVIEW DOCUMEN...</td>\n",
       "    </tr>\n",
       "    <tr>\n",
       "      <th>18</th>\n",
       "      <td>Disbursement</td>\n",
       "      <td>Payment Action</td>\n",
       "      <td>Hi Team,  Please clear the below open items in...</td>\n",
       "    </tr>\n",
       "    <tr>\n",
       "      <th>19</th>\n",
       "      <td>Invoice Management</td>\n",
       "      <td>Invoice Payment Status</td>\n",
       "      <td>Hi    I’m trying to approve an invoice but the...</td>\n",
       "    </tr>\n",
       "    <tr>\n",
       "      <th>20</th>\n",
       "      <td>Invoice Management</td>\n",
       "      <td>Invoice Payment Status</td>\n",
       "      <td>Dear Sirs,  we received your payment Microsoft...</td>\n",
       "    </tr>\n",
       "    <tr>\n",
       "      <th>22</th>\n",
       "      <td>Invoice Management</td>\n",
       "      <td>Invoice Payment Status</td>\n",
       "      <td>From AMERICAN EXPRESS INT'L SA   Adobe Acrobat...</td>\n",
       "    </tr>\n",
       "    <tr>\n",
       "      <th>23</th>\n",
       "      <td>Purchase Order Update</td>\n",
       "      <td>SAP Flow</td>\n",
       "      <td>Hello AP  A request was put in to change the p...</td>\n",
       "    </tr>\n",
       "    <tr>\n",
       "      <th>24</th>\n",
       "      <td>Travel and Expenses Management</td>\n",
       "      <td>Audit and Policy Violation Notification</td>\n",
       "      <td>1010-78159-ER-0000014385128-TKT-3600866-B7G8L4</td>\n",
       "    </tr>\n",
       "    <tr>\n",
       "      <th>25</th>\n",
       "      <td>General Request</td>\n",
       "      <td>Others</td>\n",
       "      <td>Hi Saravanan,  Good Day !  The payment has bee...</td>\n",
       "    </tr>\n",
       "    <tr>\n",
       "      <th>26</th>\n",
       "      <td>Invoice Management</td>\n",
       "      <td>Invoice Payment Status</td>\n",
       "      <td>From AMERICAN EXPRESS INT'L SA   Adobe Acrobat...</td>\n",
       "    </tr>\n",
       "    <tr>\n",
       "      <th>28</th>\n",
       "      <td>Invoice Management</td>\n",
       "      <td>Statement of Account Request</td>\n",
       "      <td>Accounts Payable Reconciliation - 3019892 - So...</td>\n",
       "    </tr>\n",
       "    <tr>\n",
       "      <th>29</th>\n",
       "      <td>Invoice Management</td>\n",
       "      <td>Invoice Payment Status</td>\n",
       "      <td>Hi Team,  ????PO?????????    Best Regards   ??...</td>\n",
       "    </tr>\n",
       "    <tr>\n",
       "      <th>30</th>\n",
       "      <td>General Request</td>\n",
       "      <td>Others</td>\n",
       "      <td>Good morning   Please find attached the approv...</td>\n",
       "    </tr>\n",
       "    <tr>\n",
       "      <th>31</th>\n",
       "      <td>Invoice Management</td>\n",
       "      <td>Invoice Payment Status</td>\n",
       "      <td>Boa tarde!  Podem por favor verificar o pagame...</td>\n",
       "    </tr>\n",
       "    <tr>\n",
       "      <th>32</th>\n",
       "      <td>Invoice Management</td>\n",
       "      <td>Invoice Payment Status</td>\n",
       "      <td>Hello Team,  Could you please verify when this...</td>\n",
       "    </tr>\n",
       "    <tr>\n",
       "      <th>33</th>\n",
       "      <td>Invoice Management</td>\n",
       "      <td>Email Invoice and Refund Submission</td>\n",
       "      <td>Tisztelt Partnerünk!   Köszönjük, hogy nálunk ...</td>\n",
       "    </tr>\n",
       "    <tr>\n",
       "      <th>34</th>\n",
       "      <td>General Request</td>\n",
       "      <td>Others</td>\n",
       "      <td>Ignacio and Jhon for following up   From: COE ...</td>\n",
       "    </tr>\n",
       "    <tr>\n",
       "      <th>37</th>\n",
       "      <td>Purchase Order Update</td>\n",
       "      <td>SAP Flow</td>\n",
       "      <td>[E] Request to change IO in PO 98515061.    Co...</td>\n",
       "    </tr>\n",
       "    <tr>\n",
       "      <th>38</th>\n",
       "      <td>Invoice Management</td>\n",
       "      <td>Invoice Payment Status</td>\n",
       "      <td>Core Services Engineering and Operations      ...</td>\n",
       "    </tr>\n",
       "    <tr>\n",
       "      <th>39</th>\n",
       "      <td>Invoice Management</td>\n",
       "      <td>Invoice Payment Status</td>\n",
       "      <td>Dear Customer,  In order to keep smooth  timel...</td>\n",
       "    </tr>\n",
       "    <tr>\n",
       "      <th>41</th>\n",
       "      <td>Travel and Expenses Management</td>\n",
       "      <td>Expense Report Submission Query</td>\n",
       "      <td>Hi,  I am trying to use  http://msexpense2 to ...</td>\n",
       "    </tr>\n",
       "    <tr>\n",
       "      <th>...</th>\n",
       "      <td>...</td>\n",
       "      <td>...</td>\n",
       "      <td>...</td>\n",
       "    </tr>\n",
       "    <tr>\n",
       "      <th>99945</th>\n",
       "      <td>Invoice Management</td>\n",
       "      <td>Invoice Payment Status</td>\n",
       "      <td>Dear administrator,  This isn’t an invoice, it...</td>\n",
       "    </tr>\n",
       "    <tr>\n",
       "      <th>99947</th>\n",
       "      <td>General Request</td>\n",
       "      <td>Others</td>\n",
       "      <td>Hi Team,  Please post JE 521052_general accrua...</td>\n",
       "    </tr>\n",
       "    <tr>\n",
       "      <th>99948</th>\n",
       "      <td>MyOrder Requisition Request</td>\n",
       "      <td>PO Status Request</td>\n",
       "      <td>Provided the status of the PO.     Team hi,   ...</td>\n",
       "    </tr>\n",
       "    <tr>\n",
       "      <th>99951</th>\n",
       "      <td>Invoice Management</td>\n",
       "      <td>Email Invoice and Refund Submission</td>\n",
       "      <td>Hi All,    For your ANZ Smart Choice Employer ...</td>\n",
       "    </tr>\n",
       "    <tr>\n",
       "      <th>99952</th>\n",
       "      <td>Invoice Management</td>\n",
       "      <td>Invoice Payment Status</td>\n",
       "      <td>Hi Team,  Greetings from MRM End To End!!!  Pl...</td>\n",
       "    </tr>\n",
       "    <tr>\n",
       "      <th>99953</th>\n",
       "      <td>General Request</td>\n",
       "      <td>Others</td>\n",
       "      <td>Hi all   Let me inform you that I have uploade...</td>\n",
       "    </tr>\n",
       "    <tr>\n",
       "      <th>99955</th>\n",
       "      <td>Invoice Management</td>\n",
       "      <td>Invoice Payment Status</td>\n",
       "      <td>Estimado Cliente,  Hemos recibido su correo el...</td>\n",
       "    </tr>\n",
       "    <tr>\n",
       "      <th>99957</th>\n",
       "      <td>Travel and Expenses Management</td>\n",
       "      <td>Audit and Policy Violation Notification</td>\n",
       "      <td>ER-0000012434745-1010-67288</td>\n",
       "    </tr>\n",
       "    <tr>\n",
       "      <th>99958</th>\n",
       "      <td>Disbursement</td>\n",
       "      <td>Payment Action</td>\n",
       "      <td>Dear team,  Today we have an issue with Bank b...</td>\n",
       "    </tr>\n",
       "    <tr>\n",
       "      <th>99960</th>\n",
       "      <td>Invoice Management</td>\n",
       "      <td>Invoice Payment Status</td>\n",
       "      <td>Ref : 910284/707  Veuillez trouver ci-joint un...</td>\n",
       "    </tr>\n",
       "    <tr>\n",
       "      <th>99961</th>\n",
       "      <td>Invoice Management</td>\n",
       "      <td>Invoice Payment Status</td>\n",
       "      <td>For ticket creation.    From: Kelvin Goh   Sen...</td>\n",
       "    </tr>\n",
       "    <tr>\n",
       "      <th>99962</th>\n",
       "      <td>Invoice Management</td>\n",
       "      <td>Invoice Payment Status</td>\n",
       "      <td>HI Team,  Could you please let me know why the...</td>\n",
       "    </tr>\n",
       "    <tr>\n",
       "      <th>99963</th>\n",
       "      <td>Invoice Management</td>\n",
       "      <td>Invoice Payment Status</td>\n",
       "      <td>Buenos días    Agradezco si brindan fecha de p...</td>\n",
       "    </tr>\n",
       "    <tr>\n",
       "      <th>99965</th>\n",
       "      <td>Payee Account Management</td>\n",
       "      <td>Employee Account Maintenance and Status Query</td>\n",
       "      <td>Hello,   I am requesting a SAP account for Exp...</td>\n",
       "    </tr>\n",
       "    <tr>\n",
       "      <th>99966</th>\n",
       "      <td>Invoice Management</td>\n",
       "      <td>Invoice Change Request</td>\n",
       "      <td>Sent to AP  E - Invoice approver updated / sen...</td>\n",
       "    </tr>\n",
       "    <tr>\n",
       "      <th>99969</th>\n",
       "      <td>Invoice Management</td>\n",
       "      <td>Invoice Change Request</td>\n",
       "      <td>Dear Vendor,   Having received the invoice(s) ...</td>\n",
       "    </tr>\n",
       "    <tr>\n",
       "      <th>99974</th>\n",
       "      <td>Invoice Management</td>\n",
       "      <td>Approver Activities Change Approver</td>\n",
       "      <td>Hello P2P  Your help is needed v-jelebr is not...</td>\n",
       "    </tr>\n",
       "    <tr>\n",
       "      <th>99975</th>\n",
       "      <td>Travel and Expenses Management</td>\n",
       "      <td>Expense Report Submission Query</td>\n",
       "      <td>Hi Ap team,   Can you inform the status for th...</td>\n",
       "    </tr>\n",
       "    <tr>\n",
       "      <th>99977</th>\n",
       "      <td>Payee Account Management</td>\n",
       "      <td>Employee Account Maintenance and Status Query</td>\n",
       "      <td>&lt;P2 ? ???????&gt;</td>\n",
       "    </tr>\n",
       "    <tr>\n",
       "      <th>99978</th>\n",
       "      <td>Purchase Order Update</td>\n",
       "      <td>Other Actions SAP</td>\n",
       "      <td>[LL]request to change Line item description done</td>\n",
       "    </tr>\n",
       "    <tr>\n",
       "      <th>99979</th>\n",
       "      <td>Payee Account Management</td>\n",
       "      <td>Employee Account Maintenance and Status Query</td>\n",
       "      <td>Thanks for reminder,  I submit a new request, ...</td>\n",
       "    </tr>\n",
       "    <tr>\n",
       "      <th>99981</th>\n",
       "      <td>Travel and Expenses Management</td>\n",
       "      <td>Travel and Expenses Status</td>\n",
       "      <td>Description</td>\n",
       "    </tr>\n",
       "    <tr>\n",
       "      <th>99982</th>\n",
       "      <td>Invoice Management</td>\n",
       "      <td>Invoice Payment Status</td>\n",
       "      <td>--REPLY above this line to respond--   Good af...</td>\n",
       "    </tr>\n",
       "    <tr>\n",
       "      <th>99986</th>\n",
       "      <td>General Request</td>\n",
       "      <td>Others</td>\n",
       "      <td>Hi Team  Please post attached JE and confirm S...</td>\n",
       "    </tr>\n",
       "    <tr>\n",
       "      <th>99987</th>\n",
       "      <td>Invoice Management</td>\n",
       "      <td>User Education on Tool and Process</td>\n",
       "      <td>The enclosed PDF file contains the current mon...</td>\n",
       "    </tr>\n",
       "    <tr>\n",
       "      <th>99989</th>\n",
       "      <td>Invoice Management</td>\n",
       "      <td>Invoice Payment Status</td>\n",
       "      <td>Geachte,  In bijlage vindt u onze ingebrekeste...</td>\n",
       "    </tr>\n",
       "    <tr>\n",
       "      <th>99990</th>\n",
       "      <td>Invoice Management</td>\n",
       "      <td>Email Invoice and Refund Submission</td>\n",
       "      <td>Icon Conference  Event Management             ...</td>\n",
       "    </tr>\n",
       "    <tr>\n",
       "      <th>99994</th>\n",
       "      <td>General Request</td>\n",
       "      <td>Others</td>\n",
       "      <td>Hi Giuseppe, How is the situation with this am...</td>\n",
       "    </tr>\n",
       "    <tr>\n",
       "      <th>99996</th>\n",
       "      <td>MyOrder Requisition Request</td>\n",
       "      <td>PO Status Request</td>\n",
       "      <td>PO processed.   Educated.   Asked for confirma...</td>\n",
       "    </tr>\n",
       "    <tr>\n",
       "      <th>99999</th>\n",
       "      <td>Travel and Expenses Management</td>\n",
       "      <td>Expense Report Submission Query</td>\n",
       "      <td>Hello Chris,     Thank you for your email. We ...</td>\n",
       "    </tr>\n",
       "  </tbody>\n",
       "</table>\n",
       "<p>73346 rows × 3 columns</p>\n",
       "</div>"
      ],
      "text/plain": [
       "                         PrimaryTopic  \\\n",
       "2                AP Reporting Request   \n",
       "6            Payee Account Management   \n",
       "7                  Invoice Management   \n",
       "8                  Invoice Management   \n",
       "9                  Invoice Management   \n",
       "11                       Disbursement   \n",
       "12           Payee Account Management   \n",
       "14        MyOrder Requisition Request   \n",
       "15                 Invoice Management   \n",
       "16                 Invoice Management   \n",
       "17     Travel and Expenses Management   \n",
       "18                       Disbursement   \n",
       "19                 Invoice Management   \n",
       "20                 Invoice Management   \n",
       "22                 Invoice Management   \n",
       "23              Purchase Order Update   \n",
       "24     Travel and Expenses Management   \n",
       "25                    General Request   \n",
       "26                 Invoice Management   \n",
       "28                 Invoice Management   \n",
       "29                 Invoice Management   \n",
       "30                    General Request   \n",
       "31                 Invoice Management   \n",
       "32                 Invoice Management   \n",
       "33                 Invoice Management   \n",
       "34                    General Request   \n",
       "37              Purchase Order Update   \n",
       "38                 Invoice Management   \n",
       "39                 Invoice Management   \n",
       "41     Travel and Expenses Management   \n",
       "...                               ...   \n",
       "99945              Invoice Management   \n",
       "99947                 General Request   \n",
       "99948     MyOrder Requisition Request   \n",
       "99951              Invoice Management   \n",
       "99952              Invoice Management   \n",
       "99953                 General Request   \n",
       "99955              Invoice Management   \n",
       "99957  Travel and Expenses Management   \n",
       "99958                    Disbursement   \n",
       "99960              Invoice Management   \n",
       "99961              Invoice Management   \n",
       "99962              Invoice Management   \n",
       "99963              Invoice Management   \n",
       "99965        Payee Account Management   \n",
       "99966              Invoice Management   \n",
       "99969              Invoice Management   \n",
       "99974              Invoice Management   \n",
       "99975  Travel and Expenses Management   \n",
       "99977        Payee Account Management   \n",
       "99978           Purchase Order Update   \n",
       "99979        Payee Account Management   \n",
       "99981  Travel and Expenses Management   \n",
       "99982              Invoice Management   \n",
       "99986                 General Request   \n",
       "99987              Invoice Management   \n",
       "99989              Invoice Management   \n",
       "99990              Invoice Management   \n",
       "99994                 General Request   \n",
       "99996     MyOrder Requisition Request   \n",
       "99999  Travel and Expenses Management   \n",
       "\n",
       "                                      secondarytopic  \\\n",
       "2                                  Reporting Request   \n",
       "6      Employee Account Maintenance and Status Query   \n",
       "7                             Invoice Payment Status   \n",
       "8                             Invoice Payment Status   \n",
       "9                       Statement of Account Request   \n",
       "11                                    Payment Action   \n",
       "12     Employee Account Maintenance and Status Query   \n",
       "14                                 PO Status Request   \n",
       "15                            Invoice Payment Status   \n",
       "16                      Statement of Account Request   \n",
       "17                        Travel and Expenses Status   \n",
       "18                                    Payment Action   \n",
       "19                            Invoice Payment Status   \n",
       "20                            Invoice Payment Status   \n",
       "22                            Invoice Payment Status   \n",
       "23                                          SAP Flow   \n",
       "24           Audit and Policy Violation Notification   \n",
       "25                                            Others   \n",
       "26                            Invoice Payment Status   \n",
       "28                      Statement of Account Request   \n",
       "29                            Invoice Payment Status   \n",
       "30                                            Others   \n",
       "31                            Invoice Payment Status   \n",
       "32                            Invoice Payment Status   \n",
       "33               Email Invoice and Refund Submission   \n",
       "34                                            Others   \n",
       "37                                          SAP Flow   \n",
       "38                            Invoice Payment Status   \n",
       "39                            Invoice Payment Status   \n",
       "41                   Expense Report Submission Query   \n",
       "...                                              ...   \n",
       "99945                         Invoice Payment Status   \n",
       "99947                                         Others   \n",
       "99948                              PO Status Request   \n",
       "99951            Email Invoice and Refund Submission   \n",
       "99952                         Invoice Payment Status   \n",
       "99953                                         Others   \n",
       "99955                         Invoice Payment Status   \n",
       "99957        Audit and Policy Violation Notification   \n",
       "99958                                 Payment Action   \n",
       "99960                         Invoice Payment Status   \n",
       "99961                         Invoice Payment Status   \n",
       "99962                         Invoice Payment Status   \n",
       "99963                         Invoice Payment Status   \n",
       "99965  Employee Account Maintenance and Status Query   \n",
       "99966                         Invoice Change Request   \n",
       "99969                         Invoice Change Request   \n",
       "99974            Approver Activities Change Approver   \n",
       "99975                Expense Report Submission Query   \n",
       "99977  Employee Account Maintenance and Status Query   \n",
       "99978                              Other Actions SAP   \n",
       "99979  Employee Account Maintenance and Status Query   \n",
       "99981                     Travel and Expenses Status   \n",
       "99982                         Invoice Payment Status   \n",
       "99986                                         Others   \n",
       "99987             User Education on Tool and Process   \n",
       "99989                         Invoice Payment Status   \n",
       "99990            Email Invoice and Refund Submission   \n",
       "99994                                         Others   \n",
       "99996                              PO Status Request   \n",
       "99999                Expense Report Submission Query   \n",
       "\n",
       "                                             Description  \n",
       "2      PO re-opened Hi Team,  Kindly note that PO 009...  \n",
       "6      Hello Prohelp,  Please send the DOCUSIGN link ...  \n",
       "7      Hola,    Se puede usar la tarjeta de MS para p...  \n",
       "8      Talebiniz  bize ulasti      Degerli Müsterimiz...  \n",
       "9                                     QVR 1086 - Austria  \n",
       "11     Hi Team,  Please note thatBangladesh bank file...  \n",
       "12     Hello AP Team, Based on the below supplier unb...  \n",
       "14                                 Asked for an approval  \n",
       "15     Hi Team,  Good day!  We have resubmitted the b...  \n",
       "16     Accounts Payable Reconciliation - 2297780 - Pr...  \n",
       "17     Ask HR sent you a copy.         REVIEW DOCUMEN...  \n",
       "18     Hi Team,  Please clear the below open items in...  \n",
       "19     Hi    I’m trying to approve an invoice but the...  \n",
       "20     Dear Sirs,  we received your payment Microsoft...  \n",
       "22     From AMERICAN EXPRESS INT'L SA   Adobe Acrobat...  \n",
       "23     Hello AP  A request was put in to change the p...  \n",
       "24        1010-78159-ER-0000014385128-TKT-3600866-B7G8L4  \n",
       "25     Hi Saravanan,  Good Day !  The payment has bee...  \n",
       "26     From AMERICAN EXPRESS INT'L SA   Adobe Acrobat...  \n",
       "28     Accounts Payable Reconciliation - 3019892 - So...  \n",
       "29     Hi Team,  ????PO?????????    Best Regards   ??...  \n",
       "30     Good morning   Please find attached the approv...  \n",
       "31     Boa tarde!  Podem por favor verificar o pagame...  \n",
       "32     Hello Team,  Could you please verify when this...  \n",
       "33     Tisztelt Partnerünk!   Köszönjük, hogy nálunk ...  \n",
       "34     Ignacio and Jhon for following up   From: COE ...  \n",
       "37     [E] Request to change IO in PO 98515061.    Co...  \n",
       "38     Core Services Engineering and Operations      ...  \n",
       "39     Dear Customer,  In order to keep smooth  timel...  \n",
       "41     Hi,  I am trying to use  http://msexpense2 to ...  \n",
       "...                                                  ...  \n",
       "99945  Dear administrator,  This isn’t an invoice, it...  \n",
       "99947  Hi Team,  Please post JE 521052_general accrua...  \n",
       "99948  Provided the status of the PO.     Team hi,   ...  \n",
       "99951  Hi All,    For your ANZ Smart Choice Employer ...  \n",
       "99952  Hi Team,  Greetings from MRM End To End!!!  Pl...  \n",
       "99953  Hi all   Let me inform you that I have uploade...  \n",
       "99955  Estimado Cliente,  Hemos recibido su correo el...  \n",
       "99957                        ER-0000012434745-1010-67288  \n",
       "99958  Dear team,  Today we have an issue with Bank b...  \n",
       "99960  Ref : 910284/707  Veuillez trouver ci-joint un...  \n",
       "99961  For ticket creation.    From: Kelvin Goh   Sen...  \n",
       "99962  HI Team,  Could you please let me know why the...  \n",
       "99963  Buenos días    Agradezco si brindan fecha de p...  \n",
       "99965  Hello,   I am requesting a SAP account for Exp...  \n",
       "99966  Sent to AP  E - Invoice approver updated / sen...  \n",
       "99969  Dear Vendor,   Having received the invoice(s) ...  \n",
       "99974  Hello P2P  Your help is needed v-jelebr is not...  \n",
       "99975  Hi Ap team,   Can you inform the status for th...  \n",
       "99977                                     <P2 ? ???????>  \n",
       "99978   [LL]request to change Line item description done  \n",
       "99979  Thanks for reminder,  I submit a new request, ...  \n",
       "99981                                        Description  \n",
       "99982  --REPLY above this line to respond--   Good af...  \n",
       "99986  Hi Team  Please post attached JE and confirm S...  \n",
       "99987  The enclosed PDF file contains the current mon...  \n",
       "99989  Geachte,  In bijlage vindt u onze ingebrekeste...  \n",
       "99990  Icon Conference  Event Management             ...  \n",
       "99994  Hi Giuseppe, How is the situation with this am...  \n",
       "99996  PO processed.   Educated.   Asked for confirma...  \n",
       "99999  Hello Chris,     Thank you for your email. We ...  \n",
       "\n",
       "[73346 rows x 3 columns]"
      ]
     },
     "execution_count": 103,
     "metadata": {},
     "output_type": "execute_result"
    }
   ],
   "source": [
    "df"
   ]
  },
  {
   "cell_type": "markdown",
   "metadata": {},
   "source": [
    "# Factorising the Primary Topic to ID"
   ]
  },
  {
   "cell_type": "code",
   "execution_count": 104,
   "metadata": {},
   "outputs": [
    {
     "data": {
      "text/html": [
       "<div>\n",
       "<style scoped>\n",
       "    .dataframe tbody tr th:only-of-type {\n",
       "        vertical-align: middle;\n",
       "    }\n",
       "\n",
       "    .dataframe tbody tr th {\n",
       "        vertical-align: top;\n",
       "    }\n",
       "\n",
       "    .dataframe thead th {\n",
       "        text-align: right;\n",
       "    }\n",
       "</style>\n",
       "<table border=\"1\" class=\"dataframe\">\n",
       "  <thead>\n",
       "    <tr style=\"text-align: right;\">\n",
       "      <th></th>\n",
       "      <th>PrimaryTopic</th>\n",
       "      <th>secondarytopic</th>\n",
       "      <th>Description</th>\n",
       "      <th>id</th>\n",
       "    </tr>\n",
       "  </thead>\n",
       "  <tbody>\n",
       "    <tr>\n",
       "      <th>2</th>\n",
       "      <td>AP Reporting Request</td>\n",
       "      <td>Reporting Request</td>\n",
       "      <td>PO re-opened Hi Team,  Kindly note that PO 009...</td>\n",
       "      <td>0</td>\n",
       "    </tr>\n",
       "    <tr>\n",
       "      <th>6</th>\n",
       "      <td>Payee Account Management</td>\n",
       "      <td>Employee Account Maintenance and Status Query</td>\n",
       "      <td>Hello Prohelp,  Please send the DOCUSIGN link ...</td>\n",
       "      <td>1</td>\n",
       "    </tr>\n",
       "    <tr>\n",
       "      <th>7</th>\n",
       "      <td>Invoice Management</td>\n",
       "      <td>Invoice Payment Status</td>\n",
       "      <td>Hola,    Se puede usar la tarjeta de MS para p...</td>\n",
       "      <td>2</td>\n",
       "    </tr>\n",
       "    <tr>\n",
       "      <th>8</th>\n",
       "      <td>Invoice Management</td>\n",
       "      <td>Invoice Payment Status</td>\n",
       "      <td>Talebiniz  bize ulasti      Degerli Müsterimiz...</td>\n",
       "      <td>2</td>\n",
       "    </tr>\n",
       "    <tr>\n",
       "      <th>9</th>\n",
       "      <td>Invoice Management</td>\n",
       "      <td>Statement of Account Request</td>\n",
       "      <td>QVR 1086 - Austria</td>\n",
       "      <td>3</td>\n",
       "    </tr>\n",
       "  </tbody>\n",
       "</table>\n",
       "</div>"
      ],
      "text/plain": [
       "               PrimaryTopic                                 secondarytopic  \\\n",
       "2      AP Reporting Request                              Reporting Request   \n",
       "6  Payee Account Management  Employee Account Maintenance and Status Query   \n",
       "7        Invoice Management                         Invoice Payment Status   \n",
       "8        Invoice Management                         Invoice Payment Status   \n",
       "9        Invoice Management                   Statement of Account Request   \n",
       "\n",
       "                                         Description  id  \n",
       "2  PO re-opened Hi Team,  Kindly note that PO 009...   0  \n",
       "6  Hello Prohelp,  Please send the DOCUSIGN link ...   1  \n",
       "7  Hola,    Se puede usar la tarjeta de MS para p...   2  \n",
       "8  Talebiniz  bize ulasti      Degerli Müsterimiz...   2  \n",
       "9                                 QVR 1086 - Austria   3  "
      ]
     },
     "execution_count": 104,
     "metadata": {},
     "output_type": "execute_result"
    }
   ],
   "source": [
    "df['id'] = df['secondarytopic'].factorize()[0]\n",
    "category_id_df = df[['secondarytopic', 'id']].drop_duplicates().sort_values('id')\n",
    "category_to_id = dict(category_id_df.values)\n",
    "id_to_category = dict(category_id_df[['id', 'secondarytopic']].values)\n",
    "df.head()"
   ]
  },
  {
   "cell_type": "code",
   "execution_count": 106,
   "metadata": {},
   "outputs": [
    {
     "data": {
      "text/plain": [
       "{0: 'Reporting Request',\n",
       " 1: 'Employee Account Maintenance and Status Query',\n",
       " 2: 'Invoice Payment Status',\n",
       " 3: 'Statement of Account Request',\n",
       " 4: 'Payment Action',\n",
       " 5: 'PO Status Request',\n",
       " 6: 'Travel and Expenses Status',\n",
       " 7: 'SAP Flow',\n",
       " 8: 'Audit and Policy Violation Notification',\n",
       " 9: 'Others',\n",
       " 10: 'Email Invoice and Refund Submission',\n",
       " 11: 'Expense Report Submission Query',\n",
       " 12: 'Approver Activities Change Approver',\n",
       " 13: 'Invoice Change Request',\n",
       " 14: 'User Education on Tool and Process',\n",
       " 15: 'MPC - Payee Account Maintenance',\n",
       " 16: 'Other Actions SAP',\n",
       " 17: 'Education on Vendor, Categories and Process',\n",
       " 18: 'Bank'}"
      ]
     },
     "execution_count": 106,
     "metadata": {},
     "output_type": "execute_result"
    }
   ],
   "source": [
    "id_to_category"
   ]
  },
  {
   "cell_type": "markdown",
   "metadata": {},
   "source": [
    "# Imbalanced Classes\n",
    "We see that the number of complaints per product is imbalanced. Consumers’ complaints are more biased towards \n",
    "Invoice Management, Payee Account Management and Travel and Expenses Management.\n",
    "\n",
    "\n",
    "However, in our case of learning imbalanced data, the majority classes might be of our great interest. It is desirable to have a classifier that gives high prediction accuracy over the majority class, while maintaining reasonable accuracy\n",
    "for the minority classes. Therefore, we will leave it as it is."
   ]
  },
  {
   "cell_type": "code",
   "execution_count": 107,
   "metadata": {},
   "outputs": [
    {
     "data": {
      "image/png": "[encoded data removed]",
      "text/plain": [
       "<Figure size 1440x1440 with 1 Axes>"
      ]
     },
     "metadata": {
      "needs_background": "light"
     },
     "output_type": "display_data"
    }
   ],
   "source": [
    "import matplotlib.pyplot as plt\n",
    "fig = plt.figure(figsize=(20,20))\n",
    "df.groupby('secondarytopic').Description.count().plot.bar(ylim=0)\n",
    "plt.show()"
   ]
  },
  {
   "cell_type": "code",
   "execution_count": 108,
   "metadata": {},
   "outputs": [
    {
     "name": "stderr",
     "output_type": "stream",
     "text": [
      "[nltk_data] Downloading package stopwords to\n",
      "[nltk_data]     C:\\Users\\v-savrav\\AppData\\Roaming\\nltk_data...\n",
      "[nltk_data]   Package stopwords is already up-to-date!\n",
      "[nltk_data] Downloading package punkt to\n",
      "[nltk_data]     C:\\Users\\v-savrav\\AppData\\Roaming\\nltk_data...\n",
      "[nltk_data]   Package punkt is already up-to-date!\n",
      "[nltk_data] Downloading package wordnet to\n",
      "[nltk_data]     C:\\Users\\v-savrav\\AppData\\Roaming\\nltk_data...\n",
      "[nltk_data]   Package wordnet is already up-to-date!\n"
     ]
    }
   ],
   "source": [
    "import nltk\n",
    "nltk.download('stopwords')\n",
    "nltk.download('punkt')\n",
    "nltk.download('wordnet')\n",
    "from nltk.corpus import stopwords \n",
    "from nltk.stem import SnowballStemmer\n",
    "from nltk.stem import WordNetLemmatizer \n",
    "\n",
    "# Init the Wordnet Lemmatizer\n",
    "wordnet_lemmatizer = WordNetLemmatizer()\n",
    "#is based on The Porter Stemming Algorithm\n",
    "stopwords = stopwords.words(\"english\")\n",
    "snowball_stemmer = SnowballStemmer(\"english\")"
   ]
  },
  {
   "cell_type": "code",
   "execution_count": 109,
   "metadata": {},
   "outputs": [],
   "source": [
    "df=df.dropna()\n",
    "df['Description']=df['Description'].astype(str)\n",
    "df=df.reset_index()\n",
    "# tokenization \n",
    "tokenized_doc = df['Description'].apply(lambda x: x.split())\n",
    "\n",
    "# remove stop-words \n",
    "\n",
    "tokenized_doc = tokenized_doc.apply(lambda x: [wordnet_lemmatizer.lemmatize(item) for item in x if item not in stopwords])\n",
    "#tokenized_doc = tokenized_doc.apply(lambda x: [snowball_stemmer.stem(item) for item in x ])\n",
    "# de-tokenization \n",
    "detokenized_doc = [] \n",
    "for i in range(len(df)): \n",
    "    t = ' '.join(tokenized_doc[i]) \n",
    "    detokenized_doc.append(t) \n",
    "\n",
    "df['Description'] = detokenized_doc"
   ]
  },
  {
   "cell_type": "code",
   "execution_count": 110,
   "metadata": {},
   "outputs": [],
   "source": [
    "import string\n",
    "\n",
    "def remove_punctuation(s):\n",
    "    s = ''.join([i for i in s if i not in frozenset(string.punctuation)])\n",
    "    return s\n",
    "\n",
    "df['Description'] = df['Description'].apply(remove_punctuation)"
   ]
  },
  {
   "cell_type": "markdown",
   "metadata": {},
   "source": [
    "# Text Representation"
   ]
  },
  {
   "cell_type": "code",
   "execution_count": 111,
   "metadata": {},
   "outputs": [],
   "source": [
    "from sklearn.feature_extraction.text import HashingVectorizer\n",
    "vector = HashingVectorizer(decode_error = 'ignore',\n",
    "                          n_features = 2**21,\n",
    "                          preprocessor = None,\n",
    "                           encoding='utf-8',lowercase=True, ngram_range=(1,1))"
   ]
  },
  {
   "cell_type": "code",
   "execution_count": 112,
   "metadata": {},
   "outputs": [
    {
     "name": "stdout",
     "output_type": "stream",
     "text": [
      "(73346, 2097152)\n"
     ]
    }
   ],
   "source": [
    "X = vector.fit_transform(df['Description'])\n",
    "print(X.shape)\n",
    "labels = df.id"
   ]
  },
  {
   "cell_type": "code",
   "execution_count": 174,
   "metadata": {},
   "outputs": [],
   "source": [
    "df=df[['id','Description']]"
   ]
  },
  {
   "cell_type": "code",
   "execution_count": 175,
   "metadata": {},
   "outputs": [],
   "source": [
    "X=df['Description']\n",
    "y=df['id']"
   ]
  },
  {
   "cell_type": "code",
   "execution_count": 176,
   "metadata": {},
   "outputs": [],
   "source": [
    "from sklearn.model_selection import train_test_split\n",
    "from sklearn.feature_extraction.text import CountVectorizer\n",
    "from sklearn.feature_extraction.text import TfidfTransformer\n",
    "from sklearn.naive_bayes import MultinomialNB\n",
    "from sklearn.linear_model import SGDClassifier\n",
    "\n",
    "X_train, X_test, y_train, y_test, indices_train, indices_test = train_test_split(X, y, df.index, test_size=0.30, random_state=0)\n"
   ]
  },
  {
   "cell_type": "code",
   "execution_count": 177,
   "metadata": {},
   "outputs": [],
   "source": [
    "def tweetGenerator(df):\n",
    "    \"\"\"\n",
    "    This function takes a tweet from the data frame\n",
    "    and returns the text of the tweet as well as the sentiment label\n",
    "    \"\"\"\n",
    "    for row in df.itertuples():\n",
    "        label = row[1]\n",
    "        tweet = row[2]\n",
    "        yield tweet, label"
   ]
  },
  {
   "cell_type": "code",
   "execution_count": 178,
   "metadata": {},
   "outputs": [],
   "source": [
    "tweet_gen = tweetGenerator(df)"
   ]
  },
  {
   "cell_type": "code",
   "execution_count": 179,
   "metadata": {},
   "outputs": [
    {
     "data": {
      "text/plain": [
       "<generator object tweetGenerator at 0x000001C8BF4369A8>"
      ]
     },
     "execution_count": 179,
     "metadata": {},
     "output_type": "execute_result"
    }
   ],
   "source": [
    "tweet_gen"
   ]
  },
  {
   "cell_type": "code",
   "execution_count": 180,
   "metadata": {},
   "outputs": [],
   "source": [
    "def getBatch(tweet_gen, size):\n",
    "    \"\"\"\n",
    "    This function takes as arguments\n",
    "    the tweet generator tweet_gen and the batch size\n",
    "    desired. It returns two lists for the tweets and labels\n",
    "    whose length is the batch size\n",
    "    \"\"\"\n",
    "    tweets, labels = [], []\n",
    "    for _ in range(size):\n",
    "        tweet, label = next(tweet_gen)\n",
    "        tweets.append(tweet)\n",
    "        labels.append(label)\n",
    "    return tweets, labels"
   ]
  },
  {
   "cell_type": "code",
   "execution_count": null,
   "metadata": {},
   "outputs": [],
   "source": []
  },
  {
   "cell_type": "code",
   "execution_count": 153,
   "metadata": {},
   "outputs": [],
   "source": [
    "clf = SGDClassifier(loss='log')"
   ]
  },
  {
   "cell_type": "code",
   "execution_count": 57,
   "metadata": {},
   "outputs": [],
   "source": [
    "from sklearn.linear_model import SGDClassifier\n",
    "SGDclassifier = SGDClassifier(loss='log', random_state=1)\n",
    "tweet_gen = tweetGenerator(df)"
   ]
  },
  {
   "cell_type": "code",
   "execution_count": 39,
   "metadata": {},
   "outputs": [],
   "source": [
    "from sklearn.naive_bayes import BernoulliNB\n",
    "BernoulliNBclassifier = BernoulliNB(alpha = 0.01)\n",
    "tweet_gen = tweetGenerator(df)"
   ]
  },
  {
   "cell_type": "code",
   "execution_count": null,
   "metadata": {},
   "outputs": [],
   "source": [
    "from sklearn.naive_bayes import MultinomialNB\n",
    "MNBclassifier = MultinomialNB()\n",
    "tweet_gen = tweetGenerator(df)"
   ]
  },
  {
   "cell_type": "code",
   "execution_count": null,
   "metadata": {},
   "outputs": [],
   "source": [
    "from sklearn.linear_model import PassiveAggressiveClassifier\n",
    "PassiveAggressive = PassiveAggressiveClassifier(C=1.0, fit_intercept=True, shuffle=True)\n",
    "tweet_gen = tweetGenerator(df)\n"
   ]
  },
  {
   "cell_type": "code",
   "execution_count": 183,
   "metadata": {
    "scrolled": true
   },
   "outputs": [],
   "source": [
    "import pyprind\n",
    "batchSize = 5000\n",
    "totalTweets = len(df)\n",
    "#totalTweets = 15000\n",
    "iterations = int(totalTweets/batchSize)\n",
    "progressBar = pyprind.ProgBar(iterations)\n",
    "\n",
    "classes = np.unique(y)\n"
   ]
  },
  {
   "cell_type": "code",
   "execution_count": 184,
   "metadata": {},
   "outputs": [
    {
     "data": {
      "text/plain": [
       "19"
      ]
     },
     "execution_count": 184,
     "metadata": {},
     "output_type": "execute_result"
    }
   ],
   "source": [
    "len(df['id'].value_counts())"
   ]
  },
  {
   "cell_type": "code",
   "execution_count": 186,
   "metadata": {},
   "outputs": [
    {
     "name": "stderr",
     "output_type": "stream",
     "text": [
      "0% [##############] 100% | ETA: 00:00:00\n",
      "Total time elapsed: 00:00:14\n"
     ]
    }
   ],
   "source": [
    "for i in range(iterations):\n",
    "    X_train, y_train = getBatch(tweet_gen, size=batchSize)\n",
    "    X_train = vector.transform(X_train)\n",
    "    #MNBclassifier.partial_fit(X_train, y_train, classes=classes)\n",
    "    #BernoulliNBclassifier.partial_fit(X_train, y_train, classes=classes)\n",
    "    #SGDclassifier.partial_fit(X_train, y_train, classes=classes)\n",
    "    clf.partial_fit(X_train, y_train, classes=classes)\n",
    "    #PassiveAggressive.partial_fit(X_train, y_train, classes=classes)\n",
    "    progressBar.update()"
   ]
  },
  {
   "cell_type": "code",
   "execution_count": 187,
   "metadata": {},
   "outputs": [],
   "source": [
    "#tweet_gen_test = tweetGenerator(df_test)\n",
    "#X_test, y_test = getBatchTest(tweet_gen_test, size=df_test.shape[0])\n",
    "X_test = vector.transform(X_test)"
   ]
  },
  {
   "cell_type": "code",
   "execution_count": 188,
   "metadata": {},
   "outputs": [
    {
     "data": {
      "text/plain": [
       "(5000, 2097152)"
      ]
     },
     "execution_count": 188,
     "metadata": {},
     "output_type": "execute_result"
    }
   ],
   "source": [
    "X_train.shape"
   ]
  },
  {
   "cell_type": "code",
   "execution_count": 189,
   "metadata": {},
   "outputs": [
    {
     "data": {
      "text/plain": [
       "(22004, 2097152)"
      ]
     },
     "execution_count": 189,
     "metadata": {},
     "output_type": "execute_result"
    }
   ],
   "source": [
    "X_test.shape"
   ]
  },
  {
   "cell_type": "code",
   "execution_count": 190,
   "metadata": {},
   "outputs": [
    {
     "ename": "NotFittedError",
     "evalue": "This SGDClassifier instance is not fitted yet",
     "output_type": "error",
     "traceback": [
      "\u001b[1;31m---------------------------------------------------------------------------\u001b[0m",
      "\u001b[1;31mNotFittedError\u001b[0m                            Traceback (most recent call last)",
      "\u001b[1;32m<ipython-input-190-150c2bbfa78c>\u001b[0m in \u001b[0;36m<module>\u001b[1;34m\u001b[0m\n\u001b[1;32m----> 1\u001b[1;33m \u001b[0mprint\u001b[0m\u001b[1;33m(\u001b[0m\u001b[1;34m'Accuracy: %.3f'\u001b[0m \u001b[1;33m%\u001b[0m  \u001b[0mSGDclassifier\u001b[0m\u001b[1;33m.\u001b[0m\u001b[0mscore\u001b[0m\u001b[1;33m(\u001b[0m\u001b[0mX_test\u001b[0m\u001b[1;33m,\u001b[0m \u001b[0my_test\u001b[0m\u001b[1;33m)\u001b[0m\u001b[1;33m)\u001b[0m\u001b[1;33m\u001b[0m\u001b[1;33m\u001b[0m\u001b[0m\n\u001b[0m",
      "\u001b[1;32m~\\AppData\\Local\\Continuum\\anaconda3\\lib\\site-packages\\sklearn\\base.py\u001b[0m in \u001b[0;36mscore\u001b[1;34m(self, X, y, sample_weight)\u001b[0m\n\u001b[0;32m    355\u001b[0m         \"\"\"\n\u001b[0;32m    356\u001b[0m         \u001b[1;32mfrom\u001b[0m \u001b[1;33m.\u001b[0m\u001b[0mmetrics\u001b[0m \u001b[1;32mimport\u001b[0m \u001b[0maccuracy_score\u001b[0m\u001b[1;33m\u001b[0m\u001b[1;33m\u001b[0m\u001b[0m\n\u001b[1;32m--> 357\u001b[1;33m         \u001b[1;32mreturn\u001b[0m \u001b[0maccuracy_score\u001b[0m\u001b[1;33m(\u001b[0m\u001b[0my\u001b[0m\u001b[1;33m,\u001b[0m \u001b[0mself\u001b[0m\u001b[1;33m.\u001b[0m\u001b[0mpredict\u001b[0m\u001b[1;33m(\u001b[0m\u001b[0mX\u001b[0m\u001b[1;33m)\u001b[0m\u001b[1;33m,\u001b[0m \u001b[0msample_weight\u001b[0m\u001b[1;33m=\u001b[0m\u001b[0msample_weight\u001b[0m\u001b[1;33m)\u001b[0m\u001b[1;33m\u001b[0m\u001b[1;33m\u001b[0m\u001b[0m\n\u001b[0m\u001b[0;32m    358\u001b[0m \u001b[1;33m\u001b[0m\u001b[0m\n\u001b[0;32m    359\u001b[0m \u001b[1;33m\u001b[0m\u001b[0m\n",
      "\u001b[1;32m~\\AppData\\Local\\Continuum\\anaconda3\\lib\\site-packages\\sklearn\\linear_model\\base.py\u001b[0m in \u001b[0;36mpredict\u001b[1;34m(self, X)\u001b[0m\n\u001b[0;32m    287\u001b[0m             \u001b[0mPredicted\u001b[0m \u001b[1;32mclass\u001b[0m \u001b[0mlabel\u001b[0m \u001b[0mper\u001b[0m \u001b[0msample\u001b[0m\u001b[1;33m.\u001b[0m\u001b[1;33m\u001b[0m\u001b[1;33m\u001b[0m\u001b[0m\n\u001b[0;32m    288\u001b[0m         \"\"\"\n\u001b[1;32m--> 289\u001b[1;33m         \u001b[0mscores\u001b[0m \u001b[1;33m=\u001b[0m \u001b[0mself\u001b[0m\u001b[1;33m.\u001b[0m\u001b[0mdecision_function\u001b[0m\u001b[1;33m(\u001b[0m\u001b[0mX\u001b[0m\u001b[1;33m)\u001b[0m\u001b[1;33m\u001b[0m\u001b[1;33m\u001b[0m\u001b[0m\n\u001b[0m\u001b[0;32m    290\u001b[0m         \u001b[1;32mif\u001b[0m \u001b[0mlen\u001b[0m\u001b[1;33m(\u001b[0m\u001b[0mscores\u001b[0m\u001b[1;33m.\u001b[0m\u001b[0mshape\u001b[0m\u001b[1;33m)\u001b[0m \u001b[1;33m==\u001b[0m \u001b[1;36m1\u001b[0m\u001b[1;33m:\u001b[0m\u001b[1;33m\u001b[0m\u001b[1;33m\u001b[0m\u001b[0m\n\u001b[0;32m    291\u001b[0m             \u001b[0mindices\u001b[0m \u001b[1;33m=\u001b[0m \u001b[1;33m(\u001b[0m\u001b[0mscores\u001b[0m \u001b[1;33m>\u001b[0m \u001b[1;36m0\u001b[0m\u001b[1;33m)\u001b[0m\u001b[1;33m.\u001b[0m\u001b[0mastype\u001b[0m\u001b[1;33m(\u001b[0m\u001b[0mnp\u001b[0m\u001b[1;33m.\u001b[0m\u001b[0mint\u001b[0m\u001b[1;33m)\u001b[0m\u001b[1;33m\u001b[0m\u001b[1;33m\u001b[0m\u001b[0m\n",
      "\u001b[1;32m~\\AppData\\Local\\Continuum\\anaconda3\\lib\\site-packages\\sklearn\\linear_model\\base.py\u001b[0m in \u001b[0;36mdecision_function\u001b[1;34m(self, X)\u001b[0m\n\u001b[0;32m    261\u001b[0m         \u001b[1;32mif\u001b[0m \u001b[1;32mnot\u001b[0m \u001b[0mhasattr\u001b[0m\u001b[1;33m(\u001b[0m\u001b[0mself\u001b[0m\u001b[1;33m,\u001b[0m \u001b[1;34m'coef_'\u001b[0m\u001b[1;33m)\u001b[0m \u001b[1;32mor\u001b[0m \u001b[0mself\u001b[0m\u001b[1;33m.\u001b[0m\u001b[0mcoef_\u001b[0m \u001b[1;32mis\u001b[0m \u001b[1;32mNone\u001b[0m\u001b[1;33m:\u001b[0m\u001b[1;33m\u001b[0m\u001b[1;33m\u001b[0m\u001b[0m\n\u001b[0;32m    262\u001b[0m             raise NotFittedError(\"This %(name)s instance is not fitted \"\n\u001b[1;32m--> 263\u001b[1;33m                                  \"yet\" % {'name': type(self).__name__})\n\u001b[0m\u001b[0;32m    264\u001b[0m \u001b[1;33m\u001b[0m\u001b[0m\n\u001b[0;32m    265\u001b[0m         \u001b[0mX\u001b[0m \u001b[1;33m=\u001b[0m \u001b[0mcheck_array\u001b[0m\u001b[1;33m(\u001b[0m\u001b[0mX\u001b[0m\u001b[1;33m,\u001b[0m \u001b[0maccept_sparse\u001b[0m\u001b[1;33m=\u001b[0m\u001b[1;34m'csr'\u001b[0m\u001b[1;33m)\u001b[0m\u001b[1;33m\u001b[0m\u001b[1;33m\u001b[0m\u001b[0m\n",
      "\u001b[1;31mNotFittedError\u001b[0m: This SGDClassifier instance is not fitted yet"
     ]
    }
   ],
   "source": [
    "print('Accuracy: %.3f' %  SGDclassifier.score(X_test, y_test))"
   ]
  },
  {
   "cell_type": "code",
   "execution_count": 191,
   "metadata": {},
   "outputs": [
    {
     "name": "stdout",
     "output_type": "stream",
     "text": [
      "Accuracy: 0.604\n"
     ]
    }
   ],
   "source": [
    "print('Accuracy: %.3f' %  clf.score(X_test, y_test))"
   ]
  },
  {
   "cell_type": "code",
   "execution_count": null,
   "metadata": {},
   "outputs": [],
   "source": [
    "print('Accuracy: %.3f' % BernoulliNBclassifier.score(X_test, y_test))"
   ]
  },
  {
   "cell_type": "markdown",
   "metadata": {},
   "source": [
    "# Prediction "
   ]
  },
  {
   "cell_type": "markdown",
   "metadata": {},
   "source": [
    "# Confusion Matrix\n",
    "   The vast majority of the predictions end up on the diagonal (predicted label = actual label), where we want them to be. However, there are a number of misclassifications,and it might be interesting to see what those are caused by:"
   ]
  },
  {
   "cell_type": "code",
   "execution_count": null,
   "metadata": {},
   "outputs": [],
   "source": [
    "from sklearn.externals import joblib\n",
    "filename = 'sgd_model.sav'\n",
    "joblib.dump(SGDclassifier, filename)\n",
    "filename = 'clf_model.sav'\n",
    "joblib.dump(clf, filename)"
   ]
  },
  {
   "cell_type": "code",
   "execution_count": null,
   "metadata": {},
   "outputs": [],
   "source": [
    "filename = 'clf_model.sav'\n",
    "joblib.dump(clf, filename)"
   ]
  },
  {
   "cell_type": "code",
   "execution_count": 193,
   "metadata": {},
   "outputs": [
    {
     "data": {
      "image/png": "[encoded data removed]",
      "text/plain": [
       "<Figure size 1080x1080 with 2 Axes>"
      ]
     },
     "metadata": {
      "needs_background": "light"
     },
     "output_type": "display_data"
    }
   ],
   "source": [
    "#model = LinearSVC()\n",
    "#X_train, X_test, y_train, y_test, indices_train, indices_test = train_test_split(features, labels, df.index, test_size=0.33, random_state=0)\n",
    "#model.fit(X_train, y_train)\n",
    "y_pred = clf.predict(X_test)\n",
    "from sklearn.metrics import confusion_matrix\n",
    "conf_mat = confusion_matrix(y_test, y_pred)\n",
    "fig, ax = plt.subplots(figsize=(15,15))\n",
    "sns.heatmap(conf_mat, annot=True, fmt='d',\n",
    "            xticklabels=category_id_df.secondarytopic.values, yticklabels=category_id_df.secondarytopic.values)\n",
    "plt.ylabel('Actual')\n",
    "plt.xlabel('Predicted')\n",
    "plt.show()"
   ]
  },
  {
   "cell_type": "markdown",
   "metadata": {},
   "source": [
    "#  SGD classifier Report"
   ]
  },
  {
   "cell_type": "code",
   "execution_count": null,
   "metadata": {},
   "outputs": [],
   "source": [
    "from sklearn import metrics\n",
    "print(metrics.classification_report(y_test, y_pred, target_names=df['secondarytopic'].unique()))"
   ]
  },
  {
   "cell_type": "code",
   "execution_count": null,
   "metadata": {
    "scrolled": false
   },
   "outputs": [],
   "source": [
    "y_pred = clf.predict(X_test)\n",
    "from sklearn.metrics import confusion_matrix\n",
    "conf_mat = confusion_matrix(y_test, y_pred)\n",
    "fig, ax = plt.subplots(figsize=(15,15))\n",
    "sns.heatmap(conf_mat, annot=True, fmt='d',\n",
    "            xticklabels=category_id_df.PrimaryTopic.values, yticklabels=category_id_df.PrimaryTopic.values)\n",
    "plt.ylabel('Actual')\n",
    "plt.xlabel('Predicted')\n",
    "plt.show()"
   ]
  },
  {
   "cell_type": "markdown",
   "metadata": {},
   "source": [
    "# clf report"
   ]
  },
  {
   "cell_type": "code",
   "execution_count": null,
   "metadata": {},
   "outputs": [],
   "source": [
    "from sklearn import metrics\n",
    "print(metrics.classification_report(y_test, y_pred, target_names=df['PrimaryTopic'].unique()))"
   ]
  },
  {
   "cell_type": "code",
   "execution_count": null,
   "metadata": {},
   "outputs": [],
   "source": []
  },
  {
   "cell_type": "code",
   "execution_count": 96,
   "metadata": {},
   "outputs": [
    {
     "name": "stdout",
     "output_type": "stream",
     "text": [
      "-------------CROSS-VALIDATING MODELS-------------\n"
     ]
    },
    {
     "name": "stderr",
     "output_type": "stream",
     "text": [
      "[Parallel(n_jobs=-1)]: Using backend LokyBackend with 8 concurrent workers.\n",
      "[Parallel(n_jobs=-1)]: Done   2 out of   9 | elapsed:    3.7s remaining:   13.2s\n",
      "[Parallel(n_jobs=-1)]: Done   3 out of   9 | elapsed:    3.7s remaining:    7.5s\n",
      "[Parallel(n_jobs=-1)]: Done   4 out of   9 | elapsed:    3.7s remaining:    4.7s\n",
      "[Parallel(n_jobs=-1)]: Done   5 out of   9 | elapsed:    3.7s remaining:    2.9s\n",
      "[Parallel(n_jobs=-1)]: Done   6 out of   9 | elapsed:    3.7s remaining:    1.8s\n",
      "[Parallel(n_jobs=-1)]: Done   7 out of   9 | elapsed:    3.7s remaining:    1.0s\n",
      "[Parallel(n_jobs=-1)]: Done   9 out of   9 | elapsed:    3.7s remaining:    0.0s\n"
     ]
    },
    {
     "ename": "IndexError",
     "evalue": "too many indices for array",
     "output_type": "error",
     "traceback": [
      "\u001b[1;31m---------------------------------------------------------------------------\u001b[0m",
      "\u001b[1;31m_RemoteTraceback\u001b[0m                          Traceback (most recent call last)",
      "\u001b[1;31m_RemoteTraceback\u001b[0m: \n\"\"\"\nTraceback (most recent call last):\n  File \"C:\\Users\\v-savrav\\AppData\\Local\\Continuum\\anaconda3\\lib\\site-packages\\joblib\\externals\\loky\\process_executor.py\", line 418, in _process_worker\n    r = call_item()\n  File \"C:\\Users\\v-savrav\\AppData\\Local\\Continuum\\anaconda3\\lib\\site-packages\\joblib\\externals\\loky\\process_executor.py\", line 272, in __call__\n    return self.fn(*self.args, **self.kwargs)\n  File \"C:\\Users\\v-savrav\\AppData\\Local\\Continuum\\anaconda3\\lib\\site-packages\\joblib\\_parallel_backends.py\", line 567, in __call__\n    return self.func(*args, **kwargs)\n  File \"C:\\Users\\v-savrav\\AppData\\Local\\Continuum\\anaconda3\\lib\\site-packages\\joblib\\parallel.py\", line 225, in __call__\n    for func, args, kwargs in self.items]\n  File \"C:\\Users\\v-savrav\\AppData\\Local\\Continuum\\anaconda3\\lib\\site-packages\\joblib\\parallel.py\", line 225, in <listcomp>\n    for func, args, kwargs in self.items]\n  File \"C:\\Users\\v-savrav\\AppData\\Local\\Continuum\\anaconda3\\lib\\site-packages\\parfit\\crossval.py\", line 47, in crossvalOne\n    for train_index in train_indices\n  File \"C:\\Users\\v-savrav\\AppData\\Local\\Continuum\\anaconda3\\lib\\site-packages\\joblib\\parallel.py\", line 921, in __call__\n    if self.dispatch_one_batch(iterator):\n  File \"C:\\Users\\v-savrav\\AppData\\Local\\Continuum\\anaconda3\\lib\\site-packages\\joblib\\parallel.py\", line 754, in dispatch_one_batch\n    self._pickle_cache)\n  File \"C:\\Users\\v-savrav\\AppData\\Local\\Continuum\\anaconda3\\lib\\site-packages\\joblib\\parallel.py\", line 210, in __init__\n    self.items = list(iterator_slice)\n  File \"C:\\Users\\v-savrav\\AppData\\Local\\Continuum\\anaconda3\\lib\\site-packages\\parfit\\crossval.py\", line 47, in <genexpr>\n    for train_index in train_indices\nIndexError: too many indices for array\n\"\"\"",
      "\nThe above exception was the direct cause of the following exception:\n",
      "\u001b[1;31mIndexError\u001b[0m                                Traceback (most recent call last)",
      "\u001b[1;32m<ipython-input-96-e8b7db70d25c>\u001b[0m in \u001b[0;36m<module>\u001b[1;34m\u001b[0m\n\u001b[0;32m     21\u001b[0m     \u001b[0mX_train\u001b[0m \u001b[1;33m=\u001b[0m \u001b[0mvector\u001b[0m\u001b[1;33m.\u001b[0m\u001b[0mtransform\u001b[0m\u001b[1;33m(\u001b[0m\u001b[0mX_train\u001b[0m\u001b[1;33m)\u001b[0m\u001b[1;33m\u001b[0m\u001b[1;33m\u001b[0m\u001b[0m\n\u001b[0;32m     22\u001b[0m     bestModel, bestScore = pf.bestFit(model, paramGrid, X_train, y_train,\n\u001b[1;32m---> 23\u001b[1;33m                                                         metric = roc_auc_score, greater_is_better = True, scoreLabel = \"AUC\")\n\u001b[0m\u001b[0;32m     24\u001b[0m \u001b[1;33m\u001b[0m\u001b[0m\n\u001b[0;32m     25\u001b[0m \u001b[1;33m\u001b[0m\u001b[0m\n",
      "\u001b[1;32m~\\AppData\\Local\\Continuum\\anaconda3\\lib\\site-packages\\parfit\\parfit.py\u001b[0m in \u001b[0;36mbestFit\u001b[1;34m(model, paramGrid, X_train, y_train, X_val, y_val, nfolds, metric, greater_is_better, predict_proba, showPlot, scoreLabel, vrange, cmap, n_jobs, verbose)\u001b[0m\n\u001b[0;32m     59\u001b[0m         \u001b[0mprint\u001b[0m\u001b[1;33m(\u001b[0m\u001b[1;34m\"-------------CROSS-VALIDATING MODELS-------------\"\u001b[0m\u001b[1;33m)\u001b[0m\u001b[1;33m\u001b[0m\u001b[1;33m\u001b[0m\u001b[0m\n\u001b[0;32m     60\u001b[0m         scores, models = crossvalModels(\n\u001b[1;32m---> 61\u001b[1;33m             \u001b[0mmodel\u001b[0m\u001b[1;33m,\u001b[0m \u001b[0mparamGrid\u001b[0m\u001b[1;33m,\u001b[0m \u001b[0mX_train\u001b[0m\u001b[1;33m,\u001b[0m \u001b[0my_train\u001b[0m\u001b[1;33m,\u001b[0m \u001b[0mnfolds\u001b[0m\u001b[1;33m,\u001b[0m \u001b[0mmetric\u001b[0m\u001b[1;33m,\u001b[0m \u001b[0mpredict_proba\u001b[0m\u001b[1;33m,\u001b[0m \u001b[0mn_jobs\u001b[0m\u001b[1;33m,\u001b[0m \u001b[0mverbose\u001b[0m\u001b[1;33m\u001b[0m\u001b[1;33m\u001b[0m\u001b[0m\n\u001b[0m\u001b[0;32m     62\u001b[0m         )\n\u001b[0;32m     63\u001b[0m     \u001b[1;32melse\u001b[0m\u001b[1;33m:\u001b[0m\u001b[1;33m\u001b[0m\u001b[1;33m\u001b[0m\u001b[0m\n",
      "\u001b[1;32m~\\AppData\\Local\\Continuum\\anaconda3\\lib\\site-packages\\parfit\\crossval.py\u001b[0m in \u001b[0;36mcrossvalModels\u001b[1;34m(model, paramGrid, X, y, nfolds, metric, predict_proba, n_jobs, verbose)\u001b[0m\n\u001b[0;32m     83\u001b[0m         Parallel(n_jobs=n_jobs, verbose=verbose)(\n\u001b[0;32m     84\u001b[0m             \u001b[0mdelayed\u001b[0m\u001b[1;33m(\u001b[0m\u001b[0mcrossvalOne\u001b[0m\u001b[1;33m)\u001b[0m\u001b[1;33m(\u001b[0m\u001b[0mmodel\u001b[0m\u001b[1;33m,\u001b[0m \u001b[0mX\u001b[0m\u001b[1;33m,\u001b[0m \u001b[0my\u001b[0m\u001b[1;33m,\u001b[0m \u001b[0mparams\u001b[0m\u001b[1;33m,\u001b[0m \u001b[0mnfolds\u001b[0m\u001b[1;33m,\u001b[0m \u001b[0mmetric\u001b[0m\u001b[1;33m,\u001b[0m \u001b[0mpredict_proba\u001b[0m\u001b[1;33m,\u001b[0m \u001b[0mn_jobs\u001b[0m\u001b[1;33m,\u001b[0m \u001b[0mnp\u001b[0m\u001b[1;33m.\u001b[0m\u001b[0mceil\u001b[0m\u001b[1;33m(\u001b[0m\u001b[0mverbose\u001b[0m \u001b[1;33m/\u001b[0m \u001b[1;36m10\u001b[0m\u001b[1;33m)\u001b[0m\u001b[1;33m)\u001b[0m\u001b[1;33m\u001b[0m\u001b[1;33m\u001b[0m\u001b[0m\n\u001b[1;32m---> 85\u001b[1;33m             \u001b[1;32mfor\u001b[0m \u001b[0mparams\u001b[0m \u001b[1;32min\u001b[0m \u001b[0mparamGrid\u001b[0m\u001b[1;33m\u001b[0m\u001b[1;33m\u001b[0m\u001b[0m\n\u001b[0m\u001b[0;32m     86\u001b[0m         ),\n\u001b[0;32m     87\u001b[0m         \u001b[0mlist\u001b[0m\u001b[1;33m(\u001b[0m\u001b[0mparamGrid\u001b[0m\u001b[1;33m)\u001b[0m\u001b[1;33m,\u001b[0m\u001b[1;33m\u001b[0m\u001b[1;33m\u001b[0m\u001b[0m\n",
      "\u001b[1;32m~\\AppData\\Local\\Continuum\\anaconda3\\lib\\site-packages\\joblib\\parallel.py\u001b[0m in \u001b[0;36m__call__\u001b[1;34m(self, iterable)\u001b[0m\n\u001b[0;32m    932\u001b[0m \u001b[1;33m\u001b[0m\u001b[0m\n\u001b[0;32m    933\u001b[0m             \u001b[1;32mwith\u001b[0m \u001b[0mself\u001b[0m\u001b[1;33m.\u001b[0m\u001b[0m_backend\u001b[0m\u001b[1;33m.\u001b[0m\u001b[0mretrieval_context\u001b[0m\u001b[1;33m(\u001b[0m\u001b[1;33m)\u001b[0m\u001b[1;33m:\u001b[0m\u001b[1;33m\u001b[0m\u001b[1;33m\u001b[0m\u001b[0m\n\u001b[1;32m--> 934\u001b[1;33m                 \u001b[0mself\u001b[0m\u001b[1;33m.\u001b[0m\u001b[0mretrieve\u001b[0m\u001b[1;33m(\u001b[0m\u001b[1;33m)\u001b[0m\u001b[1;33m\u001b[0m\u001b[1;33m\u001b[0m\u001b[0m\n\u001b[0m\u001b[0;32m    935\u001b[0m             \u001b[1;31m# Make sure that we get a last message telling us we are done\u001b[0m\u001b[1;33m\u001b[0m\u001b[1;33m\u001b[0m\u001b[1;33m\u001b[0m\u001b[0m\n\u001b[0;32m    936\u001b[0m             \u001b[0melapsed_time\u001b[0m \u001b[1;33m=\u001b[0m \u001b[0mtime\u001b[0m\u001b[1;33m.\u001b[0m\u001b[0mtime\u001b[0m\u001b[1;33m(\u001b[0m\u001b[1;33m)\u001b[0m \u001b[1;33m-\u001b[0m \u001b[0mself\u001b[0m\u001b[1;33m.\u001b[0m\u001b[0m_start_time\u001b[0m\u001b[1;33m\u001b[0m\u001b[1;33m\u001b[0m\u001b[0m\n",
      "\u001b[1;32m~\\AppData\\Local\\Continuum\\anaconda3\\lib\\site-packages\\joblib\\parallel.py\u001b[0m in \u001b[0;36mretrieve\u001b[1;34m(self)\u001b[0m\n\u001b[0;32m    831\u001b[0m             \u001b[1;32mtry\u001b[0m\u001b[1;33m:\u001b[0m\u001b[1;33m\u001b[0m\u001b[1;33m\u001b[0m\u001b[0m\n\u001b[0;32m    832\u001b[0m                 \u001b[1;32mif\u001b[0m \u001b[0mgetattr\u001b[0m\u001b[1;33m(\u001b[0m\u001b[0mself\u001b[0m\u001b[1;33m.\u001b[0m\u001b[0m_backend\u001b[0m\u001b[1;33m,\u001b[0m \u001b[1;34m'supports_timeout'\u001b[0m\u001b[1;33m,\u001b[0m \u001b[1;32mFalse\u001b[0m\u001b[1;33m)\u001b[0m\u001b[1;33m:\u001b[0m\u001b[1;33m\u001b[0m\u001b[1;33m\u001b[0m\u001b[0m\n\u001b[1;32m--> 833\u001b[1;33m                     \u001b[0mself\u001b[0m\u001b[1;33m.\u001b[0m\u001b[0m_output\u001b[0m\u001b[1;33m.\u001b[0m\u001b[0mextend\u001b[0m\u001b[1;33m(\u001b[0m\u001b[0mjob\u001b[0m\u001b[1;33m.\u001b[0m\u001b[0mget\u001b[0m\u001b[1;33m(\u001b[0m\u001b[0mtimeout\u001b[0m\u001b[1;33m=\u001b[0m\u001b[0mself\u001b[0m\u001b[1;33m.\u001b[0m\u001b[0mtimeout\u001b[0m\u001b[1;33m)\u001b[0m\u001b[1;33m)\u001b[0m\u001b[1;33m\u001b[0m\u001b[1;33m\u001b[0m\u001b[0m\n\u001b[0m\u001b[0;32m    834\u001b[0m                 \u001b[1;32melse\u001b[0m\u001b[1;33m:\u001b[0m\u001b[1;33m\u001b[0m\u001b[1;33m\u001b[0m\u001b[0m\n\u001b[0;32m    835\u001b[0m                     \u001b[0mself\u001b[0m\u001b[1;33m.\u001b[0m\u001b[0m_output\u001b[0m\u001b[1;33m.\u001b[0m\u001b[0mextend\u001b[0m\u001b[1;33m(\u001b[0m\u001b[0mjob\u001b[0m\u001b[1;33m.\u001b[0m\u001b[0mget\u001b[0m\u001b[1;33m(\u001b[0m\u001b[1;33m)\u001b[0m\u001b[1;33m)\u001b[0m\u001b[1;33m\u001b[0m\u001b[1;33m\u001b[0m\u001b[0m\n",
      "\u001b[1;32m~\\AppData\\Local\\Continuum\\anaconda3\\lib\\site-packages\\joblib\\_parallel_backends.py\u001b[0m in \u001b[0;36mwrap_future_result\u001b[1;34m(future, timeout)\u001b[0m\n\u001b[0;32m    519\u001b[0m         AsyncResults.get from multiprocessing.\"\"\"\n\u001b[0;32m    520\u001b[0m         \u001b[1;32mtry\u001b[0m\u001b[1;33m:\u001b[0m\u001b[1;33m\u001b[0m\u001b[1;33m\u001b[0m\u001b[0m\n\u001b[1;32m--> 521\u001b[1;33m             \u001b[1;32mreturn\u001b[0m \u001b[0mfuture\u001b[0m\u001b[1;33m.\u001b[0m\u001b[0mresult\u001b[0m\u001b[1;33m(\u001b[0m\u001b[0mtimeout\u001b[0m\u001b[1;33m=\u001b[0m\u001b[0mtimeout\u001b[0m\u001b[1;33m)\u001b[0m\u001b[1;33m\u001b[0m\u001b[1;33m\u001b[0m\u001b[0m\n\u001b[0m\u001b[0;32m    522\u001b[0m         \u001b[1;32mexcept\u001b[0m \u001b[0mLokyTimeoutError\u001b[0m\u001b[1;33m:\u001b[0m\u001b[1;33m\u001b[0m\u001b[1;33m\u001b[0m\u001b[0m\n\u001b[0;32m    523\u001b[0m             \u001b[1;32mraise\u001b[0m \u001b[0mTimeoutError\u001b[0m\u001b[1;33m(\u001b[0m\u001b[1;33m)\u001b[0m\u001b[1;33m\u001b[0m\u001b[1;33m\u001b[0m\u001b[0m\n",
      "\u001b[1;32m~\\AppData\\Local\\Continuum\\anaconda3\\lib\\concurrent\\futures\\_base.py\u001b[0m in \u001b[0;36mresult\u001b[1;34m(self, timeout)\u001b[0m\n\u001b[0;32m    430\u001b[0m                 \u001b[1;32mraise\u001b[0m \u001b[0mCancelledError\u001b[0m\u001b[1;33m(\u001b[0m\u001b[1;33m)\u001b[0m\u001b[1;33m\u001b[0m\u001b[1;33m\u001b[0m\u001b[0m\n\u001b[0;32m    431\u001b[0m             \u001b[1;32melif\u001b[0m \u001b[0mself\u001b[0m\u001b[1;33m.\u001b[0m\u001b[0m_state\u001b[0m \u001b[1;33m==\u001b[0m \u001b[0mFINISHED\u001b[0m\u001b[1;33m:\u001b[0m\u001b[1;33m\u001b[0m\u001b[1;33m\u001b[0m\u001b[0m\n\u001b[1;32m--> 432\u001b[1;33m                 \u001b[1;32mreturn\u001b[0m \u001b[0mself\u001b[0m\u001b[1;33m.\u001b[0m\u001b[0m__get_result\u001b[0m\u001b[1;33m(\u001b[0m\u001b[1;33m)\u001b[0m\u001b[1;33m\u001b[0m\u001b[1;33m\u001b[0m\u001b[0m\n\u001b[0m\u001b[0;32m    433\u001b[0m             \u001b[1;32melse\u001b[0m\u001b[1;33m:\u001b[0m\u001b[1;33m\u001b[0m\u001b[1;33m\u001b[0m\u001b[0m\n\u001b[0;32m    434\u001b[0m                 \u001b[1;32mraise\u001b[0m \u001b[0mTimeoutError\u001b[0m\u001b[1;33m(\u001b[0m\u001b[1;33m)\u001b[0m\u001b[1;33m\u001b[0m\u001b[1;33m\u001b[0m\u001b[0m\n",
      "\u001b[1;32m~\\AppData\\Local\\Continuum\\anaconda3\\lib\\concurrent\\futures\\_base.py\u001b[0m in \u001b[0;36m__get_result\u001b[1;34m(self)\u001b[0m\n\u001b[0;32m    382\u001b[0m     \u001b[1;32mdef\u001b[0m \u001b[0m__get_result\u001b[0m\u001b[1;33m(\u001b[0m\u001b[0mself\u001b[0m\u001b[1;33m)\u001b[0m\u001b[1;33m:\u001b[0m\u001b[1;33m\u001b[0m\u001b[1;33m\u001b[0m\u001b[0m\n\u001b[0;32m    383\u001b[0m         \u001b[1;32mif\u001b[0m \u001b[0mself\u001b[0m\u001b[1;33m.\u001b[0m\u001b[0m_exception\u001b[0m\u001b[1;33m:\u001b[0m\u001b[1;33m\u001b[0m\u001b[1;33m\u001b[0m\u001b[0m\n\u001b[1;32m--> 384\u001b[1;33m             \u001b[1;32mraise\u001b[0m \u001b[0mself\u001b[0m\u001b[1;33m.\u001b[0m\u001b[0m_exception\u001b[0m\u001b[1;33m\u001b[0m\u001b[1;33m\u001b[0m\u001b[0m\n\u001b[0m\u001b[0;32m    385\u001b[0m         \u001b[1;32melse\u001b[0m\u001b[1;33m:\u001b[0m\u001b[1;33m\u001b[0m\u001b[1;33m\u001b[0m\u001b[0m\n\u001b[0;32m    386\u001b[0m             \u001b[1;32mreturn\u001b[0m \u001b[0mself\u001b[0m\u001b[1;33m.\u001b[0m\u001b[0m_result\u001b[0m\u001b[1;33m\u001b[0m\u001b[1;33m\u001b[0m\u001b[0m\n",
      "\u001b[1;31mIndexError\u001b[0m: too many indices for array"
     ]
    }
   ],
   "source": [
    "from sklearn.model_selection import ParameterGrid\n",
    "from sklearn.linear_model import SGDClassifier\n",
    "from sklearn.metrics import roc_auc_score\n",
    "\n",
    "from parfit import bestFit\n",
    "import parfit as pf\n",
    "\n",
    "model =SGDClassifier()\n",
    "grid ={ \n",
    "'alpha' : [1e-4,1e-3,1e-2,1e-1,1e0,1e1,1e2,1e3,1e4], #learning rate \n",
    "#epoch\n",
    "'loss'  : ['log'], #logistic regression \n",
    "'penalty':['l2'], \n",
    "'n_jobs': [-1]\n",
    "}\n",
    "paramGrid = ParameterGrid(grid)\n",
    "\n",
    "\n",
    "for i in range(iterations):\n",
    "    X_train, y_train = getBatch(tweet_gen, size=batchSize)\n",
    "    X_train = vector.transform(X_train)\n",
    "    bestModel, bestScore = pf.bestFit(model, paramGrid, X_train, y_train,\n",
    "                                                        metric = roc_auc_score, greater_is_better = True, scoreLabel = \"AUC\")\n",
    "\n",
    "    \n",
    "    progressBar.update()"
   ]
  }
 ],
 "metadata": {
  "kernelspec": {
   "display_name": "Python 3",
   "language": "python",
   "name": "python3"
  },
  "language_info": {
   "codemirror_mode": {
    "name": "ipython",
    "version": 3
   },
   "file_extension": ".py",
   "mimetype": "text/x-python",
   "name": "python",
   "nbconvert_exporter": "python",
   "pygments_lexer": "ipython3",
   "version": "3.7.3"
  }
 },
 "nbformat": 4,
 "nbformat_minor": 2
}
