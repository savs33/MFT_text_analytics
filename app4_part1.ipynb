{
 "cells": [
  {
   "cell_type": "code",
   "execution_count": 1,
   "metadata": {},
   "outputs": [],
   "source": [
    "import math\n",
    "import json\n",
    "import requests\n",
    "import pandas as pd\n",
    "from pathlib import Path\n",
    "from typing import *\n",
    "import torch\n",
    "import torch.optim as optim\n",
    "import numpy as np\n",
    "import pandas as pd\n",
    "from functools import partial\n",
    "from overrides import overrides\n",
    "from allennlp.data import Instance\n",
    "from allennlp.data.token_indexers import TokenIndexer\n",
    "from allennlp.data.tokenizers import Token\n",
    "from allennlp.nn import util as nn_util\n",
    "from allennlp.modules.elmo import Elmo, batch_to_ids\n",
    "import warnings\n",
    "from collections import defaultdict\n",
    "from allennlp import predictors\n",
    "from allennlp.predictors import Predictor\n",
    "import spacy\n",
    "spacy.load('en_core_web_sm')\n",
    "import re\n",
    "import math\n",
    "import json\n",
    "import requests\n",
    "import pandas as pd\n",
    "#from allennlp.models.archival import load_arc"
   ]
  },
  {
   "cell_type": "code",
   "execution_count": 2,
   "metadata": {},
   "outputs": [],
   "source": [
    "import pyodbc \n",
    "conn = pyodbc.connect('Driver={SQL Server};'\n",
    "                      'Server=azgovprdsql11;'\n",
    "                      'Database=OneFinReports;'\n",
    "                      'Trusted_Connection=yes;')\n",
    "cursor = conn.cursor()\n",
    "#tkt=str(args['tkt'][0])\n",
    "#params=tkt"
   ]
  },
  {
   "cell_type": "code",
   "execution_count": 3,
   "metadata": {},
   "outputs": [],
   "source": [
    "REQUEST = json.dumps({\n",
    "'path' : {},\n",
    "'args' : {}\n",
    "})\n",
    "request = json.loads(REQUEST)\n",
    "code = request['path'].get('code')"
   ]
  },
  {
   "cell_type": "code",
   "execution_count": 6,
   "metadata": {},
   "outputs": [
    {
     "name": "stdout",
     "output_type": "stream",
     "text": [
      "{\"ticket_Noresults\": null}\n"
     ]
    }
   ],
   "source": [
    "# GET/api1\n",
    "req = json.loads(REQUEST)\n",
    "args = req['args']\n",
    "if 'tkt' not in args:\n",
    "    print(json.dumps({'ticket_Noresults': None}))\n",
    "else:\n",
    "    tkt=str(request.args['tkt'])\n",
    "    sp4 = \"\"\"EXEC [dbo].[SPVRef_Ticket]    @TicketNumber=?\"\"\"\n",
    "    params=tkt\n",
    "    cursor.execute(sp4,params)\n",
    "    column_names_list = [x[0] for x in cursor.description]\n",
    "    result_dicts = [dict(zip(column_names_list, row)) for row in cursor.fetchall()]\n",
    "    df=pd.DataFrame(result_dicts)\n",
    "    converted=df.to_json(orient='records')\n",
    "    print(converted)"
   ]
  },
  {
   "cell_type": "code",
   "execution_count": null,
   "metadata": {},
   "outputs": [],
   "source": []
  },
  {
   "cell_type": "code",
   "execution_count": null,
   "metadata": {},
   "outputs": [],
   "source": []
  }
 ],
 "metadata": {
  "kernelspec": {
   "display_name": "Python 3",
   "language": "python",
   "name": "python3"
  },
  "language_info": {
   "codemirror_mode": {
    "name": "ipython",
    "version": 3
   },
   "file_extension": ".py",
   "mimetype": "text/x-python",
   "name": "python",
   "nbconvert_exporter": "python",
   "pygments_lexer": "ipython3",
   "version": "3.7.3"
  }
 },
 "nbformat": 4,
 "nbformat_minor": 2
}
