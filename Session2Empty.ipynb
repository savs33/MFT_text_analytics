{
 "cells": [
  {
   "cell_type": "markdown",
   "metadata": {},
   "source": [
    "# Overview\n",
    "\n",
    "\n",
    "- **2.0. Recap**\n",
    "  - 2.0.1. *Perceptron*\n",
    "  - 2.0.2. *Gradient Descent*\n",
    "  - 2.0.3. *Training with PyTorch*\n",
    "<br><br>\n",
    "\n",
    "- **2.1. Autograd**\n",
    "  - 2.1.1. *NN from Scratch*\n",
    "  - 2.1.2. *Autograd with `loss.backward()`*\n",
    "  - 2.1.3. *Forward propagation with `nn.Module`*\n",
    "  - 2.1.4. *Parameter updates with `torch.optim`*\n",
    "<br><br>\n",
    "\n",
    "- **2.2. Activation Functions**\n",
    "  - 2.2.1. *Sigmoid*\n",
    "  - 2.2.2. *Other S-Shaped Activations*\n",
    "  - 2.2.3. *More Activations*\n",
    "  - 2.2.4. *Activation with PyTorch*\n",
    "<br><br>\n",
    "\n",
    "<!--\n",
    "- **2.3. Loss Functions**\n",
    "  - 2.3.1. *L1 Loss (MAE) and L2 Loss (MSE)*\n",
    "  - 2.3.2. *Negative Log Likelihood* \n",
    "  - 2.3.3. *Cross-Entropy*\n",
    "<br><br>\n",
    "\n",
    "- **2.4. Optimizers**\n",
    "  - 2.4.1. *Gradient Descent*\n",
    "  - 2.4.2. *Stochastic Gradient Descent*\n",
    "  - 2.4.3. *Adam*\n",
    "  - 2.4.4. *Learning Rate Scheduler*\n",
    "<br><br>\n",
    "-->"
   ]
  },
  {
   "cell_type": "code",
   "execution_count": 1,
   "metadata": {},
   "outputs": [],
   "source": [
    "# IPython candies...\n",
    "from IPython.display import Image\n",
    "from IPython.core.display import HTML\n",
    "\n",
    "from IPython.display import clear_output"
   ]
  },
  {
   "cell_type": "code",
   "execution_count": 2,
   "metadata": {},
   "outputs": [],
   "source": [
    "import matplotlib.pyplot as plt\n",
    "import numpy as np\n",
    "import seaborn as sns\n",
    "\n",
    "sns.set_style(\"darkgrid\")\n",
    "sns.set(rc={'figure.figsize':(12, 8)})"
   ]
  },
  {
   "cell_type": "markdown",
   "metadata": {},
   "source": [
    "## 2.0.1.  Perceptron (Recap)\n",
    "\n",
    "\n",
    "Given a set of inputs $x$, the perceptron \n",
    "\n",
    " - learns $w$ tensor to map the inputs to a real-value output between $[0,1]$\n",
    " - through the summation of the dot product of the $w·x$ \n",
    " - with a transformation function (aka. activation function), e.g. sigmoid function\n",
    " \n",
    " \n",
    "### In Math:\n",
    "\n",
    "$ \\ \\ \\ \\ \\ \\ \\ \\ \\ sigmoid(s) = 1 / (1+e^{-s})$\n",
    "\n",
    "$ \\ \\ \\ \\ \\ \\ \\ \\ \\ perceptron(x) = sigmoid(\\sum_{ 1 }^{ n }{w \\cdot x})$\n",
    "\n",
    "where $n$ is the no. of inputs.\n",
    "\n",
    "### In Picture:"
   ]
  },
  {
   "cell_type": "code",
   "execution_count": 377,
   "metadata": {},
   "outputs": [
    {
     "data": {
      "text/html": [
       "<img src=\"https://ibin.co/4TyMU8AdpV4J.png\" width=\"500\"/>"
      ],
      "text/plain": [
       "<IPython.core.display.Image object>"
      ]
     },
     "execution_count": 377,
     "metadata": {},
     "output_type": "execute_result"
    }
   ],
   "source": [
    "Image(url=\"https://ibin.co/4TyMU8AdpV4J.png\", width=500)"
   ]
  },
  {
   "cell_type": "markdown",
   "metadata": {},
   "source": [
    "(**Note:** Usually, we use $x_1$ as the bias and fix the input to 1)"
   ]
  },
  {
   "cell_type": "markdown",
   "metadata": {},
   "source": [
    "# 2.0.2. Gradient Descent (Recap)\n",
    "\n",
    "To learn the $w$ tensor, **gradient descent methods**, e.g. stochastic gradient descent (SGD) or SGD with momentum (Adam) is used to \n",
    "\n",
    " - minimize the loss/difference between \n",
    " - $y$: the desired truth value given the same $x$ inputs and \n",
    " - $\\hat{y}$: the output of the perceptron\n",
    "\n",
    "\n",
    "#### Mean Absolute Loss (L1 Loss):\n",
    "\n",
    "$ \\ \\ \\ \\ \\ \\ \\ \\ \\ mae = \\frac { 1 }{ m }  \\sum_{ 1 }^{ m }{|y-\\hat{y}|}$\n",
    "\n",
    "\n",
    "\n",
    "#### Mean Square Loss (L2 Loss):\n",
    "\n",
    "$ \\ \\ \\ \\ \\ \\ \\ \\ \\ mse = \\frac { 1 }{ m } \\sum_{ 1 }^{ m }{(y-\\hat{y})^2}$\n",
    "\n",
    "where $m$ is the no. of predictions made by the perceptron."
   ]
  },
  {
   "cell_type": "markdown",
   "metadata": {},
   "source": [
    "# 2.0.3. Training Multi-Layered Perceptron with PyTorch\n",
    "\n",
    "To train a model using PyTorch, we simply iterate through the no. of epochs and imperatively state the computations we want to perform. \n",
    "\n",
    "## Remember the steps?\n",
    "\n",
    " 1. Initialize \n",
    "   - model and its layers, hidden dimensions and activation functions.\n",
    "   - optimizers and its learning rate\n",
    "   - loss function\n",
    "   - stopping criteria\n",
    " 2. Forward Propagation\n",
    " 3. Backward Propagation\n",
    " 4. Update Optimizer"
   ]
  },
  {
   "cell_type": "code",
   "execution_count": 4,
   "metadata": {},
   "outputs": [
    {
     "name": "stdout",
     "output_type": "stream",
     "text": [
      "Inputs Dim: 2\n",
      "Output Dim: 1\n",
      "No. of Data: 4\n"
     ]
    }
   ],
   "source": [
    "from tqdm import tqdm\n",
    "import numpy as np\n",
    "\n",
    "import torch\n",
    "from torch import nn\n",
    "from torch import tensor\n",
    "from torch import optim\n",
    "\n",
    "import matplotlib.pyplot as plt\n",
    "\n",
    "torch.manual_seed(42)\n",
    "device = 'cuda' if torch.cuda.is_available() else 'cpu'\n",
    "\n",
    "# XOR gate inputs and outputs.\n",
    "X = xor_input = tensor([[0,0], [0,1], [1,0], [1,1]]).float().to(device)\n",
    "Y = xor_output = tensor([[0],[1],[1],[0]]).float().to(device)\n",
    "\n",
    "# Use tensor.shape to get the shape of the matrix/tensor.\n",
    "num_data, input_dim = X.shape\n",
    "print('Inputs Dim:', input_dim) # i.e. n=2 \n",
    "\n",
    "num_data, output_dim = Y.shape\n",
    "print('Output Dim:', output_dim) \n",
    "print('No. of Data:', num_data) # i.e. n=4"
   ]
  },
  {
   "cell_type": "code",
   "execution_count": 5,
   "metadata": {},
   "outputs": [
    {
     "name": "stderr",
     "output_type": "stream",
     "text": [
      "100%|████████████████████████████████████████████████████████████████████████████| 5000/5000 [00:03<00:00, 1628.61it/s]\n"
     ]
    },
    {
     "data": {
      "text/plain": [
       "[<matplotlib.lines.Line2D at 0x2ad30575eb8>]"
      ]
     },
     "execution_count": 5,
     "metadata": {},
     "output_type": "execute_result"
    },
    {
     "data": {
      "image/png": "[encoded data removed]",
      "text/plain": [
       "<Figure size 432x288 with 1 Axes>"
      ]
     },
     "metadata": {},
     "output_type": "display_data"
    }
   ],
   "source": [
    "# Step 1: Initialization. \n",
    "\n",
    "# Initialize the model.\n",
    "# Set the hidden dimension size.\n",
    "hidden_dim = 10\n",
    "# Use Sequential to define a simple feed-forward network.\n",
    "model = nn.Sequential(\n",
    "            # Use nn.Linear to get our simple perceptron.\n",
    "            nn.Linear(input_dim, hidden_dim),\n",
    "            # Use nn.Sigmoid to get our sigmoid non-linearity.\n",
    "            nn.Sigmoid(),\n",
    "            # Second layer neurons.\n",
    "            nn.Linear(hidden_dim, output_dim),\n",
    "            nn.Sigmoid()\n",
    "        )\n",
    "\n",
    "# Initialize the optimizer\n",
    "learning_rate = 0.3\n",
    "optimizer = optim.SGD(model.parameters(), lr=learning_rate)\n",
    "\n",
    "# Initialize the loss function.\n",
    "criterion = nn.MSELoss()\n",
    "\n",
    "# Initialize the stopping criteria\n",
    "# For simplicity, just stop training after certain no. of epochs.\n",
    "num_epochs = 5000 \n",
    "\n",
    "losses = [] # Keeps track of the loses.\n",
    "\n",
    "# Step 2-4 of training routine.\n",
    "\n",
    "for _e in tqdm(range(num_epochs)):\n",
    "    # Reset the gradient after every epoch. \n",
    "    optimizer.zero_grad() \n",
    "    # Step 2: Foward Propagation\n",
    "    predictions = model(X)\n",
    "    \n",
    "    # Step 3: Back Propagation \n",
    "    # Calculate the cost between the predictions and the truth.\n",
    "    loss = criterion(predictions, Y)\n",
    "    # Remember to back propagate the loss you've computed above.\n",
    "    loss.backward()\n",
    "    \n",
    "    # Step 4: Optimizer take a step and update the weights.\n",
    "    optimizer.step()\n",
    "    \n",
    "    # Log the loss value as we proceed through the epochs.\n",
    "    losses.append(loss.data.item())\n",
    "    \n",
    "\n",
    "plt.plot(losses)"
   ]
  },
  {
   "cell_type": "markdown",
   "metadata": {},
   "source": [
    "# 2.1. Autograd\n",
    "\n",
    "In this section, we'll see how PyTorch does the `loss.backward()` and `optimizer.step()` behind the scenes.\n",
    "\n",
    "\n",
    "## 2.1.1. NN from Scratch \n",
    "\n",
    "Before that lets relive the pains of coding neural nets from scratch (with `numpy`)..."
   ]
  },
  {
   "cell_type": "code",
   "execution_count": 6,
   "metadata": {},
   "outputs": [
    {
     "data": {
      "image/png": "[encoded data removed]",
      "text/plain": [
       "<Figure size 432x288 with 1 Axes>"
      ]
     },
     "metadata": {},
     "output_type": "display_data"
    }
   ],
   "source": [
    "import matplotlib.pyplot as plt\n",
    "import numpy as np\n",
    "np.random.seed(0)\n",
    "\n",
    "def sigmoid(x): # Returns values that sums to one.\n",
    "    return 1 / (1 + np.exp(-x))\n",
    "\n",
    "def sigmoid_derivative(sx):\n",
    "    # See https://math.stackexchange.com/a/1225116\n",
    "    return sx * (1 - sx)\n",
    "\n",
    "# Cost functions.\n",
    "def mse(predicted, truth):\n",
    "    return np.square(predicted - truth).mean()\n",
    "\n",
    "def mse_derivative(predicted, truth):\n",
    "    # See https://math.stackexchange.com/a/1962938/34255\n",
    "    return 2 * (predicted - truth)\n",
    "\n",
    "X = xor_input = np.array([[0,0], [0,1], [1,0], [1,1]])\n",
    "Y = xor_output = np.array([[0,1,1,0]]).T\n",
    "\n",
    "# Define the shape of the weight vector.\n",
    "num_data, input_dim = X.shape\n",
    "# Lets set the dimensions for the intermediate layer.\n",
    "hidden_dim = 5\n",
    "# Initialize weights between the input layers and the hidden layer.\n",
    "W1 = np.random.random((input_dim, hidden_dim))\n",
    "\n",
    "# Define the shape of the output vector. \n",
    "output_dim = len(Y.T)\n",
    "# Initialize weights between the hidden layers and the output layer.\n",
    "W2 = np.random.random((hidden_dim, output_dim))\n",
    "\n",
    "# Initialize weigh\n",
    "num_epochs = 5000\n",
    "learning_rate = 0.15\n",
    "\n",
    "losses = []\n",
    "\n",
    "for epoch_n in range(num_epochs):\n",
    "    layer0 = X\n",
    "    # Forward propagation.\n",
    "    \n",
    "    # Inside the perceptron, Step 2. \n",
    "    layer1 = sigmoid(np.dot(layer0, W1))\n",
    "    layer2 = sigmoid(np.dot(layer1, W2))\n",
    "\n",
    "    # Back propagation (Y -> layer2)\n",
    "    # How much did we miss in the predictions?\n",
    "    cost_error = mse(layer2, Y)\n",
    "    \n",
    "    # In what direction is the target value?\n",
    "    # Were we really close? If so, don't change too much.\n",
    "    layer2_error = mse_derivative(layer2, Y)\n",
    "    layer2_delta = layer2_error *  sigmoid_derivative(layer2)\n",
    "    \n",
    "    # Back propagation (layer2 -> layer1)\n",
    "    # How much did each layer1 value contribute to the layer2 error (according to the weights)?\n",
    "    layer1_error = np.dot(layer2_delta, W2.T)\n",
    "    layer1_delta = layer1_error * sigmoid_derivative(layer1)\n",
    "    \n",
    "    # update weights\n",
    "    W2 += - learning_rate * np.dot(layer1.T, layer2_delta)\n",
    "    W1 += - learning_rate * np.dot(layer0.T, layer1_delta)\n",
    "    #print(np.dot(layer0.T, layer1_delta))\n",
    "    #print(epoch_n, list((layer2)))\n",
    "    \n",
    "    # Log the loss value as we proceed through the epochs.\n",
    "    losses.append(cost_error)\n",
    "    #print(cost_delta)\n",
    "\n",
    "    \n",
    "# Visualize the losses\n",
    "plt.plot(losses)\n",
    "plt.show()"
   ]
  },
  {
   "cell_type": "markdown",
   "metadata": {},
   "source": [
    "## 2.1.2. Autograd with `loss.backward()`\n",
    "\n",
    "The nice thing about the `loss.backward()` function is that it does automatic gradient backpropagation and **we don't have to go through the multiple dot products on layer errors and deltas** =)\n",
    "\n",
    "To do so lets use\n",
    "\n",
    " - `torch.tensor()` objects to initialize X and Y.\n",
    " - `torch.randn()` objects to initialize the W1 and W2\n",
    " - `torch.exp` and `torch.mean` to replace the numpy functions.\n"
   ]
  },
  {
   "cell_type": "code",
   "execution_count": 9,
   "metadata": {},
   "outputs": [
    {
     "name": "stderr",
     "output_type": "stream",
     "text": [
      "100%|███████████████████████████████████████████████████████████████████████████| 10000/10000 [00:10<00:00, 977.17it/s]\n"
     ]
    },
    {
     "data": {
      "image/png": "[encoded data removed]",
      "text/plain": [
       "<Figure size 432x288 with 1 Axes>"
      ]
     },
     "metadata": {},
     "output_type": "display_data"
    }
   ],
   "source": [
    "def sigmoid(x): # Returns values that sums to one.\n",
    "    return 1 / (1 + torch.exp(-x))\n",
    "\n",
    "# Cost functions.\n",
    "def mse(predicted, truth):\n",
    "    return torch.mean((predicted - truth)**2)\n",
    "\n",
    "X = xor_input = torch.tensor([[0,0], [0,1], [1,0], [1,1]]).float().to(device)\n",
    "Y = xor_output = torch.tensor([[0], [1], [1], [0]]).float().to(device)\n",
    "\n",
    "# Define the shape of the weight vector.\n",
    "num_data, input_dim = X.shape\n",
    "hidden_dim = 5\n",
    "output_dim = len(Y)\n",
    "# When we initialize tensors that needs updating, we use `require_grad=True` \n",
    "# for autograd to kick in later on.\n",
    "W1 = torch.randn(input_dim, hidden_dim, requires_grad=True).to(device)\n",
    "W2 = torch.randn(hidden_dim, output_dim, requires_grad=True).to(device)\n",
    "\n",
    "\n",
    "num_epochs = 10000\n",
    "learning_rate = 0.3\n",
    "\n",
    "losses = []\n",
    "\n",
    "for epoch_n in tqdm(range(num_epochs)):\n",
    "    layer0 = X\n",
    "    # See https://pytorch.org/docs/stable/torch.html#torch.mm\n",
    "    # Use the torch.tensor.mm() instead of np.dot()\n",
    "    layer1 = sigmoid(X.mm(W1))\n",
    "    layer2 = sigmoid(layer1.mm(W2))\n",
    "\n",
    "    # Loss is a Tensor of torch.Size([]), so and loss.item() is a scalar/float.\n",
    "    # Try printing `print(loss.shape)` to confirm the above.\n",
    "    loss = mse(layer2, Y)\n",
    "    # Keep track of the losses.\n",
    "    losses.append(loss.item())\n",
    "    \n",
    "    # The `loss.backward()` will compute the gradient of loss w.r.t. all\n",
    "    # tensors that has `requires_grad=True`.\n",
    "    # After this, W1.grad and W2.grad will hold the gradients of \n",
    "    # the loss w.r.t. to W1 and W2 respectively.\n",
    "    loss.backward()\n",
    "    \n",
    "    # Now we have the backpropagated gradients, we want to update the weights.\n",
    "    # Whenever you perform tensor operations on tensors that has `requires_grad=True`,\n",
    "    # pytorch will try to build computation graph. For now, we only need to \n",
    "    # force the updates of our weights without forming more computation graph,\n",
    "    # so we use the no_grad() context manager:\n",
    "    with torch.no_grad():\n",
    "        W1 += -learning_rate * W1.grad\n",
    "        W2 += -learning_rate * W2.grad\n",
    "        \n",
    "    # Manually zero the gradients after running the backward pass.\n",
    "    # Every epoch our graphs needs to be re-computed. \n",
    "    W1.grad.zero_()\n",
    "    W2.grad.zero_()\n",
    "\n",
    "# Visualize the losses\n",
    "plt.plot(losses)\n",
    "plt.show()"
   ]
  },
  {
   "cell_type": "markdown",
   "metadata": {},
   "source": [
    "### Play around with the code above\n",
    "\n",
    " - See what's the gradient values after `loss.backward()`, **print out `W1.grad` and `W2.grad`** \n",
    " <br><br>\n",
    " - Check **what happens when you don't have `torch.no_grad()`** context manager, (hint: pytorch will complain)\n",
    " <br><br>\n",
    " - **What happens when you don't zero the gradients?** How will it affect the loss? \n",
    " <br><br>\n",
    " - Note that in both the sigmoid and the MSE function, **we didn't declare any derivatives** \n",
    "   - the `torch.autograd` module has helped do the grunt work of computing backpropagation\n",
    "   - It's out of scope for this course to create custom `backward()` autograd function, but I'll leave you with [this tutorial](https://github.com/jcjohnson/pytorch-examples#pytorch-defining-new-autograd-functions)\n",
    " "
   ]
  },
  {
   "cell_type": "markdown",
   "metadata": {},
   "source": [
    "## 2.1.3. Forward Propagation with `nn.Module`\n",
    "\n",
    "Now that we know how the backpropagation is automated with autograd, we should have similar mechanism when we declare a complicated neural network and forward propagate too. The `nn` package in PyTorch serves this purpose.\n",
    "\n",
    "An `nn.Module` receive input tensors and compute the output tensor. Depending on the `nn.Module` type, it might also hold learnable weights/parameters tensors.\n",
    "\n",
    "Previously we were declaring the network and initialize the learnable weights/parameters in a raw manner:\n",
    "\n",
    "```python\n",
    "X = xor_input = torch.tensor([[0,0], [0,1], [1,0], [1,1]]).float().to(device)\n",
    "Y = xor_output = torch.tensor([[0], [1], [1], [0]]).float().to(device)\n",
    "\n",
    "num_data, input_dim = X.shape\n",
    "hidden_dim = 5\n",
    "output_dim = len(Y)\n",
    "\n",
    "W1 = torch.randn(input_dim, hidden_dim, requires_grad=True).to(device)\n",
    "W2 = torch.randn(hidden_dim, output_dim, requires_grad=True).to(device)\n",
    "```\n",
    "\n",
    "Then we had to apply the layers and activation manually during the training routine:\n",
    "\n",
    "```python\n",
    "for epoch_n in tqdm(range(num_epochs)):\n",
    "    layer0 = X\n",
    "    layer1 = sigmoid(X.mm(W1))\n",
    "    layer2 = sigmoid(layer1.mm(W2))\n",
    "\n",
    "```\n",
    "\n",
    "Instead of doing that we can define our model as a sequence of layers with `nn.Sequential(...)`, e.g. \n",
    "\n",
    "```python\n",
    "\n",
    "model = torch.nn.Sequential(\n",
    "          torch.nn.Linear(input_dim, hidden_dim),\n",
    "          torch.nn.Sigmoid(),\n",
    "          torch.nn.Linear(hidden_dim, output_dim),\n",
    "          torch.nn.Sigmoid()\n",
    "        )\n",
    "\n",
    "```\n",
    "\n",
    "And even the loss function can be a `nn.Module`, e.g. \n",
    "\n",
    "```python\n",
    "criterion = nn.MSELoss()\n",
    "```\n",
    "\n",
    "And forward propagation would be simply this:\n"
   ]
  },
  {
   "cell_type": "code",
   "execution_count": 10,
   "metadata": {},
   "outputs": [
    {
     "name": "stderr",
     "output_type": "stream",
     "text": [
      "100%|██████████████████████████████████████████████████████████████████████████| 10000/10000 [00:09<00:00, 1061.23it/s]\n"
     ]
    },
    {
     "data": {
      "image/png": "[encoded data removed]",
      "text/plain": [
       "<Figure size 432x288 with 1 Axes>"
      ]
     },
     "metadata": {},
     "output_type": "display_data"
    }
   ],
   "source": [
    "X = xor_input = torch.tensor([[0,0], [0,1], [1,0], [1,1]]).float().to(device)\n",
    "Y = xor_output = torch.tensor([[0], [1], [1], [0]]).float().to(device)\n",
    "\n",
    "# Define the shape of the weight vector.\n",
    "num_data, input_dim = X.shape\n",
    "hidden_dim = 5\n",
    "output_dim = len(Y)\n",
    "\n",
    "# Initialize the network as an nn.Sequential.\n",
    "model = nn.Sequential(\n",
    "          nn.Linear(input_dim, hidden_dim),\n",
    "          nn.Sigmoid(),\n",
    "          nn.Linear(hidden_dim, output_dim),\n",
    "          nn.Sigmoid()\n",
    "        ).to(device)\n",
    "\n",
    "# Declare the loss function as an nn.Module.\n",
    "criterion = nn.MSELoss()\n",
    "\n",
    "num_epochs = 10000\n",
    "learning_rate = 0.3\n",
    "\n",
    "losses = []\n",
    "\n",
    "for epoch_n in tqdm(range(num_epochs)):\n",
    "    # Forward propagation.\n",
    "    predictions = model(X)\n",
    "    # Compute Loss\n",
    "    loss = criterion(predictions, Y)\n",
    "    # Keep track of the losses.\n",
    "    losses.append(loss.item())\n",
    "    \n",
    "    # Backpropagation.\n",
    "    loss.backward()\n",
    "    \n",
    "    # Instead of manually coding which weight tensors to update,\n",
    "    # we iterate through all the layers in the model, and update \n",
    "    # the parameters by access the backpropdated gradients respectively.\n",
    "    with torch.no_grad():\n",
    "        for param in model.parameters():\n",
    "            # Remember each parameter keeps their own .grad tensors after loss.backward()\n",
    "            param.data += -learning_rate * param.grad\n",
    "        \n",
    "    # Zero the gradients after running the backward pass, \n",
    "    # the nn.Sequential will automatically go to each learnable parameter\n",
    "    # to zero its gradient.\n",
    "    model.zero_grad()\n",
    "\n",
    "# Visualize the losses\n",
    "plt.plot(losses)\n",
    "plt.show()"
   ]
  },
  {
   "cell_type": "markdown",
   "metadata": {},
   "source": [
    "## 2.1.4. Parameter updates with `torch.optim`\n",
    "\n",
    "Updating the weights is the last step to automating the backpropagation and weights updates. For this, the `torch.optim` package handles the learning rate updates that we've been doing manually, i.e. \n",
    "\n",
    "```python\n",
    "with torch.no_grad():\n",
    "    for param in model.parameters():\n",
    "        param.data += -learning_rate * param.grad\n",
    "```\n",
    "\n",
    "We use the objects in the `torch.optim` module to initialize the optimizer objects that will help hold the gradients updates according to the `model.parameters()` it's initialized with. E.g. \n"
   ]
  },
  {
   "cell_type": "code",
   "execution_count": 11,
   "metadata": {},
   "outputs": [
    {
     "name": "stderr",
     "output_type": "stream",
     "text": [
      "100%|██████████████████████████████████████████████████████████████████████████| 10000/10000 [00:06<00:00, 1455.14it/s]\n"
     ]
    },
    {
     "data": {
      "image/png": "[encoded data removed]",
      "text/plain": [
       "<Figure size 432x288 with 1 Axes>"
      ]
     },
     "metadata": {},
     "output_type": "display_data"
    }
   ],
   "source": [
    "# Initialize the network as an nn.Sequential.\n",
    "model = nn.Sequential(\n",
    "          nn.Linear(input_dim, hidden_dim),\n",
    "          nn.Sigmoid(),\n",
    "          nn.Linear(hidden_dim, output_dim),\n",
    "          nn.Sigmoid()\n",
    "        ).to(device)\n",
    "\n",
    "# Declare the loss function as an nn.Module.\n",
    "criterion = nn.MSELoss()\n",
    "\n",
    "num_epochs = 10000\n",
    "learning_rate = 0.3\n",
    "\n",
    "# Initialize the optimizer that'll help us with the parameters updates.\n",
    "optimizer = torch.optim.SGD(model.parameters(), lr=learning_rate)\n",
    "\n",
    "losses = []\n",
    "\n",
    "for epoch_n in tqdm(range(num_epochs)):\n",
    "    # When we move on in this epoch, we should forget the .grad tensors\n",
    "    # in the previous epoch since we already made the updates. \n",
    "    optimizer.zero_grad()\n",
    "    \n",
    "    # Forward propagation.\n",
    "    predictions = model(X)\n",
    "    # Compute Loss\n",
    "    loss = criterion(predictions, Y)\n",
    "    # Keep track of the losses.\n",
    "    losses.append(loss.item())\n",
    "    \n",
    "    # Backpropagation.\n",
    "    loss.backward()\n",
    "    \n",
    "    # The step() function will update the parameters in the models that \n",
    "    # has the .grad tensors respectively.\n",
    "    optimizer.step()\n",
    "\n",
    "\n",
    "# Visualize the losses\n",
    "plt.plot(losses)\n",
    "plt.show()"
   ]
  },
  {
   "cell_type": "markdown",
   "metadata": {},
   "source": [
    "# 2.2. Activation Functions\n",
    "\n",
    "They are the transformation functions within the perceptrons. \n",
    "\n",
    "\n",
    "## 2.2.1 Sigmoid\n",
    "\n",
    "Previously we have seen the S-shaped ***sigmoid*** function:\n",
    "\n",
    "$\\large \\text{sigmoid}(x) = \\frac{1}{1 + \\exp(-x)}$\n",
    "\n",
    "\n",
    "The main properties of the ***sigmoid*** are:\n",
    "\n",
    " - \"squeezes\" into to a range between (0,1)\n",
    " - use as activation function for neural nets\n",
    " - use for binary classification in logistic regression \n"
   ]
  },
  {
   "cell_type": "code",
   "execution_count": 12,
   "metadata": {},
   "outputs": [
    {
     "data": {
      "image/png": "[encoded data removed]",
      "text/plain": [
       "<Figure size 432x288 with 1 Axes>"
      ]
     },
     "metadata": {},
     "output_type": "display_data"
    }
   ],
   "source": [
    "def sigmoid(x):\n",
    "    return 1 / (1+np.exp(-x))\n",
    "\n",
    "def sigmoid_derivative(sx):\n",
    "    # sx = sigmoid(x)\n",
    "    return sx * (1 - sx)\n",
    "\n",
    "x = np.arange(-10, 10, 0.1)\n",
    "y = sigmoid(x)\n",
    "\n",
    "plt.plot(x,y)\n",
    "plt.show()"
   ]
  },
  {
   "cell_type": "markdown",
   "metadata": {},
   "source": [
    "## 2.2.2. Other S-Shaped Activations\n",
    "\n",
    "There are other S-shaped activation functions that shares similar properties as the ***sigmoid***, e.g.\n",
    "\n",
    "<!--\n",
    "$\\large \\tanh(x) = \\frac{e^x - e^{-x}} {e^x + e^{-x}}$\n",
    "-->\n"
   ]
  },
  {
   "cell_type": "code",
   "execution_count": 13,
   "metadata": {},
   "outputs": [
    {
     "data": {
      "image/png": "[encoded data removed]",
      "text/plain": [
       "<Figure size 432x288 with 1 Axes>"
      ]
     },
     "metadata": {},
     "output_type": "display_data"
    }
   ],
   "source": [
    "def tanh(x):\n",
    "    # https://www.numpy.org/devdocs/reference/generated/numpy.tanh.html\n",
    "    return np.tanh(x)\n",
    "\n",
    "def arctan(x):\n",
    "    # https://www.numpy.org/devdocs/reference/generated/numpy.arctan.html \n",
    "    return np.arctan(x)\n",
    "\n",
    "x = np.arange(-10, 10, 0.1)\n",
    "y1 = sigmoid(x)\n",
    "y2 = tanh(x)\n",
    "y3 = arctan(x)\n",
    "\n",
    "\n",
    "plt.plot(x,y1, label='sigmoid')\n",
    "plt.plot(x,y2, label='tanh')\n",
    "plt.plot(x,y3, label='arctan')\n",
    "plt.legend(loc='upper left')\n",
    "plt.show()"
   ]
  },
  {
   "cell_type": "markdown",
   "metadata": {},
   "source": [
    "## 2.2.3. More Activations\n",
    "\n",
    "***Softmax*** is an activation is used quite a lot in NLP. \n",
    "\n",
    "$\\Large \\text{Softmax}(x_{i}) = \\frac{\\exp(x_i)}{\\sum_j \\exp(x_j)}$\n",
    "\n",
    "Because it has the special properties of ***changing values in a 1-D vector to a probabilistic interpretation***, <br>i.e. the **sum of the softmax output sums to 1.0**.\n"
   ]
  },
  {
   "cell_type": "code",
   "execution_count": 14,
   "metadata": {},
   "outputs": [
    {
     "name": "stdout",
     "output_type": "stream",
     "text": [
      "Sum of softmax(x) = 1.0\n"
     ]
    }
   ],
   "source": [
    "def softmax(x):\n",
    "    return np.exp(x) / np.sum(np.exp(x), axis=0)\n",
    "\n",
    "x = np.arange(-10, 10, 0.1)\n",
    "y1 = softmax(x)\n",
    "#y2 = relu(x)\n",
    "\n",
    "print('Sum of softmax(x) =', y1.sum())"
   ]
  },
  {
   "cell_type": "code",
   "execution_count": 15,
   "metadata": {},
   "outputs": [
    {
     "data": {
      "image/png": "[encoded data removed]",
      "text/plain": [
       "<Figure size 432x288 with 1 Axes>"
      ]
     },
     "metadata": {},
     "output_type": "display_data"
    }
   ],
   "source": [
    "plt.plot(x,y1, label='softmax')\n",
    "plt.legend(loc='upper left')\n",
    "plt.show()"
   ]
  },
  {
   "cell_type": "markdown",
   "metadata": {},
   "source": [
    "***Rectified Linear Unit (ReLU)*** is another common activation function , it simply checks whether the input is more than zero element-wise, if input is sub-zero, the ReLU output is clipped at zero:\n",
    "\n",
    "$\\large \\text{ReLU}(x)= \\max(0, x)$\n",
    "\n"
   ]
  },
  {
   "cell_type": "code",
   "execution_count": 16,
   "metadata": {},
   "outputs": [
    {
     "data": {
      "image/png": "[encoded data removed]",
      "text/plain": [
       "<Figure size 432x288 with 1 Axes>"
      ]
     },
     "metadata": {},
     "output_type": "display_data"
    }
   ],
   "source": [
    "def relu(x):\n",
    "    return x * (x > 0)\n",
    "\n",
    "y2 = relu(x)\n",
    "\n",
    "plt.plot(x,y2, label='relu', color='orange')\n",
    "plt.legend(loc='upper left')\n",
    "plt.show()"
   ]
  },
  {
   "cell_type": "markdown",
   "metadata": {},
   "source": [
    "**Scaled Exponential Linear Units** is one of the many latest activation kid on the block. It's suppose to impose ***self-normalizing properties*** to the neural nets such that the training is more stable for deeper networks.\n",
    "\n",
    "$\\text{SELU}(x) = \\text{scale} * (\\max(0,x) + \\min(0, \\alpha * (\\exp(x) - 1)))$\n",
    "\n",
    "where, \n",
    "\n",
    "$\\alpha = 1.6732632423543772848170429916717$ and <br>\n",
    "$\\text{scale} = 1.0507009873554804934193349852946$\n",
    "\n",
    "On [paper](https://arxiv.org/pdf/1706.02515.pdf) (Klambauer et al. 2017) showed that it outperforms many other regularization/normalization tricks. "
   ]
  },
  {
   "cell_type": "code",
   "execution_count": 18,
   "metadata": {},
   "outputs": [
    {
     "data": {
      "image/png": "[encoded data removed]",
      "text/plain": [
       "<Figure size 432x288 with 1 Axes>"
      ]
     },
     "metadata": {},
     "output_type": "display_data"
    }
   ],
   "source": [
    "def selu(x):\n",
    "    alpha = 1.6732632423543772848170429916717\n",
    "    scale = 1.0507009873554804934193349852946\n",
    "    return (np.maximum(0, x) + np.minimum(0, alpha*(np.exp(x)-1)))\n",
    "\n",
    "y3 = selu(x)\n",
    "\n",
    "plt.plot(x,y3, label='selu', color='green')\n",
    "plt.legend(loc='upper left')\n",
    "plt.show()"
   ]
  },
  {
   "cell_type": "code",
   "execution_count": 19,
   "metadata": {},
   "outputs": [
    {
     "data": {
      "image/png": "[encoded data removed]",
      "text/plain": [
       "<Figure size 432x288 with 1 Axes>"
      ]
     },
     "metadata": {},
     "output_type": "display_data"
    }
   ],
   "source": [
    "x = np.arange(-10, 10, 0.1)\n",
    "\n",
    "y1 = softmax(x)\n",
    "y2 = relu(x)\n",
    "y3 = selu(x)\n",
    "\n",
    "plt.plot(x,y1, label='softmax')\n",
    "plt.plot(x,y2, label='relu', color='orange')\n",
    "plt.plot(x,y3, label='selu', color='green')\n",
    "plt.legend(loc='upper left')\n",
    "plt.show()"
   ]
  },
  {
   "cell_type": "markdown",
   "metadata": {},
   "source": [
    "## 2.2.4. Activation with PyTorch"
   ]
  },
  {
   "cell_type": "code",
   "execution_count": 20,
   "metadata": {},
   "outputs": [
    {
     "name": "stderr",
     "output_type": "stream",
     "text": [
      "C:\\Users\\monis\\Anaconda3\\lib\\site-packages\\ipykernel_launcher.py:17: UserWarning: Implicit dimension choice for softmax has been deprecated. Change the call to include dim=X as an argument.\n"
     ]
    },
    {
     "data": {
      "image/png": "[encoded data removed]",
      "text/plain": [
       "<Figure size 432x288 with 1 Axes>"
      ]
     },
     "metadata": {},
     "output_type": "display_data"
    }
   ],
   "source": [
    "import torch\n",
    "from torch import nn\n",
    "\n",
    "x = torch.tensor(np.arange(-10, 10, 0.1))\n",
    "\n",
    "# See https://pytorch.org/docs/stable/nn.html#non-linear-activations-weighted-sum-nonlinearity \n",
    "a1 = nn.Sigmoid()\n",
    "a2 = nn.Tanh()    # Fill in the tanh function.\n",
    "a3 = nn.Softmax() # Fill in the softmax function.\n",
    "a4 = nn.ReLU()    # Fill-in the relu func.\n",
    "a5 = nn.SELU()    # Fill in the selu func.\n",
    "\n",
    "# pyplot only accepts numpy arrays...\n",
    "# Pardon the laziness\n",
    "y1 = a1(x).numpy() \n",
    "y2 = a2(x).numpy() \n",
    "y3 = a3(x).numpy() \n",
    "y4 = a4(x).numpy() \n",
    "y5 = a5(x).numpy()\n",
    "x = x.numpy()\n",
    "\n",
    "plt.plot(x,y1, label='sigmoid')\n",
    "plt.plot(x,y2, label='tanh')\n",
    "plt.plot(x,y3, label='softmax')\n",
    "plt.plot(x,y4, label='relu')\n",
    "plt.plot(x,y5, label='selu')\n",
    "plt.legend(loc='upper left')\n",
    "plt.show()"
   ]
  }
 ],
 "metadata": {
  "kernelspec": {
   "display_name": "Python 3",
   "language": "python",
   "name": "python3"
  },
  "language_info": {
   "codemirror_mode": {
    "name": "ipython",
    "version": 3
   },
   "file_extension": ".py",
   "mimetype": "text/x-python",
   "name": "python",
   "nbconvert_exporter": "python",
   "pygments_lexer": "ipython3",
   "version": "3.7.3"
  }
 },
 "nbformat": 4,
 "nbformat_minor": 2
}
